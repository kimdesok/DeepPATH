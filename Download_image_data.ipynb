{
  "nbformat": 4,
  "nbformat_minor": 0,
  "metadata": {
    "colab": {
      "name": "Untitled33.ipynb",
      "provenance": [],
      "mount_file_id": "1kcCC7BIgSo0UC22V6BEIpEV-vDVObCnh",
      "authorship_tag": "ABX9TyPklWtRzhOx97RDHmc1tElq",
      "include_colab_link": true
    },
    "kernelspec": {
      "name": "python3",
      "display_name": "Python 3"
    },
    "language_info": {
      "name": "python"
    }
  },
  "cells": [
    {
      "cell_type": "markdown",
      "metadata": {
        "id": "view-in-github",
        "colab_type": "text"
      },
      "source": [
        "<a href=\"https://colab.research.google.com/github/kimdesok/DeepPATH/blob/master/Download_image_data.ipynb\" target=\"_parent\"><img src=\"https://colab.research.google.com/assets/colab-badge.svg\" alt=\"Open In Colab\"/></a>"
      ]
    },
    {
      "cell_type": "code",
      "execution_count": 1,
      "metadata": {
        "colab": {
          "base_uri": "https://localhost:8080/"
        },
        "id": "gCkxAzWGCR8t",
        "outputId": "402935c5-0763-479d-d017-ba64006db10d"
      },
      "outputs": [
        {
          "output_type": "stream",
          "name": "stdout",
          "text": [
            "--2021-12-29 13:15:34--  https://gdc.cancer.gov/files/public/file/gdc-client_v1.6.1_Ubuntu_x64.zip\n",
            "Resolving gdc.cancer.gov (gdc.cancer.gov)... 151.101.1.193, 151.101.65.193, 151.101.129.193, ...\n",
            "Connecting to gdc.cancer.gov (gdc.cancer.gov)|151.101.1.193|:443... connected.\n",
            "HTTP request sent, awaiting response... 200 OK\n",
            "Length: 23940006 (23M) [application/zip]\n",
            "Saving to: ‘temp.zip’\n",
            "\n",
            "temp.zip            100%[===================>]  22.83M   130MB/s    in 0.2s    \n",
            "\n",
            "2021-12-29 13:15:35 (130 MB/s) - ‘temp.zip’ saved [23940006/23940006]\n",
            "\n"
          ]
        }
      ],
      "source": [
        "!wget 'https://gdc.cancer.gov/files/public/file/gdc-client_v1.6.1_Ubuntu_x64.zip' -O temp.zip"
      ]
    },
    {
      "cell_type": "code",
      "source": [
        "!apt-get install unzip\n",
        "!unzip temp.zip"
      ],
      "metadata": {
        "colab": {
          "base_uri": "https://localhost:8080/"
        },
        "id": "jcdImkPxCWld",
        "outputId": "147096cd-27fa-4b90-ab55-5c787ee6ac00"
      },
      "execution_count": 2,
      "outputs": [
        {
          "output_type": "stream",
          "name": "stdout",
          "text": [
            "Reading package lists... Done\n",
            "Building dependency tree       \n",
            "Reading state information... Done\n",
            "unzip is already the newest version (6.0-21ubuntu1.1).\n",
            "0 upgraded, 0 newly installed, 0 to remove and 37 not upgraded.\n",
            "Archive:  temp.zip\n",
            " extracting: gdc-client              \n"
          ]
        }
      ]
    },
    {
      "cell_type": "code",
      "source": [
        "!!wget \"https://github.com/kimdesok/DeepPATH/blob/e78f9ac32785e41911667b5bc98bde61ac8c974f/DeepPATH_code/example_TCGA_lung/gdc_manifest_20170302_003611.txt\""
      ],
      "metadata": {
        "colab": {
          "base_uri": "https://localhost:8080/"
        },
        "id": "qXhlN1TdCoQW",
        "outputId": "9dc01c7f-b1c4-4ddd-a7e8-040e77289490"
      },
      "execution_count": null,
      "outputs": [
        {
          "output_type": "execute_result",
          "data": {
            "text/plain": [
              "['--2021-12-29 07:14:47--  https://github.com/kimdesok/DeepPATH/blob/e78f9ac32785e41911667b5bc98bde61ac8c974f/DeepPATH_code/example_TCGA_lung/gdc_manifest_20170302_003611.txt',\n",
              " 'Resolving github.com (github.com)... 140.82.114.4',\n",
              " 'Connecting to github.com (github.com)|140.82.114.4|:443... connected.',\n",
              " 'HTTP request sent, awaiting response... 200 OK',\n",
              " 'Length: unspecified [text/html]',\n",
              " 'Saving to: ‘gdc_manifest_20170302_003611.txt’',\n",
              " '',\n",
              " '',\n",
              " '          gdc_manif     [<=>                 ]       0  --.-KB/s               ',\n",
              " 'gdc_manifest_201703     [ <=>                ] 942.85K  --.-KB/s    in 0.04s   ',\n",
              " '',\n",
              " '2021-12-29 07:14:47 (20.5 MB/s) - ‘gdc_manifest_20170302_003611.txt’ saved [965481]',\n",
              " '']"
            ]
          },
          "metadata": {},
          "execution_count": 4
        }
      ]
    },
    {
      "cell_type": "code",
      "source": [
        "!cp -pi ./gdc-client /usr/local/bin\n",
        "!source "
      ],
      "metadata": {
        "id": "VmO2qd4uW-px"
      },
      "execution_count": 4,
      "outputs": []
    },
    {
      "cell_type": "code",
      "source": [
        "!ls /usr/local/bin/g*"
      ],
      "metadata": {
        "colab": {
          "base_uri": "https://localhost:8080/"
        },
        "id": "5o2lZAiVXfqK",
        "outputId": "bf83e2a6-8ca1-4298-8b71-47d5349cd7a1"
      },
      "execution_count": 11,
      "outputs": [
        {
          "output_type": "stream",
          "name": "stdout",
          "text": [
            "/usr/local/bin/gdc-client    /usr/local/bin/glacier\n",
            "/usr/local/bin/gdown\t     /usr/local/bin/google\n",
            "/usr/local/bin/get_objgraph  /usr/local/bin/google-oauthlib-tool\n",
            "/usr/local/bin/gifmaker.py   /usr/local/bin/gunicorn\n",
            "/usr/local/bin/gifmaker.pyc  /usr/local/bin/gunicorn_paster\n",
            "Get:1 https://cloud.r-project.org/bin/linux/ubuntu bionic-cran40/ InRelease [3,626 B]\n",
            "Ign:2 https://developer.download.nvidia.com/compute/cuda/repos/ubuntu1804/x86_64  InRelease\n",
            "Get:3 http://ppa.launchpad.net/c2d4u.team/c2d4u4.0+/ubuntu bionic InRelease [15.9 kB]\n",
            "Get:4 http://security.ubuntu.com/ubuntu bionic-security InRelease [88.7 kB]\n",
            "Ign:5 https://developer.download.nvidia.com/compute/machine-learning/repos/ubuntu1804/x86_64  InRelease\n",
            "Get:6 https://developer.download.nvidia.com/compute/cuda/repos/ubuntu1804/x86_64  Release [696 B]\n",
            "Hit:7 https://developer.download.nvidia.com/compute/machine-learning/repos/ubuntu1804/x86_64  Release\n",
            "Get:8 https://developer.download.nvidia.com/compute/cuda/repos/ubuntu1804/x86_64  Release.gpg [836 B]\n",
            "Hit:9 http://archive.ubuntu.com/ubuntu bionic InRelease\n",
            "Get:10 http://archive.ubuntu.com/ubuntu bionic-updates InRelease [88.7 kB]\n",
            "Hit:11 http://ppa.launchpad.net/cran/libgit2/ubuntu bionic InRelease\n",
            "Get:12 https://cloud.r-project.org/bin/linux/ubuntu bionic-cran40/ Packages [73.9 kB]\n",
            "Get:13 http://ppa.launchpad.net/deadsnakes/ppa/ubuntu bionic InRelease [15.9 kB]\n",
            "Get:14 http://archive.ubuntu.com/ubuntu bionic-backports InRelease [74.6 kB]\n",
            "Hit:16 http://ppa.launchpad.net/graphics-drivers/ppa/ubuntu bionic InRelease\n",
            "Get:17 https://developer.download.nvidia.com/compute/cuda/repos/ubuntu1804/x86_64  Packages [833 kB]\n",
            "Get:18 http://ppa.launchpad.net/c2d4u.team/c2d4u4.0+/ubuntu bionic/main Sources [1,821 kB]\n",
            "Get:19 http://security.ubuntu.com/ubuntu bionic-security/main amd64 Packages [2,461 kB]\n",
            "Get:20 http://archive.ubuntu.com/ubuntu bionic-updates/main amd64 Packages [2,898 kB]\n",
            "Get:21 http://security.ubuntu.com/ubuntu bionic-security/restricted amd64 Packages [691 kB]\n",
            "Get:22 http://security.ubuntu.com/ubuntu bionic-security/universe amd64 Packages [1,452 kB]\n",
            "Get:23 http://ppa.launchpad.net/c2d4u.team/c2d4u4.0+/ubuntu bionic/main amd64 Packages [934 kB]\n",
            "Get:24 http://archive.ubuntu.com/ubuntu bionic-updates/universe amd64 Packages [2,230 kB]\n",
            "Get:25 http://archive.ubuntu.com/ubuntu bionic-backports/universe amd64 Packages [12.6 kB]\n",
            "Get:26 http://archive.ubuntu.com/ubuntu bionic-backports/main amd64 Packages [11.6 kB]\n",
            "Get:27 http://ppa.launchpad.net/deadsnakes/ppa/ubuntu bionic/main amd64 Packages [45.3 kB]\n",
            "Fetched 13.8 MB in 4s (3,626 kB/s)\n",
            "Reading package lists... Done\n"
          ]
        }
      ]
    },
    {
      "cell_type": "code",
      "source": [
        "!sudo chmod +x /usr/local/bin/gdc-client"
      ],
      "metadata": {
        "id": "3DPFm6twcJEq"
      },
      "execution_count": 36,
      "outputs": []
    },
    {
      "cell_type": "code",
      "source": [
        "%cd /usr/local/bin"
      ],
      "metadata": {
        "colab": {
          "base_uri": "https://localhost:8080/"
        },
        "id": "SOUH7pEMdYba",
        "outputId": "649c3cfb-87de-4984-dda1-97c355c47380"
      },
      "execution_count": 26,
      "outputs": [
        {
          "output_type": "stream",
          "name": "stdout",
          "text": [
            "/usr/local/bin\n"
          ]
        }
      ]
    },
    {
      "cell_type": "code",
      "source": [
        "!ls -al g*"
      ],
      "metadata": {
        "colab": {
          "base_uri": "https://localhost:8080/"
        },
        "id": "9DWwzsM-dvyp",
        "outputId": "4d0186f6-c354-4b2b-8e4c-84f157aabc98"
      },
      "execution_count": 27,
      "outputs": [
        {
          "output_type": "stream",
          "name": "stdout",
          "text": [
            "-rwxr-xr-x 1 root root 23939888 Apr 13  2021 gdc-client\n",
            "-rwxr-xr-x 1 root root      208 Dec  3 14:54 gdown\n",
            "-rwxr-xr-x 1 root root     1651 Dec  3 14:54 get_objgraph\n",
            "-rwxr-xr-x 1 root root      641 Dec  3 14:54 gifmaker.py\n",
            "-rw-r--r-- 1 root root      619 Dec  3 14:54 gifmaker.pyc\n",
            "-rwxr-xr-x 1 root root     5244 Dec  3 14:54 glacier\n",
            "-rwxr-xr-x 1 root root     4765 Dec  3 14:54 google\n",
            "-rwxr-xr-x 1 root root      233 Dec  3 14:54 google-oauthlib-tool\n",
            "-rwxr-xr-x 1 root root      217 Dec  3 14:54 gunicorn\n",
            "-rwxr-xr-x 1 root root      219 Dec  3 14:54 gunicorn_paster\n"
          ]
        }
      ]
    },
    {
      "cell_type": "code",
      "source": [
        "%cd /content"
      ],
      "metadata": {
        "colab": {
          "base_uri": "https://localhost:8080/"
        },
        "id": "7GLS2R-Nd-IB",
        "outputId": "6439aeef-d9e1-4c27-bdfa-060158f7b14d"
      },
      "execution_count": 33,
      "outputs": [
        {
          "output_type": "stream",
          "name": "stdout",
          "text": [
            "/content\n"
          ]
        }
      ]
    },
    {
      "cell_type": "code",
      "source": [
        "!gdc-client --help"
      ],
      "metadata": {
        "colab": {
          "base_uri": "https://localhost:8080/"
        },
        "id": "_YDR221Meehp",
        "outputId": "30cd1a1a-64c5-4825-bb1c-d628773f91df"
      },
      "execution_count": 38,
      "outputs": [
        {
          "output_type": "stream",
          "name": "stdout",
          "text": [
            "usage: gdc-client [-h] [--version] {download,upload,settings} ...\n",
            "\n",
            "The Genomic Data Commons Command Line Client\n",
            "\n",
            "optional arguments:\n",
            "  -h, --help            show this help message and exit\n",
            "  --version             show program's version number and exit\n",
            "\n",
            "commands:\n",
            "  {download,upload,settings}\n",
            "                        for more information, specify -h after a command\n",
            "    download            download data from the GDC\n",
            "    upload              upload data to the GDC\n",
            "    settings            display default settings\n"
          ]
        }
      ]
    },
    {
      "cell_type": "code",
      "source": [
        "!gdc-client download -m '/content/gdc_manifest.2021-12-29.txt'"
      ],
      "metadata": {
        "colab": {
          "base_uri": "https://localhost:8080/"
        },
        "id": "QfiQLfJzGbk0",
        "outputId": "91b190f1-f8c3-4d0c-aa66-f7e3d548e388"
      },
      "execution_count": 41,
      "outputs": [
        {
          "output_type": "stream",
          "name": "stdout",
          "text": [
            "100% [#############################################] Time:  0:00:07  27.8 MiB/s \n",
            "100% [#############################################] Time:  0:00:13  28.2 MiB/s \n",
            "100% [#############################################] Time:  0:00:05  24.7 MiB/s \n",
            "100% [#############################################] Time:  0:00:43  31.4 MiB/s \n",
            "100% [#############################################] Time:  0:00:09  28.0 MiB/s \n",
            "100% [#############################################] Time:  0:00:09  28.1 MiB/s \n",
            "100% [#############################################] Time:  0:00:03  20.1 MiB/s \n",
            "100% [#############################################] Time:  0:00:15  29.1 MiB/s \n",
            "100% [#############################################] Time:  0:00:05  25.5 MiB/s \n",
            "100% [#############################################] Time:  0:00:15  29.8 MiB/s \n",
            "100% [#############################################] Time:  0:00:08  27.1 MiB/s \n",
            "100% [#############################################] Time:  0:00:02  20.5 MiB/s \n",
            "100% [#############################################] Time:  0:00:02  17.8 MiB/s \n",
            "100% [#############################################] Time:  0:00:12  29.6 MiB/s \n",
            "100% [#############################################] Time:  0:00:04  26.9 MiB/s \n",
            "  9% [####                                         ] ETA:   0:00:48  27.4 MiB/s \u001b[31mERROR: \u001b[0mProcess stopped by user.\n",
            "\u001b[31mERROR: \u001b[0mProcess stopped by user.\n",
            "Process Process-47:\n",
            "Traceback (most recent call last):\n",
            "Process Process-48:\n",
            "Traceback (most recent call last):\n",
            "  File \"gdc_client-1.6.1-py3.7.egg/gdc_client/parcel/client.py\", line 215, in download_worker\n",
            "  File \"<string>\", line 2, in put\n",
            "  File \"multiprocessing/managers.py\", line 819, in _callmethod\n",
            "  File \"multiprocessing/connection.py\", line 250, in recv\n",
            "  File \"multiprocessing/connection.py\", line 407, in _recv_bytes\n",
            "  File \"multiprocessing/connection.py\", line 379, in _recv\n",
            "ConnectionResetError: [Errno 104] Connection reset by peer\n",
            "\n",
            "During handling of the above exception, another exception occurred:\n",
            "\n",
            "Traceback (most recent call last):\n",
            "  File \"multiprocessing/process.py\", line 297, in _bootstrap\n",
            "  File \"multiprocessing/process.py\", line 99, in run\n",
            "  File \"gdc_client-1.6.1-py3.7.egg/gdc_client/parcel/client.py\", line 219, in download_worker\n",
            "  File \"<string>\", line 2, in put\n",
            "  File \"multiprocessing/managers.py\", line 818, in _callmethod\n",
            "  File \"multiprocessing/connection.py\", line 206, in send\n",
            "  File \"multiprocessing/connection.py\", line 404, in _send_bytes\n",
            "  File \"multiprocessing/connection.py\", line 368, in _send\n",
            "BrokenPipeError: [Errno 32] Broken pipe\n",
            "  File \"gdc_client-1.6.1-py3.7.egg/gdc_client/parcel/client.py\", line 215, in download_worker\n",
            "  File \"<string>\", line 2, in put\n",
            "  File \"multiprocessing/managers.py\", line 819, in _callmethod\n",
            "  File \"multiprocessing/connection.py\", line 250, in recv\n",
            "  File \"multiprocessing/connection.py\", line 407, in _recv_bytes\n",
            "  File \"multiprocessing/connection.py\", line 379, in _recv\n",
            "ConnectionResetError: [Errno 104] Connection reset by peer\n",
            "\n",
            "During handling of the above exception, another exception occurred:\n",
            "\n",
            "Traceback (most recent call last):\n",
            "  File \"multiprocessing/process.py\", line 297, in _bootstrap\n",
            "  File \"multiprocessing/process.py\", line 99, in run\n",
            "  File \"gdc_client-1.6.1-py3.7.egg/gdc_client/parcel/client.py\", line 219, in download_worker\n",
            "  File \"<string>\", line 2, in put\n",
            "  File \"multiprocessing/managers.py\", line 818, in _callmethod\n",
            "  File \"multiprocessing/connection.py\", line 206, in send\n",
            "  File \"multiprocessing/connection.py\", line 404, in _send_bytes\n",
            "  File \"multiprocessing/connection.py\", line 368, in _send\n",
            "BrokenPipeError: [Errno 32] Broken pipe\n",
            "N/A% [                                               ] ETA:  --:--:--   0.0 s/B \u001b[31mERROR: \u001b[0mProcess stopped by user.\n",
            "Process Process-51:\n",
            "\u001b[31mERROR: \u001b[0mProcess stopped by user.\n",
            "Traceback (most recent call last):\n",
            "Process Process-50:\n",
            "Traceback (most recent call last):\n",
            "  File \"gdc_client-1.6.1-py3.7.egg/gdc_client/parcel/client.py\", line 215, in download_worker\n",
            "  File \"<string>\", line 2, in put\n",
            "  File \"multiprocessing/managers.py\", line 818, in _callmethod\n",
            "  File \"multiprocessing/connection.py\", line 206, in send\n",
            "  File \"multiprocessing/connection.py\", line 404, in _send_bytes\n",
            "  File \"multiprocessing/connection.py\", line 368, in _send\n",
            "BrokenPipeError: [Errno 32] Broken pipe\n",
            "\n",
            "During handling of the above exception, another exception occurred:\n",
            "\n",
            "Traceback (most recent call last):\n",
            "  File \"multiprocessing/process.py\", line 297, in _bootstrap\n",
            "  File \"multiprocessing/process.py\", line 99, in run\n",
            "  File \"gdc_client-1.6.1-py3.7.egg/gdc_client/parcel/client.py\", line 219, in download_worker\n",
            "  File \"<string>\", line 2, in put\n",
            "  File \"multiprocessing/managers.py\", line 818, in _callmethod\n",
            "  File \"multiprocessing/connection.py\", line 206, in send\n",
            "  File \"multiprocessing/connection.py\", line 404, in _send_bytes\n",
            "  File \"multiprocessing/connection.py\", line 368, in _send\n",
            "BrokenPipeError: [Errno 32] Broken pipe\n",
            "  File \"gdc_client-1.6.1-py3.7.egg/gdc_client/parcel/client.py\", line 215, in download_worker\n",
            "  File \"<string>\", line 2, in put\n",
            "  File \"multiprocessing/managers.py\", line 819, in _callmethod\n",
            "  File \"multiprocessing/connection.py\", line 250, in recv\n",
            "  File \"multiprocessing/connection.py\", line 407, in _recv_bytes\n",
            "  File \"multiprocessing/connection.py\", line 379, in _recv\n",
            "ConnectionResetError: [Errno 104] Connection reset by peer\n",
            "\n",
            "During handling of the above exception, another exception occurred:\n",
            "\n",
            "Traceback (most recent call last):\n",
            "  File \"multiprocessing/process.py\", line 297, in _bootstrap\n",
            "  File \"multiprocessing/process.py\", line 99, in run\n",
            "  File \"gdc_client-1.6.1-py3.7.egg/gdc_client/parcel/client.py\", line 219, in download_worker\n",
            "  File \"<string>\", line 2, in put\n",
            "  File \"multiprocessing/managers.py\", line 818, in _callmethod\n",
            "  File \"multiprocessing/connection.py\", line 206, in send\n",
            "  File \"multiprocessing/connection.py\", line 404, in _send_bytes\n",
            "  File \"multiprocessing/connection.py\", line 368, in _send\n",
            "BrokenPipeError: [Errno 32] Broken pipe\n",
            "^C\n"
          ]
        }
      ]
    },
    {
      "cell_type": "code",
      "source": [
        "!source ~/.cshrc"
      ],
      "metadata": {
        "colab": {
          "base_uri": "https://localhost:8080/"
        },
        "id": "iVpGG5xBYsv4",
        "outputId": "948ac98d-3f84-49c6-d4a2-8e327741ffa3"
      },
      "execution_count": 15,
      "outputs": [
        {
          "output_type": "stream",
          "name": "stdout",
          "text": [
            "/bin/bash: /root/.cshrc: No such file or directory\n"
          ]
        }
      ]
    },
    {
      "cell_type": "code",
      "source": [
        "!echo $PATH"
      ],
      "metadata": {
        "colab": {
          "base_uri": "https://localhost:8080/"
        },
        "id": "CHiOJ87LDlQd",
        "outputId": "940800f7-29f1-4db3-9714-a7c91ebc9135"
      },
      "execution_count": null,
      "outputs": [
        {
          "output_type": "stream",
          "name": "stdout",
          "text": [
            "/usr/local/nvidia/bin:/usr/local/cuda/bin:/usr/local/sbin:/usr/local/bin:/usr/sbin:/usr/bin:/sbin:/bin:/tools/node/bin:/tools/google-cloud-sdk/bin:/opt/bin\n"
          ]
        }
      ]
    },
    {
      "cell_type": "code",
      "source": [
        "./gdc-client download -m gdc_manifest_20170302_003611.txt"
      ],
      "metadata": {
        "colab": {
          "base_uri": "https://localhost:8080/",
          "height": 35
        },
        "id": "lOisBiMWGHDF",
        "outputId": "4a92c0aa-55a1-4e77-aca3-7f77368bbb9f"
      },
      "execution_count": null,
      "outputs": [
        {
          "output_type": "execute_result",
          "data": {
            "application/vnd.google.colaboratory.intrinsic+json": {
              "type": "string"
            },
            "text/plain": [
              "'./gdc-client download -m gdc_manifest_20170302_003611.txt'"
            ]
          },
          "metadata": {},
          "execution_count": 25
        }
      ]
    },
    {
      "cell_type": "code",
      "source": [
        "!cat /etc/os-release"
      ],
      "metadata": {
        "colab": {
          "base_uri": "https://localhost:8080/"
        },
        "id": "qQecIqnsJQMW",
        "outputId": "3a680f70-c34f-4bd4-866f-75add6935018"
      },
      "execution_count": null,
      "outputs": [
        {
          "output_type": "stream",
          "name": "stdout",
          "text": [
            "NAME=\"Ubuntu\"\n",
            "VERSION=\"18.04.5 LTS (Bionic Beaver)\"\n",
            "ID=ubuntu\n",
            "ID_LIKE=debian\n",
            "PRETTY_NAME=\"Ubuntu 18.04.5 LTS\"\n",
            "VERSION_ID=\"18.04\"\n",
            "HOME_URL=\"https://www.ubuntu.com/\"\n",
            "SUPPORT_URL=\"https://help.ubuntu.com/\"\n",
            "BUG_REPORT_URL=\"https://bugs.launchpad.net/ubuntu/\"\n",
            "PRIVACY_POLICY_URL=\"https://www.ubuntu.com/legal/terms-and-policies/privacy-policy\"\n",
            "VERSION_CODENAME=bionic\n",
            "UBUNTU_CODENAME=bionic\n"
          ]
        }
      ]
    },
    {
      "cell_type": "code",
      "source": [
        "!chmod +x gdc-client"
      ],
      "metadata": {
        "id": "DErfQvMPJg6F"
      },
      "execution_count": null,
      "outputs": []
    },
    {
      "cell_type": "code",
      "source": [
        "./gdc-client --help"
      ],
      "metadata": {
        "id": "zh-1bJsQJ9Tn",
        "outputId": "524603c4-9096-43b6-c0c7-b815816d538f",
        "colab": {
          "base_uri": "https://localhost:8080/",
          "height": 130
        }
      },
      "execution_count": null,
      "outputs": [
        {
          "output_type": "error",
          "ename": "SyntaxError",
          "evalue": "ignored",
          "traceback": [
            "\u001b[0;36m  File \u001b[0;32m\"<ipython-input-35-b58ddeed6143>\"\u001b[0;36m, line \u001b[0;32m1\u001b[0m\n\u001b[0;31m    ./gdc-client --help\u001b[0m\n\u001b[0m    ^\u001b[0m\n\u001b[0;31mSyntaxError\u001b[0m\u001b[0;31m:\u001b[0m invalid syntax\n"
          ]
        }
      ]
    }
  ]
}