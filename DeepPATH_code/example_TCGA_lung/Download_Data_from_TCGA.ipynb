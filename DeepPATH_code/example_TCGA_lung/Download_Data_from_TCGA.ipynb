{
  "nbformat": 4,
  "nbformat_minor": 0,
  "metadata": {
    "colab": {
      "name": "Download_Data_from_TCGA.ipynb",
      "provenance": [],
      "collapsed_sections": [],
      "mount_file_id": "1kcCC7BIgSo0UC22V6BEIpEV-vDVObCnh",
      "authorship_tag": "ABX9TyPAX2jo11h0hPTPkNAt2sNq",
      "include_colab_link": true
    },
    "kernelspec": {
      "name": "python3",
      "display_name": "Python 3"
    },
    "language_info": {
      "name": "python"
    }
  },
  "cells": [
    {
      "cell_type": "markdown",
      "metadata": {
        "id": "view-in-github",
        "colab_type": "text"
      },
      "source": [
        "<a href=\"https://colab.research.google.com/github/kimdesok/DeepPATH/blob/master/DeepPATH_code/example_TCGA_lung/Download_Data_from_TCGA.ipynb\" target=\"_parent\"><img src=\"https://colab.research.google.com/assets/colab-badge.svg\" alt=\"Open In Colab\"/></a>"
      ]
    },
    {
      "cell_type": "markdown",
      "source": [
        "## Download  WSI files avalable at TCGA as biospecimen files.\n",
        "> * Things to do: Select only those cases with RNASeq Data"
      ],
      "metadata": {
        "id": "aNhrWaNu3g75"
      }
    },
    {
      "cell_type": "code",
      "execution_count": 1,
      "metadata": {
        "colab": {
          "base_uri": "https://localhost:8080/"
        },
        "id": "gCkxAzWGCR8t",
        "outputId": "402935c5-0763-479d-d017-ba64006db10d"
      },
      "outputs": [
        {
          "output_type": "stream",
          "name": "stdout",
          "text": [
            "--2021-12-29 13:15:34--  https://gdc.cancer.gov/files/public/file/gdc-client_v1.6.1_Ubuntu_x64.zip\n",
            "Resolving gdc.cancer.gov (gdc.cancer.gov)... 151.101.1.193, 151.101.65.193, 151.101.129.193, ...\n",
            "Connecting to gdc.cancer.gov (gdc.cancer.gov)|151.101.1.193|:443... connected.\n",
            "HTTP request sent, awaiting response... 200 OK\n",
            "Length: 23940006 (23M) [application/zip]\n",
            "Saving to: ‘temp.zip’\n",
            "\n",
            "temp.zip            100%[===================>]  22.83M   130MB/s    in 0.2s    \n",
            "\n",
            "2021-12-29 13:15:35 (130 MB/s) - ‘temp.zip’ saved [23940006/23940006]\n",
            "\n"
          ]
        }
      ],
      "source": [
        "# To get the download tool called gdc-client\n",
        "!wget 'https://gdc.cancer.gov/files/public/file/gdc-client_v1.6.1_Ubuntu_x64.zip' -O temp.zip\n",
        "!apt-get install unzip\n",
        "!unzip temp.zip"
      ]
    },
    {
      "cell_type": "code",
      "source": [
        "#Copy the gdc-client to the local bin folder and make sure it is executable (important steps)\n",
        "!cp -pi ./gdc-client /usr/local/bin\n",
        "!sudo chmod +x /usr/local/bin/gdc-client"
      ],
      "metadata": {
        "id": "VmO2qd4uW-px"
      },
      "execution_count": 4,
      "outputs": []
    },
    {
      "cell_type": "code",
      "source": [
        "#Test run the executable. It shows the syntax.\n",
        "!gdc-client --help"
      ],
      "metadata": {
        "colab": {
          "base_uri": "https://localhost:8080/"
        },
        "id": "_YDR221Meehp",
        "outputId": "30cd1a1a-64c5-4825-bb1c-d628773f91df"
      },
      "execution_count": 38,
      "outputs": [
        {
          "output_type": "stream",
          "name": "stdout",
          "text": [
            "usage: gdc-client [-h] [--version] {download,upload,settings} ...\n",
            "\n",
            "The Genomic Data Commons Command Line Client\n",
            "\n",
            "optional arguments:\n",
            "  -h, --help            show this help message and exit\n",
            "  --version             show program's version number and exit\n",
            "\n",
            "commands:\n",
            "  {download,upload,settings}\n",
            "                        for more information, specify -h after a command\n",
            "    download            download data from the GDC\n",
            "    upload              upload data to the GDC\n",
            "    settings            display default settings\n"
          ]
        }
      ]
    },
    {
      "cell_type": "code",
      "source": [
        "#Fetch the manifest file that lists up the cases prepared at the TCGA site\n",
        "#You may download to any storage and upload it to the Colab, too.\n",
        "!wget \"https://github.com/kimdesok/DeepPATH/blob/e78f9ac32785e41911667b5bc98bde61ac8c974f/DeepPATH_code/example_TCGA_lung/gdc_manifest.2021-12-29.txt\""
      ],
      "metadata": {
        "colab": {
          "base_uri": "https://localhost:8080/"
        },
        "id": "qXhlN1TdCoQW",
        "outputId": "a4d5174f-60e4-418e-b69b-a0fd2bcedb28"
      },
      "execution_count": 1,
      "outputs": [
        {
          "output_type": "stream",
          "name": "stdout",
          "text": [
            "--2021-12-30 01:21:29--  https://github.com/kimdesok/DeepPATH/blob/e78f9ac32785e41911667b5bc98bde61ac8c974f/DeepPATH_code/example_TCGA_lung/gdc_manifest.2021-12-29.txt\n",
            "Resolving github.com (github.com)... 192.30.255.112\n",
            "Connecting to github.com (github.com)|192.30.255.112|:443... connected.\n",
            "HTTP request sent, awaiting response... 404 Not Found\n",
            "2021-12-30 01:21:30 ERROR 404: Not Found.\n",
            "\n"
          ]
        }
      ]
    },
    {
      "cell_type": "markdown",
      "source": [
        ""
      ],
      "metadata": {
        "id": "8J-Eke8-3fK6"
      }
    },
    {
      "cell_type": "code",
      "source": [
        "#Start downloading the file using the manifest file\n",
        "# The manifest file needs to be fetched from the storage first.\n",
        "!gdc-client download -m '/content/gdc_manifest.2021-12-29.txt'"
      ],
      "metadata": {
        "colab": {
          "base_uri": "https://localhost:8080/"
        },
        "id": "QfiQLfJzGbk0",
        "outputId": "91b190f1-f8c3-4d0c-aa66-f7e3d548e388"
      },
      "execution_count": 41,
      "outputs": [
        {
          "output_type": "stream",
          "name": "stdout",
          "text": [
            "100% [#############################################] Time:  0:00:07  27.8 MiB/s \n",
            "100% [#############################################] Time:  0:00:13  28.2 MiB/s \n",
            "100% [#############################################] Time:  0:00:05  24.7 MiB/s \n",
            "100% [#############################################] Time:  0:00:43  31.4 MiB/s \n",
            "100% [#############################################] Time:  0:00:09  28.0 MiB/s \n",
            "100% [#############################################] Time:  0:00:09  28.1 MiB/s \n",
            "100% [#############################################] Time:  0:00:03  20.1 MiB/s \n",
            "100% [#############################################] Time:  0:00:15  29.1 MiB/s \n",
            "100% [#############################################] Time:  0:00:05  25.5 MiB/s \n",
            "100% [#############################################] Time:  0:00:15  29.8 MiB/s \n",
            "100% [#############################################] Time:  0:00:08  27.1 MiB/s \n",
            "100% [#############################################] Time:  0:00:02  20.5 MiB/s \n",
            "100% [#############################################] Time:  0:00:02  17.8 MiB/s \n",
            "100% [#############################################] Time:  0:00:12  29.6 MiB/s \n",
            "100% [#############################################] Time:  0:00:04  26.9 MiB/s \n",
            "  9% [####                                         ] ETA:   0:00:48  27.4 MiB/s \u001b[31mERROR: \u001b[0mProcess stopped by user.\n",
            "\u001b[31mERROR: \u001b[0mProcess stopped by user.\n",
            "Process Process-47:\n",
            "Traceback (most recent call last):\n",
            "Process Process-48:\n",
            "Traceback (most recent call last):\n",
            "  File \"gdc_client-1.6.1-py3.7.egg/gdc_client/parcel/client.py\", line 215, in download_worker\n",
            "  File \"<string>\", line 2, in put\n",
            "  File \"multiprocessing/managers.py\", line 819, in _callmethod\n",
            "  File \"multiprocessing/connection.py\", line 250, in recv\n",
            "  File \"multiprocessing/connection.py\", line 407, in _recv_bytes\n",
            "  File \"multiprocessing/connection.py\", line 379, in _recv\n",
            "ConnectionResetError: [Errno 104] Connection reset by peer\n",
            "\n",
            "During handling of the above exception, another exception occurred:\n",
            "\n",
            "Traceback (most recent call last):\n",
            "  File \"multiprocessing/process.py\", line 297, in _bootstrap\n",
            "  File \"multiprocessing/process.py\", line 99, in run\n",
            "  File \"gdc_client-1.6.1-py3.7.egg/gdc_client/parcel/client.py\", line 219, in download_worker\n",
            "  File \"<string>\", line 2, in put\n",
            "  File \"multiprocessing/managers.py\", line 818, in _callmethod\n",
            "  File \"multiprocessing/connection.py\", line 206, in send\n",
            "  File \"multiprocessing/connection.py\", line 404, in _send_bytes\n",
            "  File \"multiprocessing/connection.py\", line 368, in _send\n",
            "BrokenPipeError: [Errno 32] Broken pipe\n",
            "  File \"gdc_client-1.6.1-py3.7.egg/gdc_client/parcel/client.py\", line 215, in download_worker\n",
            "  File \"<string>\", line 2, in put\n",
            "  File \"multiprocessing/managers.py\", line 819, in _callmethod\n",
            "  File \"multiprocessing/connection.py\", line 250, in recv\n",
            "  File \"multiprocessing/connection.py\", line 407, in _recv_bytes\n",
            "  File \"multiprocessing/connection.py\", line 379, in _recv\n",
            "ConnectionResetError: [Errno 104] Connection reset by peer\n",
            "\n",
            "During handling of the above exception, another exception occurred:\n",
            "\n",
            "Traceback (most recent call last):\n",
            "  File \"multiprocessing/process.py\", line 297, in _bootstrap\n",
            "  File \"multiprocessing/process.py\", line 99, in run\n",
            "  File \"gdc_client-1.6.1-py3.7.egg/gdc_client/parcel/client.py\", line 219, in download_worker\n",
            "  File \"<string>\", line 2, in put\n",
            "  File \"multiprocessing/managers.py\", line 818, in _callmethod\n",
            "  File \"multiprocessing/connection.py\", line 206, in send\n",
            "  File \"multiprocessing/connection.py\", line 404, in _send_bytes\n",
            "  File \"multiprocessing/connection.py\", line 368, in _send\n",
            "BrokenPipeError: [Errno 32] Broken pipe\n",
            "N/A% [                                               ] ETA:  --:--:--   0.0 s/B \u001b[31mERROR: \u001b[0mProcess stopped by user.\n",
            "Process Process-51:\n",
            "\u001b[31mERROR: \u001b[0mProcess stopped by user.\n",
            "Traceback (most recent call last):\n",
            "Process Process-50:\n",
            "Traceback (most recent call last):\n",
            "  File \"gdc_client-1.6.1-py3.7.egg/gdc_client/parcel/client.py\", line 215, in download_worker\n",
            "  File \"<string>\", line 2, in put\n",
            "  File \"multiprocessing/managers.py\", line 818, in _callmethod\n",
            "  File \"multiprocessing/connection.py\", line 206, in send\n",
            "  File \"multiprocessing/connection.py\", line 404, in _send_bytes\n",
            "  File \"multiprocessing/connection.py\", line 368, in _send\n",
            "BrokenPipeError: [Errno 32] Broken pipe\n",
            "\n",
            "During handling of the above exception, another exception occurred:\n",
            "\n",
            "Traceback (most recent call last):\n",
            "  File \"multiprocessing/process.py\", line 297, in _bootstrap\n",
            "  File \"multiprocessing/process.py\", line 99, in run\n",
            "  File \"gdc_client-1.6.1-py3.7.egg/gdc_client/parcel/client.py\", line 219, in download_worker\n",
            "  File \"<string>\", line 2, in put\n",
            "  File \"multiprocessing/managers.py\", line 818, in _callmethod\n",
            "  File \"multiprocessing/connection.py\", line 206, in send\n",
            "  File \"multiprocessing/connection.py\", line 404, in _send_bytes\n",
            "  File \"multiprocessing/connection.py\", line 368, in _send\n",
            "BrokenPipeError: [Errno 32] Broken pipe\n",
            "  File \"gdc_client-1.6.1-py3.7.egg/gdc_client/parcel/client.py\", line 215, in download_worker\n",
            "  File \"<string>\", line 2, in put\n",
            "  File \"multiprocessing/managers.py\", line 819, in _callmethod\n",
            "  File \"multiprocessing/connection.py\", line 250, in recv\n",
            "  File \"multiprocessing/connection.py\", line 407, in _recv_bytes\n",
            "  File \"multiprocessing/connection.py\", line 379, in _recv\n",
            "ConnectionResetError: [Errno 104] Connection reset by peer\n",
            "\n",
            "During handling of the above exception, another exception occurred:\n",
            "\n",
            "Traceback (most recent call last):\n",
            "  File \"multiprocessing/process.py\", line 297, in _bootstrap\n",
            "  File \"multiprocessing/process.py\", line 99, in run\n",
            "  File \"gdc_client-1.6.1-py3.7.egg/gdc_client/parcel/client.py\", line 219, in download_worker\n",
            "  File \"<string>\", line 2, in put\n",
            "  File \"multiprocessing/managers.py\", line 818, in _callmethod\n",
            "  File \"multiprocessing/connection.py\", line 206, in send\n",
            "  File \"multiprocessing/connection.py\", line 404, in _send_bytes\n",
            "  File \"multiprocessing/connection.py\", line 368, in _send\n",
            "BrokenPipeError: [Errno 32] Broken pipe\n",
            "^C\n"
          ]
        }
      ]
    }
  ]
}