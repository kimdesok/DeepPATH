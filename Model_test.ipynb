{
  "nbformat": 4,
  "nbformat_minor": 0,
  "metadata": {
    "colab": {
      "name": "Model_test.ipynb",
      "provenance": [],
      "collapsed_sections": [],
      "mount_file_id": "1OBppRXLS2iCDh8_k_LMlKR4TvUad5V8q",
      "authorship_tag": "ABX9TyPkGDFeSFknhI0mMA5BPrpf",
      "include_colab_link": true
    },
    "kernelspec": {
      "name": "python3",
      "display_name": "Python 3"
    },
    "language_info": {
      "name": "python"
    },
    "accelerator": "GPU"
  },
  "cells": [
    {
      "cell_type": "markdown",
      "metadata": {
        "id": "view-in-github",
        "colab_type": "text"
      },
      "source": [
        "<a href=\"https://colab.research.google.com/github/kimdesok/DeepPATH/blob/master/Model_test.ipynb\" target=\"_parent\"><img src=\"https://colab.research.google.com/assets/colab-badge.svg\" alt=\"Open In Colab\"/></a>"
      ]
    },
    {
      "cell_type": "code",
      "source": [
        "import os\n",
        "import time\n",
        "import numpy as np\n",
        "import matplotlib.pyplot as plt\n",
        "%matplotlib inline\n",
        "from PIL import Image\n",
        "import tensorflow as tf\n",
        "import sys\n",
        "from sklearn import preprocessing\n",
        "print(tf.__version__)\n",
        "\n",
        "import random\n",
        "\n",
        "!python --version"
      ],
      "metadata": {
        "colab": {
          "base_uri": "https://localhost:8080/"
        },
        "id": "2NJcJOs8G3QL",
        "outputId": "45b14764-4183-4a92-f7d4-a44fff6065aa"
      },
      "execution_count": 38,
      "outputs": [
        {
          "output_type": "stream",
          "name": "stdout",
          "text": [
            "2.8.2\n",
            "Python 3.7.13\n"
          ]
        }
      ]
    },
    {
      "cell_type": "code",
      "source": [
        "!cp -r  ./drive/MyDrive/datasets/TFRecord_Train ."
      ],
      "metadata": {
        "id": "OBMD61NrPgfL"
      },
      "execution_count": 8,
      "outputs": []
    },
    {
      "cell_type": "code",
      "source": [
        "!cp -r ./drive/MyDrive/models/LUAD-Normal_model_finer_full_Adam_0.0001_80_0.7.h5 ."
      ],
      "metadata": {
        "id": "DTqPz7JzVkca"
      },
      "execution_count": 9,
      "outputs": []
    },
    {
      "cell_type": "code",
      "source": [
        "tf.keras.backend.clear_session()\n",
        "\n",
        "#Set your parameters here\n",
        "\n",
        "BATCH_SIZE = 300\n",
        "BUFFER_SIZE = 2000\n",
        "DROP_OUT = 0.7\n",
        "REGULARIZER = 'l1'\n",
        "\n",
        "SET_TYPE = 'small set' #full, ensemble, new, retrain\n",
        "\n",
        "NO_EPOCHS = 200\n",
        "PATIENCE = 15\n",
        "\n",
        "LEARN_RATE = 0.01\n",
        "LEARN_RATE1 = 0.0001\n",
        "\n",
        "DECAY_RATE = 0.96\n",
        "DECAY_STEPS = 10000\n",
        "\n",
        "MODEL_NAME_FINAL = 'LUAD-Normal_model_full_Adam_0.01_80_0.7.h5'\n",
        "\n",
        "MODEL_NAME_FINER = 'LUAD-Normal_model_finer_full_Adam_0.0001_80_0.7.h5'\n",
        "\n",
        "AUTOTUNE = tf.data.AUTOTUNE\n",
        "IMAGE_SIZE = [299, 299]\n",
        "\n",
        "def decayed_learning_rate(step, initial_learning_rate=LEARN_RATE, decay_rate=DECAY_RATE, decay_steps=DECAY_STEPS):\n",
        "    operand = step/float(decay_steps)\n",
        "    return initial_learning_rate * decay_rate**(operand)\n",
        "\n",
        "scale_layer = tf.keras.layers.experimental.preprocessing.Rescaling(scale=1 / 127.5, offset=-1)"
      ],
      "metadata": {
        "id": "ZE72ceXFG6u7"
      },
      "execution_count": 39,
      "outputs": []
    },
    {
      "cell_type": "code",
      "source": [
        "from functools import partial\n",
        "import sys\n",
        "\n",
        "def decode_image(image):\n",
        "    \n",
        "    image = tf.image.decode_jpeg(image,  channels=3)\n",
        "    image = tf.cast(image, tf.float32)\n",
        "    assert len(image.shape) == 3\n",
        "    assert image.shape[2] == 3\n",
        "    image = tf.reshape(image, [*IMAGE_SIZE, 3])    \n",
        "    return image\n",
        "\n",
        "\"\"\"\n",
        "Dataset is loaded for the model to find features and patterns. \n",
        "The labels in the dataset provides the groundtruth information. \n",
        "\"\"\"\n",
        "# To extract the image and the label data from each TFRecord\n",
        "'''\n",
        "The original TFRecord consists of the following data\n",
        "          'image/height': tf.io.FixedLenFeature([], tf.int64),\n",
        "          'image/width': tf.io.FixedLenFeature([], tf.int64),\n",
        "          'image/colorspace': tf.io.FixedLenFeature([], tf.string),\n",
        "          'image/channels': tf.io.FixedLenFeature([], tf.int64),\n",
        "          'image/class/label': tf.io.FixedLenFeature([], tf.int64),\n",
        "          'image/class/text': tf.io.VarLenFeature([], tf.string),\n",
        "          'image/format': tf.io.FixedLenFeature([], tf.string),\n",
        "          'image/filename': tf.io.VarLenFeature([], tf.string),\n",
        "'''\n",
        "def read_tfrecord(example, labeled=True):\n",
        "  \n",
        "    #To create a dictionary describing the features. \n",
        "    tfrecord_format = (\n",
        "        {\n",
        "              'image/encoded': tf.io.FixedLenFeature([], tf.string),\n",
        "              'image/class/label': tf.io.FixedLenFeature([], tf.int64),\n",
        "        } \n",
        "        if labeled\n",
        "        else {\n",
        "            'image/encoded': tf.io.FixedLenFeature([], tf.string),\n",
        "        }\n",
        "    )\n",
        "    \n",
        "    #Define a parser\n",
        "    example = tf.io.parse_single_example(example, tfrecord_format)\n",
        "    \n",
        "    #Convert the data\n",
        "    image = decode_image(example[\"image/encoded\"])\n",
        "    \n",
        "    \n",
        "    if labeled:\n",
        "        label = tf.cast(example[\"image/class/label\"], tf.int32) #No need to cast to tf.int32. why?\n",
        "        return image, label\n",
        "    return image\n",
        "\n",
        "def load_dataset(filenames, labeled=True):\n",
        "    \n",
        "    ignore_order = tf.data.Options()\n",
        "    ignore_order.experimental_deterministic = False  # disable order, increase speed\n",
        "    \n",
        "    dataset = tf.data.TFRecordDataset(\n",
        "        filenames\n",
        "    )  # automatically interleaves reads from multiple files\n",
        "    \n",
        "    dataset = dataset.with_options(\n",
        "        ignore_order\n",
        "    )  # uses data as soon as it streams in, rather than in its original order\n",
        "    \n",
        "    read_in_multi = partial(read_tfrecord, labeled=labeled)\n",
        "    \n",
        "    dataset = dataset.map(\n",
        "        read_in_multi, num_parallel_calls=AUTOTUNE\n",
        "    )\n",
        "    # returns a dataset of (image, label) pairs if labeled=True or just images if labeled=False\n",
        "    return dataset\n",
        "\n",
        "\n",
        "#Get the dataset with JPEG images and labels together, shuffle, prefetch, and batch\n",
        "def get_dataset(filenames, labeled=True):\n",
        "    dataset = load_dataset(filenames, labeled=labeled)\n",
        "    dataset = dataset.shuffle(BUFFER_SIZE)\n",
        "    dataset = dataset.prefetch(buffer_size=AUTOTUNE)\n",
        "    dataset = dataset.batch(BATCH_SIZE) # 64 is better for the unbalanced dataset\n",
        "    return dataset\n",
        "\n",
        "def plot_histogram(values, filename):\n",
        "    plt.figure(figsize=(16, 8))\n",
        "    plt.rc('font', size=14) \n",
        "    plt.hist(values, bins=20)  # density=False would make counts\n",
        "    plt.title(\"Model prediction distribution\")\n",
        "    plt.ylabel('Frequency')\n",
        "    plt.xlabel('Prediction Values')\n",
        "\n",
        "     # save plot to file\n",
        "\n",
        "    plt.savefig(filename + '_plot.png')\n",
        "    #plt.close()"
      ],
      "metadata": {
        "id": "TyV-4WuLHPfC"
      },
      "execution_count": 40,
      "outputs": []
    },
    {
      "cell_type": "code",
      "source": [
        "data_path ='./TFRecord_Train'\n",
        "tfrecord_filenames = os.listdir(data_path)\n",
        "test_data_filenames = [os.path.join(data_path, name) for name in tfrecord_filenames if 'test' in name]\n",
        "\n",
        "# Shuffle the data filenames to remove the ordering\n",
        "\n",
        "random.shuffle(test_data_filenames)\n",
        "\n",
        "if(SET_TYPE == 'small set'):\n",
        "    test_data_filenames = test_data_filenames[:1]\n",
        "    test_dataset = get_dataset(test_data_filenames)\n",
        "    no_of_datafiles = int(len(test_data_filenames))\n",
        "\n",
        "else:\n",
        "    test_dataset = get_dataset(test_data_filenames)\n",
        "    no_of_datafiles = int(len(test_data_filenames))\n",
        "    \n",
        "print('test_dataset is loaded with %d TFRecords.'%no_of_datafiles)\n",
        "#print(type(test_dataset))"
      ],
      "metadata": {
        "colab": {
          "base_uri": "https://localhost:8080/"
        },
        "id": "mleU55VvHYQ8",
        "outputId": "ef021ab8-80d5-44eb-ef77-17d97d656f02"
      },
      "execution_count": 41,
      "outputs": [
        {
          "output_type": "stream",
          "name": "stdout",
          "text": [
            "test_dataset is loaded with 1 TFRecords.\n"
          ]
        }
      ]
    },
    {
      "cell_type": "code",
      "source": [
        "print('Loading the final model: %s'%MODEL_NAME_FINER)\n",
        "model = tf.keras.models.load_model(MODEL_NAME_FINER)\n",
        "\n",
        "initial_learning_rate = LEARN_RATE\n",
        "lr_schedule = tf.keras.optimizers.schedules.ExponentialDecay(\n",
        "    initial_learning_rate, decay_steps=DECAY_STEPS, decay_rate=DECAY_RATE, staircase=True\n",
        ")\n",
        "\n",
        "model.compile(\n",
        "    optimizer=tf.keras.optimizers.Adam(learning_rate=lr_schedule),\n",
        "    loss=\"binary_crossentropy\",\n",
        "    metrics=tf.keras.metrics.AUC(name=\"auc\") #For the imbalanced data, AUC is the preferred metric.\n",
        ")"
      ],
      "metadata": {
        "colab": {
          "base_uri": "https://localhost:8080/"
        },
        "id": "7no2TQ-SIyqz",
        "outputId": "d6959c55-835a-4946-a1ba-428af3897f6b"
      },
      "execution_count": 42,
      "outputs": [
        {
          "output_type": "stream",
          "name": "stdout",
          "text": [
            "Loading the final model: LUAD-Normal_model_finer_full_Adam_0.0001_80_0.7.h5\n"
          ]
        }
      ]
    },
    {
      "cell_type": "code",
      "source": [
        "#TFRecod files to image generator so it can be input to the predict()\n",
        "ALL_IMAGES_PROCESSING = True\n",
        "\n",
        "def get_prediction(image_batch):\n",
        "    \n",
        "    print(type(image_batch))\n",
        "\n",
        "    class_index = list()\n",
        "    \n",
        "    idx = 0\n",
        "    for x in image_batch:\n",
        "        \n",
        "        #print('x shape:', np.array(x).shape)\n",
        "        x_scaled = tf.keras.preprocessing.image.img_to_array(x)\n",
        "        x_scaled = scale_layer(x_scaled)\n",
        "        x_scaled = tf.expand_dims(x_scaled, axis=0)\n",
        "        #print('x shape:', np.array(x).shape)\n",
        "        images = np.vstack([x_scaled])\n",
        "        #print('images shape:', np.array(images).shape)\n",
        "        \n",
        "        value = model.predict(images)[0]\n",
        "        \n",
        "        class_index.append(value)\n",
        "\n",
        "        if(idx%10 == 0):\n",
        "          print()\n",
        "        print(idx, value, end=' ')\n",
        "        idx += 1\n",
        "      \n",
        "    return class_index\n",
        "\n",
        "def save_test_data(test_data_filenames, test_dataset, predict_list, threshold = 0.5):\n",
        "  isdir = os.path.isdir('/content/Tumor_Images/')\n",
        "  print(isdir)\n",
        "  dir_path = '/content/Tumor_Images/'\n",
        "  if isdir == False:\n",
        "    os.mkdir(dir_path)\n",
        "\n",
        "  print(type(test_data_filenames), len(test_data_filenames))\n",
        "  \n",
        "  name = 0\n",
        "  for idx, x in enumerate(test_dataset):\n",
        "    if(predict_list[idx] > threshold):\n",
        "      dest_path = os.path.join(dir_path, str(name)+'.JPEG')\n",
        "      tf.keras.utils.save_img(dest_path, x, scale=False)\n",
        "      name += 1"
      ],
      "metadata": {
        "id": "LkvUNk9ZJFQy"
      },
      "execution_count": 62,
      "outputs": []
    },
    {
      "cell_type": "code",
      "source": [
        "#Things to do:\n",
        "#1) label and filename parsed -> how to deal with the raw image only?\n",
        "#2) The use of one shot iterator helps?\n",
        "# reference: https://stackoverflow.com/questions/55438316/the-image-and-the-label-do-not-correspond-in-tfrecord\n",
        "\n",
        "if(ALL_IMAGES_PROCESSING):\n",
        "    test_dataset = load_dataset(test_data_filenames, labeled=False)\n",
        "else:\n",
        "    test_dataset = get_dataset(test_data_filenames)\n",
        "\n",
        "#a MirroredStrategy object. This will handle distribution and provide a context manager \n",
        "# (MirroredStrategy.scope) to build your model inside.  \n",
        "# https://www.tensorflow.org/tutorials/distribute/keras\n",
        "\n",
        "strategy = tf.distribute.MirroredStrategy()\n",
        "#print('Number of devices: {}'.format(strategy.num_replicas_in_sync))\n",
        "\n",
        "with strategy.scope():\n",
        "    predict_list = get_prediction(test_dataset)\n",
        "    print('Length %d'%len(predict_list))"
      ],
      "metadata": {
        "colab": {
          "base_uri": "https://localhost:8080/"
        },
        "id": "ypb2Sh7KN1UM",
        "outputId": "65feea21-3483-4d24-ef71-18ffecb50b1e"
      },
      "execution_count": 44,
      "outputs": [
        {
          "output_type": "stream",
          "name": "stdout",
          "text": [
            "INFO:tensorflow:Using MirroredStrategy with devices ('/job:localhost/replica:0/task:0/device:GPU:0',)\n",
            "<class 'tensorflow.python.data.ops.dataset_ops.ParallelMapDataset'>\n",
            "\n",
            "0 [0.9965413] 1 [0.99638593] 2 [0.9964935] 3 [0.9963509] 4 [0.99654996] 5 [0.9967424] 6 [0.99670154] 7 [0.9961648] 8 [0.99608] 9 [0.99637336] \n",
            "10 [0.9962501] 11 [0.99628323] 12 [0.99670106] 13 [0.99654835] 14 [0.99654263] 15 [0.99640864] 16 [0.9965849] 17 [0.99677294] 18 [0.9962968] 19 [0.99650395] \n",
            "20 [0.99684024] 21 [0.99679035] 22 [0.99621177] 23 [0.9965161] 24 [0.99618775] 25 [0.99661773] 26 [0.996338] 27 [0.99609715] 28 [0.9961527] 29 [0.9966086] \n",
            "30 [0.99554247] 31 [0.99636996] 32 [0.99651897] 33 [0.9963116] 34 [0.9967344] 35 [0.99704796] 36 [0.99683017] 37 [0.9966415] 38 [0.99636924] 39 [0.99658644] \n",
            "40 [0.99687093] 41 [0.99708825] 42 [0.99695045] 43 [0.99670994] 44 [0.9966433] 45 [0.99650145] 46\n"
          ]
        }
      ]
    },
    {
      "cell_type": "code",
      "source": [
        "save_test_data(test_data_filenames, test_dataset, predict_list)\n",
        "\n",
        "print(np.array(predict_list).flatten().shape)\n",
        "plot_histogram(np.array(predict_list).flatten() , 'old_finetune')"
      ],
      "metadata": {
        "colab": {
          "base_uri": "https://localhost:8080/",
          "height": 408
        },
        "id": "o3nEDqYoJNnb",
        "outputId": "477f874b-d410-442b-fb44-732623027903"
      },
      "execution_count": 63,
      "outputs": [
        {
          "output_type": "stream",
          "name": "stdout",
          "text": [
            "True\n",
            "<class 'list'> 1\n",
            "(46,)\n"
          ]
        },
        {
          "output_type": "display_data",
          "data": {
            "text/plain": [
              "<Figure size 1152x576 with 1 Axes>"
            ],
            "image/png": "[encoded data removed]"
          },
          "metadata": {
            "needs_background": "light"
          }
        }
      ]
    },
    {
      "cell_type": "markdown",
      "source": [
        "## Classified JPEG images need to be saved in a separare folders for the further processing\n",
        "> We'll use our model to predict results for our test dataset images. \n",
        "\n",
        "> Values closer to `0` are more likely to be benign and values closer to `1` are more likely to be malignant."
      ],
      "metadata": {
        "id": "SQvHgeMX0QnP"
      }
    }
  ]
}