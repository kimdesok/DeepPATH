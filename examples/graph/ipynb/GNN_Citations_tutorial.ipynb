{
  "cells": [
    {
      "cell_type": "markdown",
      "metadata": {
        "id": "t1Meu7wCnsK9"
      },
      "source": [
        "# Node Classification with Graph Neural Networks\n",
        "\n",
        "**Author:** [Khalid Salama](https://www.linkedin.com/in/khalid-salama-24403144/)<br>\n",
        "**Date created:** 2021/05/30<br>\n",
        "**Last modified:** 2021/05/30<br>\n",
        "**Description:** Implementing a graph neural network model for predicting the topic of a paper given its citations."
      ]
    },
    {
      "cell_type": "markdown",
      "metadata": {
        "id": "R65rIXownsLA"
      },
      "source": [
        "## Introduction\n",
        "\n",
        "Many datasets in various machine learning (ML) applications have structural relationships\n",
        "between their entities, which can be represented as graphs. Such application includes\n",
        "social and communication networks analysis, traffic prediction, and fraud detection.\n",
        "[Graph representation Learning](https://www.cs.mcgill.ca/~wlh/grl_book/)\n",
        "aims to build and train models for graph datasets to be used for a variety of ML tasks.\n",
        "\n",
        "This example demonstrate a simple implementation of a [Graph Neural Network](https://arxiv.org/pdf/1901.00596.pdf)\n",
        "(GNN) model. The model is used for a node prediction task on the [Cora dataset](https://relational.fit.cvut.cz/dataset/CORA)\n",
        "to predict the subject of a paper given its words and citations network.\n",
        "\n",
        "Note that, **we implement a Graph Convolution Layer from scratch** to provide better\n",
        "understanding of how they work. However, there is a number of specialized TensorFlow-based\n",
        "libraries that provide rich GNN APIs, such as [Spectral](https://graphneural.network/),\n",
        "[StellarGraph](https://stellargraph.readthedocs.io/en/stable/README.html), and\n",
        "[GraphNets](https://github.com/deepmind/graph_nets)."
      ]
    },
    {
      "cell_type": "markdown",
      "metadata": {
        "id": "0vF1B1HWnsLB"
      },
      "source": [
        "## Setup"
      ]
    },
    {
      "cell_type": "code",
      "execution_count": 1,
      "metadata": {
        "id": "UJT7iEX1nsLB"
      },
      "outputs": [],
      "source": [
        "import os\n",
        "import pandas as pd\n",
        "import numpy as np\n",
        "import networkx as nx\n",
        "import matplotlib.pyplot as plt\n",
        "import tensorflow as tf\n",
        "from tensorflow import keras\n",
        "from tensorflow.keras import layers"
      ]
    },
    {
      "cell_type": "markdown",
      "metadata": {
        "id": "fXZrUY-rnsLC"
      },
      "source": [
        "## Prepare the Dataset\n",
        "\n",
        "The Cora dataset consists of 2,708 scientific papers classified into one of seven classes.\n",
        "The citation network consists of 5,429 links. Each paper has a binary word vector of size\n",
        "1,433, indicating the presence of a corresponding word.\n",
        "\n",
        "### Download the dataset\n",
        "\n",
        "The dataset has two tap-separated files: `cora.cites` and `cora.content`.\n",
        "\n",
        "1. The `cora.cites` includes the citation records with two columns:\n",
        "`cited_paper_id` (target) and `citing_paper_id` (source).\n",
        "2. The `cora.content` includes the paper content records with 1,435 columns:\n",
        "`paper_id`, `subject`, and 1,433 binary features.\n",
        "\n",
        "Let's download the dataset."
      ]
    },
    {
      "cell_type": "code",
      "execution_count": 2,
      "metadata": {
        "colab": {
          "base_uri": "https://localhost:8080/"
        },
        "id": "bA7dNCVensLD",
        "outputId": "3fa0840e-ba4f-4314-9ef4-ffcf0b1923d6"
      },
      "outputs": [
        {
          "output_type": "stream",
          "name": "stdout",
          "text": [
            "Downloading data from https://linqs-data.soe.ucsc.edu/public/lbc/cora.tgz\n",
            "172032/168052 [==============================] - 0s 1us/step\n",
            "180224/168052 [================================] - 0s 1us/step\n"
          ]
        }
      ],
      "source": [
        "zip_file = keras.utils.get_file(\n",
        "    fname=\"cora.tgz\",\n",
        "    origin=\"https://linqs-data.soe.ucsc.edu/public/lbc/cora.tgz\",\n",
        "    extract=True,\n",
        ")\n",
        "data_dir = os.path.join(os.path.dirname(zip_file), \"cora\")"
      ]
    },
    {
      "cell_type": "markdown",
      "metadata": {
        "id": "Qxuz_bFEnsLD"
      },
      "source": [
        "### Process and visualize the dataset\n",
        "\n",
        "Then we load the citations data into a Pandas DataFrame."
      ]
    },
    {
      "cell_type": "code",
      "execution_count": 3,
      "metadata": {
        "colab": {
          "base_uri": "https://localhost:8080/"
        },
        "id": "N9Mlk-nMnsLE",
        "outputId": "9306186a-aeca-4371-a37d-c33ce8844e40"
      },
      "outputs": [
        {
          "output_type": "stream",
          "name": "stdout",
          "text": [
            "Citations shape: (5429, 2)\n",
            "<class 'pandas.core.frame.DataFrame'>\n",
            "RangeIndex: 5429 entries, 0 to 5428\n",
            "Data columns (total 2 columns):\n",
            " #   Column  Non-Null Count  Dtype\n",
            "---  ------  --------------  -----\n",
            " 0   target  5429 non-null   int64\n",
            " 1   source  5429 non-null   int64\n",
            "dtypes: int64(2)\n",
            "memory usage: 85.0 KB\n",
            "None\n",
            "   target   source\n",
            "0      35     1033\n",
            "1      35   103482\n",
            "2      35   103515\n",
            "3      35  1050679\n",
            "4      35  1103960\n"
          ]
        }
      ],
      "source": [
        "citations = pd.read_csv(\n",
        "    os.path.join(data_dir, \"cora.cites\"),\n",
        "    sep=\"\\t\",\n",
        "    header=None,\n",
        "    names=[\"target\", \"source\"],\n",
        ")\n",
        "print(\"Citations shape:\", citations.shape)\n",
        "print(citations.info())\n",
        "print(citations.head())"
      ]
    },
    {
      "cell_type": "markdown",
      "metadata": {
        "id": "wjomAB78nsLE"
      },
      "source": [
        "Now we display a sample of the `citations` DataFrame.\n",
        "The `target` column includes the paper ids cited by the paper ids in the `source` column."
      ]
    },
    {
      "cell_type": "code",
      "execution_count": 4,
      "metadata": {
        "colab": {
          "base_uri": "https://localhost:8080/",
          "height": 206
        },
        "id": "QcEQivYNnsLF",
        "outputId": "784ec2b8-c5f2-4b13-a1c6-692e13e6029e"
      },
      "outputs": [
        {
          "output_type": "execute_result",
          "data": {
            "text/html": [
              "\n",
              "  <div id=\"df-1318da03-1e4d-44b6-ab4a-fcd01bccd142\">\n",
              "    <div class=\"colab-df-container\">\n",
              "      <div>\n",
              "<style scoped>\n",
              "    .dataframe tbody tr th:only-of-type {\n",
              "        vertical-align: middle;\n",
              "    }\n",
              "\n",
              "    .dataframe tbody tr th {\n",
              "        vertical-align: top;\n",
              "    }\n",
              "\n",
              "    .dataframe thead th {\n",
              "        text-align: right;\n",
              "    }\n",
              "</style>\n",
              "<table border=\"1\" class=\"dataframe\">\n",
              "  <thead>\n",
              "    <tr style=\"text-align: right;\">\n",
              "      <th></th>\n",
              "      <th>target</th>\n",
              "      <th>source</th>\n",
              "    </tr>\n",
              "  </thead>\n",
              "  <tbody>\n",
              "    <tr>\n",
              "      <th>708</th>\n",
              "      <td>3085</td>\n",
              "      <td>221302</td>\n",
              "    </tr>\n",
              "    <tr>\n",
              "      <th>1209</th>\n",
              "      <td>6209</td>\n",
              "      <td>118260</td>\n",
              "    </tr>\n",
              "    <tr>\n",
              "      <th>3435</th>\n",
              "      <td>62417</td>\n",
              "      <td>1107558</td>\n",
              "    </tr>\n",
              "    <tr>\n",
              "      <th>2893</th>\n",
              "      <td>35852</td>\n",
              "      <td>486840</td>\n",
              "    </tr>\n",
              "    <tr>\n",
              "      <th>4696</th>\n",
              "      <td>255628</td>\n",
              "      <td>1140543</td>\n",
              "    </tr>\n",
              "  </tbody>\n",
              "</table>\n",
              "</div>\n",
              "      <button class=\"colab-df-convert\" onclick=\"convertToInteractive('df-1318da03-1e4d-44b6-ab4a-fcd01bccd142')\"\n",
              "              title=\"Convert this dataframe to an interactive table.\"\n",
              "              style=\"display:none;\">\n",
              "        \n",
              "  <svg xmlns=\"http://www.w3.org/2000/svg\" height=\"24px\"viewBox=\"0 0 24 24\"\n",
              "       width=\"24px\">\n",
              "    <path d=\"M0 0h24v24H0V0z\" fill=\"none\"/>\n",
              "    <path d=\"M18.56 5.44l.94 2.06.94-2.06 2.06-.94-2.06-.94-.94-2.06-.94 2.06-2.06.94zm-11 1L8.5 8.5l.94-2.06 2.06-.94-2.06-.94L8.5 2.5l-.94 2.06-2.06.94zm10 10l.94 2.06.94-2.06 2.06-.94-2.06-.94-.94-2.06-.94 2.06-2.06.94z\"/><path d=\"M17.41 7.96l-1.37-1.37c-.4-.4-.92-.59-1.43-.59-.52 0-1.04.2-1.43.59L10.3 9.45l-7.72 7.72c-.78.78-.78 2.05 0 2.83L4 21.41c.39.39.9.59 1.41.59.51 0 1.02-.2 1.41-.59l7.78-7.78 2.81-2.81c.8-.78.8-2.07 0-2.86zM5.41 20L4 18.59l7.72-7.72 1.47 1.35L5.41 20z\"/>\n",
              "  </svg>\n",
              "      </button>\n",
              "      \n",
              "  <style>\n",
              "    .colab-df-container {\n",
              "      display:flex;\n",
              "      flex-wrap:wrap;\n",
              "      gap: 12px;\n",
              "    }\n",
              "\n",
              "    .colab-df-convert {\n",
              "      background-color: #E8F0FE;\n",
              "      border: none;\n",
              "      border-radius: 50%;\n",
              "      cursor: pointer;\n",
              "      display: none;\n",
              "      fill: #1967D2;\n",
              "      height: 32px;\n",
              "      padding: 0 0 0 0;\n",
              "      width: 32px;\n",
              "    }\n",
              "\n",
              "    .colab-df-convert:hover {\n",
              "      background-color: #E2EBFA;\n",
              "      box-shadow: 0px 1px 2px rgba(60, 64, 67, 0.3), 0px 1px 3px 1px rgba(60, 64, 67, 0.15);\n",
              "      fill: #174EA6;\n",
              "    }\n",
              "\n",
              "    [theme=dark] .colab-df-convert {\n",
              "      background-color: #3B4455;\n",
              "      fill: #D2E3FC;\n",
              "    }\n",
              "\n",
              "    [theme=dark] .colab-df-convert:hover {\n",
              "      background-color: #434B5C;\n",
              "      box-shadow: 0px 1px 3px 1px rgba(0, 0, 0, 0.15);\n",
              "      filter: drop-shadow(0px 1px 2px rgba(0, 0, 0, 0.3));\n",
              "      fill: #FFFFFF;\n",
              "    }\n",
              "  </style>\n",
              "\n",
              "      <script>\n",
              "        const buttonEl =\n",
              "          document.querySelector('#df-1318da03-1e4d-44b6-ab4a-fcd01bccd142 button.colab-df-convert');\n",
              "        buttonEl.style.display =\n",
              "          google.colab.kernel.accessAllowed ? 'block' : 'none';\n",
              "\n",
              "        async function convertToInteractive(key) {\n",
              "          const element = document.querySelector('#df-1318da03-1e4d-44b6-ab4a-fcd01bccd142');\n",
              "          const dataTable =\n",
              "            await google.colab.kernel.invokeFunction('convertToInteractive',\n",
              "                                                     [key], {});\n",
              "          if (!dataTable) return;\n",
              "\n",
              "          const docLinkHtml = 'Like what you see? Visit the ' +\n",
              "            '<a target=\"_blank\" href=https://colab.research.google.com/notebooks/data_table.ipynb>data table notebook</a>'\n",
              "            + ' to learn more about interactive tables.';\n",
              "          element.innerHTML = '';\n",
              "          dataTable['output_type'] = 'display_data';\n",
              "          await google.colab.output.renderOutput(dataTable, element);\n",
              "          const docLink = document.createElement('div');\n",
              "          docLink.innerHTML = docLinkHtml;\n",
              "          element.appendChild(docLink);\n",
              "        }\n",
              "      </script>\n",
              "    </div>\n",
              "  </div>\n",
              "  "
            ],
            "text/plain": [
              "      target   source\n",
              "708     3085   221302\n",
              "1209    6209   118260\n",
              "3435   62417  1107558\n",
              "2893   35852   486840\n",
              "4696  255628  1140543"
            ]
          },
          "metadata": {},
          "execution_count": 4
        }
      ],
      "source": [
        "citations.sample(frac=1).head()"
      ]
    },
    {
      "cell_type": "markdown",
      "metadata": {
        "id": "p93gaffwnsLF"
      },
      "source": [
        "Now let's load the papers data into a Pandas DataFrame."
      ]
    },
    {
      "cell_type": "code",
      "execution_count": 5,
      "metadata": {
        "colab": {
          "base_uri": "https://localhost:8080/"
        },
        "id": "VSFtvUdGnsLF",
        "outputId": "e585e6bb-b6f3-4dc4-cf9f-004bce6ca4ea"
      },
      "outputs": [
        {
          "output_type": "stream",
          "name": "stdout",
          "text": [
            "['paper_id', 'term_0', 'term_1', 'term_2', 'term_3', 'term_4', 'term_5', 'term_6', 'term_7', 'term_8', 'term_9', 'term_10', 'term_11', 'term_12', 'term_13', 'term_14', 'term_15', 'term_16', 'term_17', 'term_18', 'term_19', 'term_20', 'term_21', 'term_22', 'term_23', 'term_24', 'term_25', 'term_26', 'term_27', 'term_28', 'term_29', 'term_30', 'term_31', 'term_32', 'term_33', 'term_34', 'term_35', 'term_36', 'term_37', 'term_38', 'term_39', 'term_40', 'term_41', 'term_42', 'term_43', 'term_44', 'term_45', 'term_46', 'term_47', 'term_48', 'term_49', 'term_50', 'term_51', 'term_52', 'term_53', 'term_54', 'term_55', 'term_56', 'term_57', 'term_58', 'term_59', 'term_60', 'term_61', 'term_62', 'term_63', 'term_64', 'term_65', 'term_66', 'term_67', 'term_68', 'term_69', 'term_70', 'term_71', 'term_72', 'term_73', 'term_74', 'term_75', 'term_76', 'term_77', 'term_78', 'term_79', 'term_80', 'term_81', 'term_82', 'term_83', 'term_84', 'term_85', 'term_86', 'term_87', 'term_88', 'term_89', 'term_90', 'term_91', 'term_92', 'term_93', 'term_94', 'term_95', 'term_96', 'term_97', 'term_98', 'term_99', 'term_100', 'term_101', 'term_102', 'term_103', 'term_104', 'term_105', 'term_106', 'term_107', 'term_108', 'term_109', 'term_110', 'term_111', 'term_112', 'term_113', 'term_114', 'term_115', 'term_116', 'term_117', 'term_118', 'term_119', 'term_120', 'term_121', 'term_122', 'term_123', 'term_124', 'term_125', 'term_126', 'term_127', 'term_128', 'term_129', 'term_130', 'term_131', 'term_132', 'term_133', 'term_134', 'term_135', 'term_136', 'term_137', 'term_138', 'term_139', 'term_140', 'term_141', 'term_142', 'term_143', 'term_144', 'term_145', 'term_146', 'term_147', 'term_148', 'term_149', 'term_150', 'term_151', 'term_152', 'term_153', 'term_154', 'term_155', 'term_156', 'term_157', 'term_158', 'term_159', 'term_160', 'term_161', 'term_162', 'term_163', 'term_164', 'term_165', 'term_166', 'term_167', 'term_168', 'term_169', 'term_170', 'term_171', 'term_172', 'term_173', 'term_174', 'term_175', 'term_176', 'term_177', 'term_178', 'term_179', 'term_180', 'term_181', 'term_182', 'term_183', 'term_184', 'term_185', 'term_186', 'term_187', 'term_188', 'term_189', 'term_190', 'term_191', 'term_192', 'term_193', 'term_194', 'term_195', 'term_196', 'term_197', 'term_198', 'term_199', 'term_200', 'term_201', 'term_202', 'term_203', 'term_204', 'term_205', 'term_206', 'term_207', 'term_208', 'term_209', 'term_210', 'term_211', 'term_212', 'term_213', 'term_214', 'term_215', 'term_216', 'term_217', 'term_218', 'term_219', 'term_220', 'term_221', 'term_222', 'term_223', 'term_224', 'term_225', 'term_226', 'term_227', 'term_228', 'term_229', 'term_230', 'term_231', 'term_232', 'term_233', 'term_234', 'term_235', 'term_236', 'term_237', 'term_238', 'term_239', 'term_240', 'term_241', 'term_242', 'term_243', 'term_244', 'term_245', 'term_246', 'term_247', 'term_248', 'term_249', 'term_250', 'term_251', 'term_252', 'term_253', 'term_254', 'term_255', 'term_256', 'term_257', 'term_258', 'term_259', 'term_260', 'term_261', 'term_262', 'term_263', 'term_264', 'term_265', 'term_266', 'term_267', 'term_268', 'term_269', 'term_270', 'term_271', 'term_272', 'term_273', 'term_274', 'term_275', 'term_276', 'term_277', 'term_278', 'term_279', 'term_280', 'term_281', 'term_282', 'term_283', 'term_284', 'term_285', 'term_286', 'term_287', 'term_288', 'term_289', 'term_290', 'term_291', 'term_292', 'term_293', 'term_294', 'term_295', 'term_296', 'term_297', 'term_298', 'term_299', 'term_300', 'term_301', 'term_302', 'term_303', 'term_304', 'term_305', 'term_306', 'term_307', 'term_308', 'term_309', 'term_310', 'term_311', 'term_312', 'term_313', 'term_314', 'term_315', 'term_316', 'term_317', 'term_318', 'term_319', 'term_320', 'term_321', 'term_322', 'term_323', 'term_324', 'term_325', 'term_326', 'term_327', 'term_328', 'term_329', 'term_330', 'term_331', 'term_332', 'term_333', 'term_334', 'term_335', 'term_336', 'term_337', 'term_338', 'term_339', 'term_340', 'term_341', 'term_342', 'term_343', 'term_344', 'term_345', 'term_346', 'term_347', 'term_348', 'term_349', 'term_350', 'term_351', 'term_352', 'term_353', 'term_354', 'term_355', 'term_356', 'term_357', 'term_358', 'term_359', 'term_360', 'term_361', 'term_362', 'term_363', 'term_364', 'term_365', 'term_366', 'term_367', 'term_368', 'term_369', 'term_370', 'term_371', 'term_372', 'term_373', 'term_374', 'term_375', 'term_376', 'term_377', 'term_378', 'term_379', 'term_380', 'term_381', 'term_382', 'term_383', 'term_384', 'term_385', 'term_386', 'term_387', 'term_388', 'term_389', 'term_390', 'term_391', 'term_392', 'term_393', 'term_394', 'term_395', 'term_396', 'term_397', 'term_398', 'term_399', 'term_400', 'term_401', 'term_402', 'term_403', 'term_404', 'term_405', 'term_406', 'term_407', 'term_408', 'term_409', 'term_410', 'term_411', 'term_412', 'term_413', 'term_414', 'term_415', 'term_416', 'term_417', 'term_418', 'term_419', 'term_420', 'term_421', 'term_422', 'term_423', 'term_424', 'term_425', 'term_426', 'term_427', 'term_428', 'term_429', 'term_430', 'term_431', 'term_432', 'term_433', 'term_434', 'term_435', 'term_436', 'term_437', 'term_438', 'term_439', 'term_440', 'term_441', 'term_442', 'term_443', 'term_444', 'term_445', 'term_446', 'term_447', 'term_448', 'term_449', 'term_450', 'term_451', 'term_452', 'term_453', 'term_454', 'term_455', 'term_456', 'term_457', 'term_458', 'term_459', 'term_460', 'term_461', 'term_462', 'term_463', 'term_464', 'term_465', 'term_466', 'term_467', 'term_468', 'term_469', 'term_470', 'term_471', 'term_472', 'term_473', 'term_474', 'term_475', 'term_476', 'term_477', 'term_478', 'term_479', 'term_480', 'term_481', 'term_482', 'term_483', 'term_484', 'term_485', 'term_486', 'term_487', 'term_488', 'term_489', 'term_490', 'term_491', 'term_492', 'term_493', 'term_494', 'term_495', 'term_496', 'term_497', 'term_498', 'term_499', 'term_500', 'term_501', 'term_502', 'term_503', 'term_504', 'term_505', 'term_506', 'term_507', 'term_508', 'term_509', 'term_510', 'term_511', 'term_512', 'term_513', 'term_514', 'term_515', 'term_516', 'term_517', 'term_518', 'term_519', 'term_520', 'term_521', 'term_522', 'term_523', 'term_524', 'term_525', 'term_526', 'term_527', 'term_528', 'term_529', 'term_530', 'term_531', 'term_532', 'term_533', 'term_534', 'term_535', 'term_536', 'term_537', 'term_538', 'term_539', 'term_540', 'term_541', 'term_542', 'term_543', 'term_544', 'term_545', 'term_546', 'term_547', 'term_548', 'term_549', 'term_550', 'term_551', 'term_552', 'term_553', 'term_554', 'term_555', 'term_556', 'term_557', 'term_558', 'term_559', 'term_560', 'term_561', 'term_562', 'term_563', 'term_564', 'term_565', 'term_566', 'term_567', 'term_568', 'term_569', 'term_570', 'term_571', 'term_572', 'term_573', 'term_574', 'term_575', 'term_576', 'term_577', 'term_578', 'term_579', 'term_580', 'term_581', 'term_582', 'term_583', 'term_584', 'term_585', 'term_586', 'term_587', 'term_588', 'term_589', 'term_590', 'term_591', 'term_592', 'term_593', 'term_594', 'term_595', 'term_596', 'term_597', 'term_598', 'term_599', 'term_600', 'term_601', 'term_602', 'term_603', 'term_604', 'term_605', 'term_606', 'term_607', 'term_608', 'term_609', 'term_610', 'term_611', 'term_612', 'term_613', 'term_614', 'term_615', 'term_616', 'term_617', 'term_618', 'term_619', 'term_620', 'term_621', 'term_622', 'term_623', 'term_624', 'term_625', 'term_626', 'term_627', 'term_628', 'term_629', 'term_630', 'term_631', 'term_632', 'term_633', 'term_634', 'term_635', 'term_636', 'term_637', 'term_638', 'term_639', 'term_640', 'term_641', 'term_642', 'term_643', 'term_644', 'term_645', 'term_646', 'term_647', 'term_648', 'term_649', 'term_650', 'term_651', 'term_652', 'term_653', 'term_654', 'term_655', 'term_656', 'term_657', 'term_658', 'term_659', 'term_660', 'term_661', 'term_662', 'term_663', 'term_664', 'term_665', 'term_666', 'term_667', 'term_668', 'term_669', 'term_670', 'term_671', 'term_672', 'term_673', 'term_674', 'term_675', 'term_676', 'term_677', 'term_678', 'term_679', 'term_680', 'term_681', 'term_682', 'term_683', 'term_684', 'term_685', 'term_686', 'term_687', 'term_688', 'term_689', 'term_690', 'term_691', 'term_692', 'term_693', 'term_694', 'term_695', 'term_696', 'term_697', 'term_698', 'term_699', 'term_700', 'term_701', 'term_702', 'term_703', 'term_704', 'term_705', 'term_706', 'term_707', 'term_708', 'term_709', 'term_710', 'term_711', 'term_712', 'term_713', 'term_714', 'term_715', 'term_716', 'term_717', 'term_718', 'term_719', 'term_720', 'term_721', 'term_722', 'term_723', 'term_724', 'term_725', 'term_726', 'term_727', 'term_728', 'term_729', 'term_730', 'term_731', 'term_732', 'term_733', 'term_734', 'term_735', 'term_736', 'term_737', 'term_738', 'term_739', 'term_740', 'term_741', 'term_742', 'term_743', 'term_744', 'term_745', 'term_746', 'term_747', 'term_748', 'term_749', 'term_750', 'term_751', 'term_752', 'term_753', 'term_754', 'term_755', 'term_756', 'term_757', 'term_758', 'term_759', 'term_760', 'term_761', 'term_762', 'term_763', 'term_764', 'term_765', 'term_766', 'term_767', 'term_768', 'term_769', 'term_770', 'term_771', 'term_772', 'term_773', 'term_774', 'term_775', 'term_776', 'term_777', 'term_778', 'term_779', 'term_780', 'term_781', 'term_782', 'term_783', 'term_784', 'term_785', 'term_786', 'term_787', 'term_788', 'term_789', 'term_790', 'term_791', 'term_792', 'term_793', 'term_794', 'term_795', 'term_796', 'term_797', 'term_798', 'term_799', 'term_800', 'term_801', 'term_802', 'term_803', 'term_804', 'term_805', 'term_806', 'term_807', 'term_808', 'term_809', 'term_810', 'term_811', 'term_812', 'term_813', 'term_814', 'term_815', 'term_816', 'term_817', 'term_818', 'term_819', 'term_820', 'term_821', 'term_822', 'term_823', 'term_824', 'term_825', 'term_826', 'term_827', 'term_828', 'term_829', 'term_830', 'term_831', 'term_832', 'term_833', 'term_834', 'term_835', 'term_836', 'term_837', 'term_838', 'term_839', 'term_840', 'term_841', 'term_842', 'term_843', 'term_844', 'term_845', 'term_846', 'term_847', 'term_848', 'term_849', 'term_850', 'term_851', 'term_852', 'term_853', 'term_854', 'term_855', 'term_856', 'term_857', 'term_858', 'term_859', 'term_860', 'term_861', 'term_862', 'term_863', 'term_864', 'term_865', 'term_866', 'term_867', 'term_868', 'term_869', 'term_870', 'term_871', 'term_872', 'term_873', 'term_874', 'term_875', 'term_876', 'term_877', 'term_878', 'term_879', 'term_880', 'term_881', 'term_882', 'term_883', 'term_884', 'term_885', 'term_886', 'term_887', 'term_888', 'term_889', 'term_890', 'term_891', 'term_892', 'term_893', 'term_894', 'term_895', 'term_896', 'term_897', 'term_898', 'term_899', 'term_900', 'term_901', 'term_902', 'term_903', 'term_904', 'term_905', 'term_906', 'term_907', 'term_908', 'term_909', 'term_910', 'term_911', 'term_912', 'term_913', 'term_914', 'term_915', 'term_916', 'term_917', 'term_918', 'term_919', 'term_920', 'term_921', 'term_922', 'term_923', 'term_924', 'term_925', 'term_926', 'term_927', 'term_928', 'term_929', 'term_930', 'term_931', 'term_932', 'term_933', 'term_934', 'term_935', 'term_936', 'term_937', 'term_938', 'term_939', 'term_940', 'term_941', 'term_942', 'term_943', 'term_944', 'term_945', 'term_946', 'term_947', 'term_948', 'term_949', 'term_950', 'term_951', 'term_952', 'term_953', 'term_954', 'term_955', 'term_956', 'term_957', 'term_958', 'term_959', 'term_960', 'term_961', 'term_962', 'term_963', 'term_964', 'term_965', 'term_966', 'term_967', 'term_968', 'term_969', 'term_970', 'term_971', 'term_972', 'term_973', 'term_974', 'term_975', 'term_976', 'term_977', 'term_978', 'term_979', 'term_980', 'term_981', 'term_982', 'term_983', 'term_984', 'term_985', 'term_986', 'term_987', 'term_988', 'term_989', 'term_990', 'term_991', 'term_992', 'term_993', 'term_994', 'term_995', 'term_996', 'term_997', 'term_998', 'term_999', 'term_1000', 'term_1001', 'term_1002', 'term_1003', 'term_1004', 'term_1005', 'term_1006', 'term_1007', 'term_1008', 'term_1009', 'term_1010', 'term_1011', 'term_1012', 'term_1013', 'term_1014', 'term_1015', 'term_1016', 'term_1017', 'term_1018', 'term_1019', 'term_1020', 'term_1021', 'term_1022', 'term_1023', 'term_1024', 'term_1025', 'term_1026', 'term_1027', 'term_1028', 'term_1029', 'term_1030', 'term_1031', 'term_1032', 'term_1033', 'term_1034', 'term_1035', 'term_1036', 'term_1037', 'term_1038', 'term_1039', 'term_1040', 'term_1041', 'term_1042', 'term_1043', 'term_1044', 'term_1045', 'term_1046', 'term_1047', 'term_1048', 'term_1049', 'term_1050', 'term_1051', 'term_1052', 'term_1053', 'term_1054', 'term_1055', 'term_1056', 'term_1057', 'term_1058', 'term_1059', 'term_1060', 'term_1061', 'term_1062', 'term_1063', 'term_1064', 'term_1065', 'term_1066', 'term_1067', 'term_1068', 'term_1069', 'term_1070', 'term_1071', 'term_1072', 'term_1073', 'term_1074', 'term_1075', 'term_1076', 'term_1077', 'term_1078', 'term_1079', 'term_1080', 'term_1081', 'term_1082', 'term_1083', 'term_1084', 'term_1085', 'term_1086', 'term_1087', 'term_1088', 'term_1089', 'term_1090', 'term_1091', 'term_1092', 'term_1093', 'term_1094', 'term_1095', 'term_1096', 'term_1097', 'term_1098', 'term_1099', 'term_1100', 'term_1101', 'term_1102', 'term_1103', 'term_1104', 'term_1105', 'term_1106', 'term_1107', 'term_1108', 'term_1109', 'term_1110', 'term_1111', 'term_1112', 'term_1113', 'term_1114', 'term_1115', 'term_1116', 'term_1117', 'term_1118', 'term_1119', 'term_1120', 'term_1121', 'term_1122', 'term_1123', 'term_1124', 'term_1125', 'term_1126', 'term_1127', 'term_1128', 'term_1129', 'term_1130', 'term_1131', 'term_1132', 'term_1133', 'term_1134', 'term_1135', 'term_1136', 'term_1137', 'term_1138', 'term_1139', 'term_1140', 'term_1141', 'term_1142', 'term_1143', 'term_1144', 'term_1145', 'term_1146', 'term_1147', 'term_1148', 'term_1149', 'term_1150', 'term_1151', 'term_1152', 'term_1153', 'term_1154', 'term_1155', 'term_1156', 'term_1157', 'term_1158', 'term_1159', 'term_1160', 'term_1161', 'term_1162', 'term_1163', 'term_1164', 'term_1165', 'term_1166', 'term_1167', 'term_1168', 'term_1169', 'term_1170', 'term_1171', 'term_1172', 'term_1173', 'term_1174', 'term_1175', 'term_1176', 'term_1177', 'term_1178', 'term_1179', 'term_1180', 'term_1181', 'term_1182', 'term_1183', 'term_1184', 'term_1185', 'term_1186', 'term_1187', 'term_1188', 'term_1189', 'term_1190', 'term_1191', 'term_1192', 'term_1193', 'term_1194', 'term_1195', 'term_1196', 'term_1197', 'term_1198', 'term_1199', 'term_1200', 'term_1201', 'term_1202', 'term_1203', 'term_1204', 'term_1205', 'term_1206', 'term_1207', 'term_1208', 'term_1209', 'term_1210', 'term_1211', 'term_1212', 'term_1213', 'term_1214', 'term_1215', 'term_1216', 'term_1217', 'term_1218', 'term_1219', 'term_1220', 'term_1221', 'term_1222', 'term_1223', 'term_1224', 'term_1225', 'term_1226', 'term_1227', 'term_1228', 'term_1229', 'term_1230', 'term_1231', 'term_1232', 'term_1233', 'term_1234', 'term_1235', 'term_1236', 'term_1237', 'term_1238', 'term_1239', 'term_1240', 'term_1241', 'term_1242', 'term_1243', 'term_1244', 'term_1245', 'term_1246', 'term_1247', 'term_1248', 'term_1249', 'term_1250', 'term_1251', 'term_1252', 'term_1253', 'term_1254', 'term_1255', 'term_1256', 'term_1257', 'term_1258', 'term_1259', 'term_1260', 'term_1261', 'term_1262', 'term_1263', 'term_1264', 'term_1265', 'term_1266', 'term_1267', 'term_1268', 'term_1269', 'term_1270', 'term_1271', 'term_1272', 'term_1273', 'term_1274', 'term_1275', 'term_1276', 'term_1277', 'term_1278', 'term_1279', 'term_1280', 'term_1281', 'term_1282', 'term_1283', 'term_1284', 'term_1285', 'term_1286', 'term_1287', 'term_1288', 'term_1289', 'term_1290', 'term_1291', 'term_1292', 'term_1293', 'term_1294', 'term_1295', 'term_1296', 'term_1297', 'term_1298', 'term_1299', 'term_1300', 'term_1301', 'term_1302', 'term_1303', 'term_1304', 'term_1305', 'term_1306', 'term_1307', 'term_1308', 'term_1309', 'term_1310', 'term_1311', 'term_1312', 'term_1313', 'term_1314', 'term_1315', 'term_1316', 'term_1317', 'term_1318', 'term_1319', 'term_1320', 'term_1321', 'term_1322', 'term_1323', 'term_1324', 'term_1325', 'term_1326', 'term_1327', 'term_1328', 'term_1329', 'term_1330', 'term_1331', 'term_1332', 'term_1333', 'term_1334', 'term_1335', 'term_1336', 'term_1337', 'term_1338', 'term_1339', 'term_1340', 'term_1341', 'term_1342', 'term_1343', 'term_1344', 'term_1345', 'term_1346', 'term_1347', 'term_1348', 'term_1349', 'term_1350', 'term_1351', 'term_1352', 'term_1353', 'term_1354', 'term_1355', 'term_1356', 'term_1357', 'term_1358', 'term_1359', 'term_1360', 'term_1361', 'term_1362', 'term_1363', 'term_1364', 'term_1365', 'term_1366', 'term_1367', 'term_1368', 'term_1369', 'term_1370', 'term_1371', 'term_1372', 'term_1373', 'term_1374', 'term_1375', 'term_1376', 'term_1377', 'term_1378', 'term_1379', 'term_1380', 'term_1381', 'term_1382', 'term_1383', 'term_1384', 'term_1385', 'term_1386', 'term_1387', 'term_1388', 'term_1389', 'term_1390', 'term_1391', 'term_1392', 'term_1393', 'term_1394', 'term_1395', 'term_1396', 'term_1397', 'term_1398', 'term_1399', 'term_1400', 'term_1401', 'term_1402', 'term_1403', 'term_1404', 'term_1405', 'term_1406', 'term_1407', 'term_1408', 'term_1409', 'term_1410', 'term_1411', 'term_1412', 'term_1413', 'term_1414', 'term_1415', 'term_1416', 'term_1417', 'term_1418', 'term_1419', 'term_1420', 'term_1421', 'term_1422', 'term_1423', 'term_1424', 'term_1425', 'term_1426', 'term_1427', 'term_1428', 'term_1429', 'term_1430', 'term_1431', 'term_1432', 'subject']\n",
            "/root/.keras/datasets/cora/cora.content\n",
            "Papers shape: (2708, 1435)\n"
          ]
        }
      ],
      "source": [
        "column_names = [\"paper_id\"] + [f\"term_{idx}\" for idx in range(1433)] + [\"subject\"]\n",
        "print(column_names)\n",
        "print(os.path.join(data_dir, \"cora.content\"))\n",
        "papers = pd.read_csv(\n",
        "    os.path.join(data_dir, \"cora.content\"), sep=\"\\t\", header=None, names=column_names,\n",
        ")\n",
        "print(\"Papers shape:\", papers.shape)"
      ]
    },
    {
      "cell_type": "markdown",
      "metadata": {
        "id": "vthiivTxnsLG"
      },
      "source": [
        "Now we display a sample of the `papers` DataFrame. The DataFrame includes the `paper_id`\n",
        "and the `subject` columns, as well as 1,433 binary column representing whether a term exists\n",
        "in the paper or not."
      ]
    },
    {
      "cell_type": "code",
      "execution_count": 6,
      "metadata": {
        "colab": {
          "base_uri": "https://localhost:8080/"
        },
        "id": "iuItMDDonsLG",
        "outputId": "e12d6883-4589-4a08-d05e-2c06fc7cafe2"
      },
      "outputs": [
        {
          "output_type": "stream",
          "name": "stdout",
          "text": [
            "                      1250    615   ...                2232                1740\n",
            "paper_id             67245  101263  ...              286500             1134022\n",
            "term_0                   0       0  ...                   0                   0\n",
            "term_1                   0       0  ...                   0                   0\n",
            "term_2                   0       0  ...                   0                   0\n",
            "term_3                   0       0  ...                   0                   0\n",
            "...                    ...     ...  ...                 ...                 ...\n",
            "term_1429                0       0  ...                   0                   0\n",
            "term_1430                0       0  ...                   0                   0\n",
            "term_1431                0       0  ...                   0                   0\n",
            "term_1432                0       0  ...                   0                   0\n",
            "subject    Neural_Networks  Theory  ...  Genetic_Algorithms  Genetic_Algorithms\n",
            "\n",
            "[1435 rows x 5 columns]\n"
          ]
        }
      ],
      "source": [
        "print(papers.sample(5).T)"
      ]
    },
    {
      "cell_type": "markdown",
      "metadata": {
        "id": "OxKdMnlinsLG"
      },
      "source": [
        "Let's display the count of the papers in each subject."
      ]
    },
    {
      "cell_type": "code",
      "execution_count": 7,
      "metadata": {
        "colab": {
          "base_uri": "https://localhost:8080/"
        },
        "id": "eeMH0MbKnsLH",
        "outputId": "146004ed-d70e-4f15-a0d5-34c1853170d4"
      },
      "outputs": [
        {
          "output_type": "stream",
          "name": "stdout",
          "text": [
            "Neural_Networks           818\n",
            "Probabilistic_Methods     426\n",
            "Genetic_Algorithms        418\n",
            "Theory                    351\n",
            "Case_Based                298\n",
            "Reinforcement_Learning    217\n",
            "Rule_Learning             180\n",
            "Name: subject, dtype: int64\n"
          ]
        }
      ],
      "source": [
        "print(papers.subject.value_counts())"
      ]
    },
    {
      "cell_type": "markdown",
      "metadata": {
        "id": "ZxoTe4SensLH"
      },
      "source": [
        "We convert the paper ids and the subjects into zero-based indices."
      ]
    },
    {
      "cell_type": "code",
      "execution_count": 8,
      "metadata": {
        "id": "8qCAUEOknsLH"
      },
      "outputs": [],
      "source": [
        "class_values = sorted(papers[\"subject\"].unique())\n",
        "class_idx = {name: id for id, name in enumerate(class_values)}\n",
        "paper_idx = {name: idx for idx, name in enumerate(sorted(papers[\"paper_id\"].unique()))}\n",
        "\n",
        "papers[\"paper_id\"] = papers[\"paper_id\"].apply(lambda name: paper_idx[name])\n",
        "citations[\"source\"] = citations[\"source\"].apply(lambda name: paper_idx[name])\n",
        "citations[\"target\"] = citations[\"target\"].apply(lambda name: paper_idx[name])\n",
        "papers[\"subject\"] = papers[\"subject\"].apply(lambda value: class_idx[value])"
      ]
    },
    {
      "cell_type": "markdown",
      "metadata": {
        "id": "EeZDNScVnsLH"
      },
      "source": [
        "Now let's visualize the citation graph. Each node in the graph represents a paper,\n",
        "and the color of the node corresponds to its subject. Note that we only show a sample of\n",
        "the papers in the dataset."
      ]
    },
    {
      "cell_type": "code",
      "execution_count": 9,
      "metadata": {
        "colab": {
          "base_uri": "https://localhost:8080/",
          "height": 751
        },
        "id": "gerpVaTGnsLI",
        "outputId": "cc470f10-65f0-4834-9f24-47da32194c7a"
      },
      "outputs": [
        {
          "output_type": "display_data",
          "data": {
            "image/png": "[encoded data removed]",
            "text/plain": [
              "<Figure size 720x720 with 1 Axes>"
            ]
          },
          "metadata": {}
        }
      ],
      "source": [
        "plt.figure(figsize=(10, 10))\n",
        "colors = papers[\"subject\"].tolist()\n",
        "cora_graph = nx.from_pandas_edgelist(citations.sample(n=1500))\n",
        "subjects = list(papers[papers[\"paper_id\"].isin(list(cora_graph.nodes))][\"subject\"])\n",
        "nx.draw_spring(cora_graph, node_size=15, node_color=subjects)\n"
      ]
    },
    {
      "cell_type": "markdown",
      "metadata": {
        "id": "whqFIH50nsLI"
      },
      "source": [
        "### Split the dataset into stratified train and test sets"
      ]
    },
    {
      "cell_type": "code",
      "execution_count": 10,
      "metadata": {
        "colab": {
          "base_uri": "https://localhost:8080/"
        },
        "id": "0dvJfvW5nsLI",
        "outputId": "0995c364-44ef-4a3e-9916-512895fd7d29"
      },
      "outputs": [
        {
          "output_type": "stream",
          "name": "stdout",
          "text": [
            "Train data shape: (1347, 1435)\n",
            "Test data shape: (1361, 1435)\n"
          ]
        }
      ],
      "source": [
        "train_data, test_data = [], []\n",
        "\n",
        "for _, group_data in papers.groupby(\"subject\"):\n",
        "    # Select around 50% of the dataset for training.\n",
        "    random_selection = np.random.rand(len(group_data.index)) <= 0.5\n",
        "    train_data.append(group_data[random_selection])\n",
        "    test_data.append(group_data[~random_selection])\n",
        "\n",
        "train_data = pd.concat(train_data).sample(frac=1)\n",
        "test_data = pd.concat(test_data).sample(frac=1)\n",
        "\n",
        "print(\"Train data shape:\", train_data.shape)\n",
        "print(\"Test data shape:\", test_data.shape)"
      ]
    },
    {
      "cell_type": "markdown",
      "metadata": {
        "id": "R0pbjiF0nsLI"
      },
      "source": [
        "## Implement Train and Evaluate Experiment"
      ]
    },
    {
      "cell_type": "code",
      "execution_count": 11,
      "metadata": {
        "id": "km_I5pZ4nsLI"
      },
      "outputs": [],
      "source": [
        "hidden_units = [32, 32]\n",
        "learning_rate = 0.01\n",
        "dropout_rate = 0.5\n",
        "num_epochs = 300\n",
        "batch_size = 256"
      ]
    },
    {
      "cell_type": "markdown",
      "metadata": {
        "id": "1SJmrCKrnsLJ"
      },
      "source": [
        "This function compiles and trains an input model using the given training data."
      ]
    },
    {
      "cell_type": "code",
      "execution_count": 12,
      "metadata": {
        "id": "_19tk3kOnsLJ"
      },
      "outputs": [],
      "source": [
        "\n",
        "def run_experiment(model, x_train, y_train):\n",
        "    # Compile the model.\n",
        "    model.compile(\n",
        "        optimizer=keras.optimizers.Adam(learning_rate),\n",
        "        loss=keras.losses.SparseCategoricalCrossentropy(from_logits=True),\n",
        "        metrics=[keras.metrics.SparseCategoricalAccuracy(name=\"acc\")],\n",
        "    )\n",
        "    # Create an early stopping callback.\n",
        "    early_stopping = keras.callbacks.EarlyStopping(\n",
        "        monitor=\"val_acc\", patience=50, restore_best_weights=True\n",
        "    )\n",
        "    # Fit the model.\n",
        "    history = model.fit(\n",
        "        x=x_train,\n",
        "        y=y_train,\n",
        "        epochs=num_epochs,\n",
        "        batch_size=batch_size,\n",
        "        validation_split=0.15,\n",
        "        callbacks=[early_stopping],\n",
        "    )\n",
        "\n",
        "    return history\n"
      ]
    },
    {
      "cell_type": "markdown",
      "metadata": {
        "id": "qKDKXfiEnsLJ"
      },
      "source": [
        "This function displays the loss and accuracy curves of the model during training."
      ]
    },
    {
      "cell_type": "code",
      "execution_count": 13,
      "metadata": {
        "id": "nTZHuTI4nsLJ"
      },
      "outputs": [],
      "source": [
        "\n",
        "def display_learning_curves(history):\n",
        "    fig, (ax1, ax2) = plt.subplots(1, 2, figsize=(15, 5))\n",
        "\n",
        "    ax1.plot(history.history[\"loss\"])\n",
        "    ax1.plot(history.history[\"val_loss\"])\n",
        "    ax1.legend([\"train\", \"test\"], loc=\"upper right\")\n",
        "    ax1.set_xlabel(\"Epochs\")\n",
        "    ax1.set_ylabel(\"Loss\")\n",
        "\n",
        "    ax2.plot(history.history[\"acc\"])\n",
        "    ax2.plot(history.history[\"val_acc\"])\n",
        "    ax2.legend([\"train\", \"test\"], loc=\"upper right\")\n",
        "    ax2.set_xlabel(\"Epochs\")\n",
        "    ax2.set_ylabel(\"Accuracy\")\n",
        "    plt.show()\n"
      ]
    },
    {
      "cell_type": "markdown",
      "metadata": {
        "id": "4Fssy9wYnsLJ"
      },
      "source": [
        "## Implement Feedforward Network (FFN) Module\n",
        "\n",
        "We will use this module in the baseline and the GNN models."
      ]
    },
    {
      "cell_type": "code",
      "execution_count": 14,
      "metadata": {
        "id": "knblU44EnsLJ"
      },
      "outputs": [],
      "source": [
        "\n",
        "def create_ffn(hidden_units, dropout_rate, name=None):\n",
        "    fnn_layers = []\n",
        "\n",
        "    for units in hidden_units:\n",
        "        fnn_layers.append(layers.BatchNormalization())\n",
        "        fnn_layers.append(layers.Dropout(dropout_rate))\n",
        "        fnn_layers.append(layers.Dense(units, activation=tf.nn.gelu))\n",
        "\n",
        "    return keras.Sequential(fnn_layers, name=name)\n"
      ]
    },
    {
      "cell_type": "markdown",
      "metadata": {
        "id": "QdPbCfZunsLJ"
      },
      "source": [
        "## Build a Baseline Neural Network Model\n",
        "\n",
        "### Prepare the data for the baseline model"
      ]
    },
    {
      "cell_type": "code",
      "execution_count": 15,
      "metadata": {
        "id": "X1p8Qy6fnsLK"
      },
      "outputs": [],
      "source": [
        "feature_names = set(papers.columns) - {\"paper_id\", \"subject\"}\n",
        "num_features = len(feature_names)\n",
        "num_classes = len(class_idx)\n",
        "\n",
        "# Create train and test features as a numpy array.\n",
        "x_train = train_data[feature_names].to_numpy()\n",
        "x_test = test_data[feature_names].to_numpy()\n",
        "# Create train and test targets as a numpy array.\n",
        "y_train = train_data[\"subject\"]\n",
        "y_test = test_data[\"subject\"]"
      ]
    },
    {
      "cell_type": "markdown",
      "metadata": {
        "id": "iIxw4D3xnsLK"
      },
      "source": [
        "### Implement a baseline classifier\n",
        "\n",
        "We add five FFN blocks with skip connections, so that we generate a baseline model with\n",
        "roughly the same number of parameters as the GNN models to be built later."
      ]
    },
    {
      "cell_type": "code",
      "execution_count": 16,
      "metadata": {
        "colab": {
          "base_uri": "https://localhost:8080/"
        },
        "id": "xOam2vybnsLK",
        "outputId": "5e409a11-6480-482c-c793-f8bcaeea4ee7"
      },
      "outputs": [
        {
          "output_type": "stream",
          "name": "stdout",
          "text": [
            "Model: \"baseline\"\n",
            "__________________________________________________________________________________________________\n",
            " Layer (type)                   Output Shape         Param #     Connected to                     \n",
            "==================================================================================================\n",
            " input_features (InputLayer)    [(None, 1433)]       0           []                               \n",
            "                                                                                                  \n",
            " ffn_block1 (Sequential)        (None, 32)           52804       ['input_features[0][0]']         \n",
            "                                                                                                  \n",
            " ffn_block2 (Sequential)        (None, 32)           2368        ['ffn_block1[0][0]']             \n",
            "                                                                                                  \n",
            " skip_connection2 (Add)         (None, 32)           0           ['ffn_block1[0][0]',             \n",
            "                                                                  'ffn_block2[0][0]']             \n",
            "                                                                                                  \n",
            " ffn_block3 (Sequential)        (None, 32)           2368        ['skip_connection2[0][0]']       \n",
            "                                                                                                  \n",
            " skip_connection3 (Add)         (None, 32)           0           ['skip_connection2[0][0]',       \n",
            "                                                                  'ffn_block3[0][0]']             \n",
            "                                                                                                  \n",
            " ffn_block4 (Sequential)        (None, 32)           2368        ['skip_connection3[0][0]']       \n",
            "                                                                                                  \n",
            " skip_connection4 (Add)         (None, 32)           0           ['skip_connection3[0][0]',       \n",
            "                                                                  'ffn_block4[0][0]']             \n",
            "                                                                                                  \n",
            " ffn_block5 (Sequential)        (None, 32)           2368        ['skip_connection4[0][0]']       \n",
            "                                                                                                  \n",
            " skip_connection5 (Add)         (None, 32)           0           ['skip_connection4[0][0]',       \n",
            "                                                                  'ffn_block5[0][0]']             \n",
            "                                                                                                  \n",
            " logits (Dense)                 (None, 7)            231         ['skip_connection5[0][0]']       \n",
            "                                                                                                  \n",
            "==================================================================================================\n",
            "Total params: 62,507\n",
            "Trainable params: 59,065\n",
            "Non-trainable params: 3,442\n",
            "__________________________________________________________________________________________________\n"
          ]
        }
      ],
      "source": [
        "\n",
        "def create_baseline_model(hidden_units, num_classes, dropout_rate=0.2):\n",
        "    inputs = layers.Input(shape=(num_features,), name=\"input_features\")\n",
        "    x = create_ffn(hidden_units, dropout_rate, name=f\"ffn_block1\")(inputs)\n",
        "    for block_idx in range(4):\n",
        "        # Create an FFN block.\n",
        "        x1 = create_ffn(hidden_units, dropout_rate, name=f\"ffn_block{block_idx + 2}\")(x)\n",
        "        # Add skip connection.\n",
        "        x = layers.Add(name=f\"skip_connection{block_idx + 2}\")([x, x1])\n",
        "    # Compute logits.\n",
        "    logits = layers.Dense(num_classes, name=\"logits\")(x)\n",
        "    # Create the model.\n",
        "    return keras.Model(inputs=inputs, outputs=logits, name=\"baseline\")\n",
        "\n",
        "\n",
        "baseline_model = create_baseline_model(hidden_units, num_classes, dropout_rate)\n",
        "baseline_model.summary()"
      ]
    },
    {
      "cell_type": "markdown",
      "metadata": {
        "id": "hNzZyDx8nsLK"
      },
      "source": [
        "### Train the baseline classifier"
      ]
    },
    {
      "cell_type": "code",
      "execution_count": 17,
      "metadata": {
        "colab": {
          "base_uri": "https://localhost:8080/"
        },
        "id": "BgPGHGFBnsLK",
        "outputId": "22094789-92ea-4f43-cbd7-071d9d0c91c4"
      },
      "outputs": [
        {
          "output_type": "stream",
          "name": "stdout",
          "text": [
            "Epoch 1/300\n",
            "5/5 [==============================] - 8s 156ms/step - loss: 3.6117 - acc: 0.1687 - val_loss: 1.8843 - val_acc: 0.3448\n",
            "Epoch 2/300\n",
            "5/5 [==============================] - 0s 26ms/step - loss: 2.6895 - acc: 0.2491 - val_loss: 1.8976 - val_acc: 0.1478\n",
            "Epoch 3/300\n",
            "5/5 [==============================] - 0s 24ms/step - loss: 2.2761 - acc: 0.2771 - val_loss: 1.9171 - val_acc: 0.1232\n",
            "Epoch 4/300\n",
            "5/5 [==============================] - 0s 25ms/step - loss: 2.0874 - acc: 0.2753 - val_loss: 1.8960 - val_acc: 0.2167\n",
            "Epoch 5/300\n",
            "5/5 [==============================] - 0s 28ms/step - loss: 1.9992 - acc: 0.2823 - val_loss: 1.8548 - val_acc: 0.3695\n",
            "Epoch 6/300\n",
            "5/5 [==============================] - 0s 23ms/step - loss: 1.8793 - acc: 0.3234 - val_loss: 1.8131 - val_acc: 0.3350\n",
            "Epoch 7/300\n",
            "5/5 [==============================] - 0s 23ms/step - loss: 1.7835 - acc: 0.3531 - val_loss: 1.7781 - val_acc: 0.3202\n",
            "Epoch 8/300\n",
            "5/5 [==============================] - 0s 23ms/step - loss: 1.7256 - acc: 0.3811 - val_loss: 1.7538 - val_acc: 0.3448\n",
            "Epoch 9/300\n",
            "5/5 [==============================] - 0s 23ms/step - loss: 1.5955 - acc: 0.4205 - val_loss: 1.7357 - val_acc: 0.3645\n",
            "Epoch 10/300\n",
            "5/5 [==============================] - 0s 27ms/step - loss: 1.5213 - acc: 0.4423 - val_loss: 1.6907 - val_acc: 0.3596\n",
            "Epoch 11/300\n",
            "5/5 [==============================] - 0s 31ms/step - loss: 1.4636 - acc: 0.4598 - val_loss: 1.6252 - val_acc: 0.4039\n",
            "Epoch 12/300\n",
            "5/5 [==============================] - 0s 28ms/step - loss: 1.4076 - acc: 0.4764 - val_loss: 1.5354 - val_acc: 0.4483\n",
            "Epoch 13/300\n",
            "5/5 [==============================] - 0s 23ms/step - loss: 1.3135 - acc: 0.5192 - val_loss: 1.4505 - val_acc: 0.4187\n",
            "Epoch 14/300\n",
            "5/5 [==============================] - 0s 23ms/step - loss: 1.2298 - acc: 0.5559 - val_loss: 1.4217 - val_acc: 0.3990\n",
            "Epoch 15/300\n",
            "5/5 [==============================] - 0s 24ms/step - loss: 1.1455 - acc: 0.5830 - val_loss: 1.4220 - val_acc: 0.4039\n",
            "Epoch 16/300\n",
            "5/5 [==============================] - 0s 27ms/step - loss: 1.1326 - acc: 0.5979 - val_loss: 1.3931 - val_acc: 0.4483\n",
            "Epoch 17/300\n",
            "5/5 [==============================] - 0s 24ms/step - loss: 1.1153 - acc: 0.6163 - val_loss: 1.4506 - val_acc: 0.4089\n",
            "Epoch 18/300\n",
            "5/5 [==============================] - 0s 24ms/step - loss: 1.0413 - acc: 0.6425 - val_loss: 1.6169 - val_acc: 0.3892\n",
            "Epoch 19/300\n",
            "5/5 [==============================] - 0s 22ms/step - loss: 0.9666 - acc: 0.6643 - val_loss: 1.7041 - val_acc: 0.3892\n",
            "Epoch 20/300\n",
            "5/5 [==============================] - 0s 23ms/step - loss: 0.9195 - acc: 0.6740 - val_loss: 1.7380 - val_acc: 0.3990\n",
            "Epoch 21/300\n",
            "5/5 [==============================] - 0s 29ms/step - loss: 0.8583 - acc: 0.6958 - val_loss: 1.7415 - val_acc: 0.4236\n",
            "Epoch 22/300\n",
            "5/5 [==============================] - 0s 23ms/step - loss: 0.8365 - acc: 0.7203 - val_loss: 1.7910 - val_acc: 0.4187\n",
            "Epoch 23/300\n",
            "5/5 [==============================] - 0s 28ms/step - loss: 0.7514 - acc: 0.7308 - val_loss: 1.8187 - val_acc: 0.4236\n",
            "Epoch 24/300\n",
            "5/5 [==============================] - 0s 26ms/step - loss: 0.8046 - acc: 0.7142 - val_loss: 1.6618 - val_acc: 0.4680\n",
            "Epoch 25/300\n",
            "5/5 [==============================] - 0s 28ms/step - loss: 0.7832 - acc: 0.7220 - val_loss: 1.6430 - val_acc: 0.4631\n",
            "Epoch 26/300\n",
            "5/5 [==============================] - 0s 30ms/step - loss: 0.7011 - acc: 0.7587 - val_loss: 1.4227 - val_acc: 0.5172\n",
            "Epoch 27/300\n",
            "5/5 [==============================] - 0s 28ms/step - loss: 0.7063 - acc: 0.7579 - val_loss: 1.2657 - val_acc: 0.5911\n",
            "Epoch 28/300\n",
            "5/5 [==============================] - 0s 28ms/step - loss: 0.6523 - acc: 0.7736 - val_loss: 1.1764 - val_acc: 0.6010\n",
            "Epoch 29/300\n",
            "5/5 [==============================] - 0s 28ms/step - loss: 0.6212 - acc: 0.7823 - val_loss: 1.0884 - val_acc: 0.6059\n",
            "Epoch 30/300\n",
            "5/5 [==============================] - 0s 27ms/step - loss: 0.6610 - acc: 0.7692 - val_loss: 1.0237 - val_acc: 0.6355\n",
            "Epoch 31/300\n",
            "5/5 [==============================] - 0s 27ms/step - loss: 0.6549 - acc: 0.7675 - val_loss: 1.0071 - val_acc: 0.6502\n",
            "Epoch 32/300\n",
            "5/5 [==============================] - 0s 25ms/step - loss: 0.6217 - acc: 0.7815 - val_loss: 1.0418 - val_acc: 0.6453\n",
            "Epoch 33/300\n",
            "5/5 [==============================] - 0s 26ms/step - loss: 0.6028 - acc: 0.7920 - val_loss: 1.0418 - val_acc: 0.6502\n",
            "Epoch 34/300\n",
            "5/5 [==============================] - 0s 27ms/step - loss: 0.5893 - acc: 0.7963 - val_loss: 1.0222 - val_acc: 0.6552\n",
            "Epoch 35/300\n",
            "5/5 [==============================] - 0s 23ms/step - loss: 0.5719 - acc: 0.8051 - val_loss: 1.0592 - val_acc: 0.6453\n",
            "Epoch 36/300\n",
            "5/5 [==============================] - 0s 23ms/step - loss: 0.6120 - acc: 0.7981 - val_loss: 1.0499 - val_acc: 0.6355\n",
            "Epoch 37/300\n",
            "5/5 [==============================] - 0s 24ms/step - loss: 0.5290 - acc: 0.8156 - val_loss: 0.9964 - val_acc: 0.6404\n",
            "Epoch 38/300\n",
            "5/5 [==============================] - 0s 28ms/step - loss: 0.5604 - acc: 0.8033 - val_loss: 0.9023 - val_acc: 0.6847\n",
            "Epoch 39/300\n",
            "5/5 [==============================] - 0s 30ms/step - loss: 0.5412 - acc: 0.8191 - val_loss: 0.8911 - val_acc: 0.6995\n",
            "Epoch 40/300\n",
            "5/5 [==============================] - 0s 23ms/step - loss: 0.5491 - acc: 0.8059 - val_loss: 0.9312 - val_acc: 0.6847\n",
            "Epoch 41/300\n",
            "5/5 [==============================] - 0s 28ms/step - loss: 0.5203 - acc: 0.8243 - val_loss: 0.9225 - val_acc: 0.6946\n",
            "Epoch 42/300\n",
            "5/5 [==============================] - 0s 25ms/step - loss: 0.4999 - acc: 0.8278 - val_loss: 0.8996 - val_acc: 0.6946\n",
            "Epoch 43/300\n",
            "5/5 [==============================] - 0s 28ms/step - loss: 0.4822 - acc: 0.8260 - val_loss: 0.8624 - val_acc: 0.7241\n",
            "Epoch 44/300\n",
            "5/5 [==============================] - 0s 26ms/step - loss: 0.5107 - acc: 0.8260 - val_loss: 0.8711 - val_acc: 0.6995\n",
            "Epoch 45/300\n",
            "5/5 [==============================] - 0s 23ms/step - loss: 0.5054 - acc: 0.8147 - val_loss: 0.8869 - val_acc: 0.6946\n",
            "Epoch 46/300\n",
            "5/5 [==============================] - 0s 27ms/step - loss: 0.5150 - acc: 0.8226 - val_loss: 0.8711 - val_acc: 0.7044\n",
            "Epoch 47/300\n",
            "5/5 [==============================] - 0s 23ms/step - loss: 0.5031 - acc: 0.8313 - val_loss: 0.8422 - val_acc: 0.7241\n",
            "Epoch 48/300\n",
            "5/5 [==============================] - 0s 24ms/step - loss: 0.4709 - acc: 0.8374 - val_loss: 0.8767 - val_acc: 0.6946\n",
            "Epoch 49/300\n",
            "5/5 [==============================] - 0s 27ms/step - loss: 0.4901 - acc: 0.8226 - val_loss: 0.9418 - val_acc: 0.6897\n",
            "Epoch 50/300\n",
            "5/5 [==============================] - 0s 25ms/step - loss: 0.4671 - acc: 0.8497 - val_loss: 0.9860 - val_acc: 0.6798\n",
            "Epoch 51/300\n",
            "5/5 [==============================] - 0s 23ms/step - loss: 0.4304 - acc: 0.8488 - val_loss: 0.9930 - val_acc: 0.6749\n",
            "Epoch 52/300\n",
            "5/5 [==============================] - 0s 26ms/step - loss: 0.4709 - acc: 0.8339 - val_loss: 0.9524 - val_acc: 0.6995\n",
            "Epoch 53/300\n",
            "5/5 [==============================] - 0s 22ms/step - loss: 0.4654 - acc: 0.8523 - val_loss: 0.8962 - val_acc: 0.6995\n",
            "Epoch 54/300\n",
            "5/5 [==============================] - 0s 24ms/step - loss: 0.4692 - acc: 0.8462 - val_loss: 0.9352 - val_acc: 0.6995\n",
            "Epoch 55/300\n",
            "5/5 [==============================] - 0s 28ms/step - loss: 0.4648 - acc: 0.8418 - val_loss: 0.9221 - val_acc: 0.6946\n",
            "Epoch 56/300\n",
            "5/5 [==============================] - 0s 24ms/step - loss: 0.4575 - acc: 0.8348 - val_loss: 0.8765 - val_acc: 0.7044\n",
            "Epoch 57/300\n",
            "5/5 [==============================] - 0s 26ms/step - loss: 0.5409 - acc: 0.8164 - val_loss: 0.9097 - val_acc: 0.7094\n",
            "Epoch 58/300\n",
            "5/5 [==============================] - 0s 24ms/step - loss: 0.4320 - acc: 0.8505 - val_loss: 0.9532 - val_acc: 0.6995\n",
            "Epoch 59/300\n",
            "5/5 [==============================] - 0s 23ms/step - loss: 0.4799 - acc: 0.8269 - val_loss: 0.9387 - val_acc: 0.7044\n",
            "Epoch 60/300\n",
            "5/5 [==============================] - 0s 23ms/step - loss: 0.4211 - acc: 0.8654 - val_loss: 0.8913 - val_acc: 0.7094\n",
            "Epoch 61/300\n",
            "5/5 [==============================] - 0s 23ms/step - loss: 0.4285 - acc: 0.8470 - val_loss: 0.8752 - val_acc: 0.6995\n",
            "Epoch 62/300\n",
            "5/5 [==============================] - 0s 23ms/step - loss: 0.4137 - acc: 0.8479 - val_loss: 0.8602 - val_acc: 0.6995\n",
            "Epoch 63/300\n",
            "5/5 [==============================] - 0s 23ms/step - loss: 0.4665 - acc: 0.8383 - val_loss: 0.8985 - val_acc: 0.7044\n",
            "Epoch 64/300\n",
            "5/5 [==============================] - 0s 25ms/step - loss: 0.3955 - acc: 0.8706 - val_loss: 0.8912 - val_acc: 0.7044\n",
            "Epoch 65/300\n",
            "5/5 [==============================] - 0s 25ms/step - loss: 0.4470 - acc: 0.8462 - val_loss: 0.8461 - val_acc: 0.7094\n",
            "Epoch 66/300\n",
            "5/5 [==============================] - 0s 24ms/step - loss: 0.4940 - acc: 0.8295 - val_loss: 0.8658 - val_acc: 0.6995\n",
            "Epoch 67/300\n",
            "5/5 [==============================] - 0s 24ms/step - loss: 0.4022 - acc: 0.8575 - val_loss: 0.8529 - val_acc: 0.7094\n",
            "Epoch 68/300\n",
            "5/5 [==============================] - 0s 23ms/step - loss: 0.4057 - acc: 0.8523 - val_loss: 0.8652 - val_acc: 0.7094\n",
            "Epoch 69/300\n",
            "5/5 [==============================] - 0s 23ms/step - loss: 0.3599 - acc: 0.8698 - val_loss: 0.8667 - val_acc: 0.7044\n",
            "Epoch 70/300\n",
            "5/5 [==============================] - 0s 24ms/step - loss: 0.4128 - acc: 0.8566 - val_loss: 0.8921 - val_acc: 0.7143\n",
            "Epoch 71/300\n",
            "5/5 [==============================] - 0s 26ms/step - loss: 0.4214 - acc: 0.8549 - val_loss: 0.9157 - val_acc: 0.6995\n",
            "Epoch 72/300\n",
            "5/5 [==============================] - 0s 24ms/step - loss: 0.3906 - acc: 0.8654 - val_loss: 0.8927 - val_acc: 0.6995\n",
            "Epoch 73/300\n",
            "5/5 [==============================] - 0s 27ms/step - loss: 0.3823 - acc: 0.8654 - val_loss: 0.8324 - val_acc: 0.7241\n",
            "Epoch 74/300\n",
            "5/5 [==============================] - 0s 24ms/step - loss: 0.4273 - acc: 0.8593 - val_loss: 0.8588 - val_acc: 0.7241\n",
            "Epoch 75/300\n",
            "5/5 [==============================] - 0s 25ms/step - loss: 0.3798 - acc: 0.8654 - val_loss: 0.8963 - val_acc: 0.7192\n",
            "Epoch 76/300\n",
            "5/5 [==============================] - 0s 24ms/step - loss: 0.4079 - acc: 0.8584 - val_loss: 0.9158 - val_acc: 0.7192\n",
            "Epoch 77/300\n",
            "5/5 [==============================] - 0s 23ms/step - loss: 0.4197 - acc: 0.8531 - val_loss: 0.8440 - val_acc: 0.7143\n",
            "Epoch 78/300\n",
            "5/5 [==============================] - 0s 24ms/step - loss: 0.4106 - acc: 0.8601 - val_loss: 0.7897 - val_acc: 0.7241\n",
            "Epoch 79/300\n",
            "5/5 [==============================] - 0s 30ms/step - loss: 0.4216 - acc: 0.8514 - val_loss: 0.7728 - val_acc: 0.7291\n",
            "Epoch 80/300\n",
            "5/5 [==============================] - 0s 31ms/step - loss: 0.4047 - acc: 0.8531 - val_loss: 0.7741 - val_acc: 0.7438\n",
            "Epoch 81/300\n",
            "5/5 [==============================] - 0s 24ms/step - loss: 0.3568 - acc: 0.8680 - val_loss: 0.8308 - val_acc: 0.7192\n",
            "Epoch 82/300\n",
            "5/5 [==============================] - 0s 23ms/step - loss: 0.3774 - acc: 0.8593 - val_loss: 0.8659 - val_acc: 0.7192\n",
            "Epoch 83/300\n",
            "5/5 [==============================] - 0s 23ms/step - loss: 0.3504 - acc: 0.8776 - val_loss: 0.8652 - val_acc: 0.6995\n",
            "Epoch 84/300\n",
            "5/5 [==============================] - 0s 24ms/step - loss: 0.4168 - acc: 0.8558 - val_loss: 0.8780 - val_acc: 0.6995\n",
            "Epoch 85/300\n",
            "5/5 [==============================] - 0s 25ms/step - loss: 0.4188 - acc: 0.8575 - val_loss: 0.8602 - val_acc: 0.7241\n",
            "Epoch 86/300\n",
            "5/5 [==============================] - 0s 23ms/step - loss: 0.3702 - acc: 0.8733 - val_loss: 0.8360 - val_acc: 0.7291\n",
            "Epoch 87/300\n",
            "5/5 [==============================] - 0s 24ms/step - loss: 0.3740 - acc: 0.8706 - val_loss: 0.8693 - val_acc: 0.7094\n",
            "Epoch 88/300\n",
            "5/5 [==============================] - 0s 24ms/step - loss: 0.3911 - acc: 0.8733 - val_loss: 0.8747 - val_acc: 0.6995\n",
            "Epoch 89/300\n",
            "5/5 [==============================] - 0s 28ms/step - loss: 0.3593 - acc: 0.8715 - val_loss: 0.8250 - val_acc: 0.7241\n",
            "Epoch 90/300\n",
            "5/5 [==============================] - 0s 25ms/step - loss: 0.3912 - acc: 0.8759 - val_loss: 0.8163 - val_acc: 0.7340\n",
            "Epoch 91/300\n",
            "5/5 [==============================] - 0s 23ms/step - loss: 0.3789 - acc: 0.8759 - val_loss: 0.8582 - val_acc: 0.7044\n",
            "Epoch 92/300\n",
            "5/5 [==============================] - 0s 23ms/step - loss: 0.3992 - acc: 0.8663 - val_loss: 0.8683 - val_acc: 0.6897\n",
            "Epoch 93/300\n",
            "5/5 [==============================] - 0s 25ms/step - loss: 0.3653 - acc: 0.8776 - val_loss: 0.8434 - val_acc: 0.6897\n",
            "Epoch 94/300\n",
            "5/5 [==============================] - 0s 24ms/step - loss: 0.3809 - acc: 0.8698 - val_loss: 0.8642 - val_acc: 0.6995\n",
            "Epoch 95/300\n",
            "5/5 [==============================] - 0s 25ms/step - loss: 0.3601 - acc: 0.8698 - val_loss: 0.8792 - val_acc: 0.6798\n",
            "Epoch 96/300\n",
            "5/5 [==============================] - 0s 25ms/step - loss: 0.3525 - acc: 0.8759 - val_loss: 0.8564 - val_acc: 0.7044\n",
            "Epoch 97/300\n",
            "5/5 [==============================] - 0s 25ms/step - loss: 0.3671 - acc: 0.8785 - val_loss: 0.8855 - val_acc: 0.6847\n",
            "Epoch 98/300\n",
            "5/5 [==============================] - 0s 26ms/step - loss: 0.3510 - acc: 0.8811 - val_loss: 0.8429 - val_acc: 0.7192\n",
            "Epoch 99/300\n",
            "5/5 [==============================] - 0s 23ms/step - loss: 0.4095 - acc: 0.8593 - val_loss: 0.8230 - val_acc: 0.7241\n",
            "Epoch 100/300\n",
            "5/5 [==============================] - 0s 24ms/step - loss: 0.3661 - acc: 0.8750 - val_loss: 0.8218 - val_acc: 0.7143\n",
            "Epoch 101/300\n",
            "5/5 [==============================] - 0s 25ms/step - loss: 0.3914 - acc: 0.8671 - val_loss: 0.8505 - val_acc: 0.7192\n",
            "Epoch 102/300\n",
            "5/5 [==============================] - 0s 23ms/step - loss: 0.3535 - acc: 0.8715 - val_loss: 0.8473 - val_acc: 0.7094\n",
            "Epoch 103/300\n",
            "5/5 [==============================] - 0s 23ms/step - loss: 0.3961 - acc: 0.8654 - val_loss: 0.8179 - val_acc: 0.7094\n",
            "Epoch 104/300\n",
            "5/5 [==============================] - 0s 25ms/step - loss: 0.3874 - acc: 0.8671 - val_loss: 0.8256 - val_acc: 0.7094\n",
            "Epoch 105/300\n",
            "5/5 [==============================] - 0s 23ms/step - loss: 0.4335 - acc: 0.8453 - val_loss: 0.8059 - val_acc: 0.7241\n",
            "Epoch 106/300\n",
            "5/5 [==============================] - 0s 26ms/step - loss: 0.3531 - acc: 0.8741 - val_loss: 0.8065 - val_acc: 0.7241\n",
            "Epoch 107/300\n",
            "5/5 [==============================] - 0s 24ms/step - loss: 0.3455 - acc: 0.8750 - val_loss: 0.8300 - val_acc: 0.7192\n",
            "Epoch 108/300\n",
            "5/5 [==============================] - 0s 23ms/step - loss: 0.3953 - acc: 0.8593 - val_loss: 0.8539 - val_acc: 0.7044\n",
            "Epoch 109/300\n",
            "5/5 [==============================] - 0s 28ms/step - loss: 0.3606 - acc: 0.8724 - val_loss: 0.8708 - val_acc: 0.6946\n",
            "Epoch 110/300\n",
            "5/5 [==============================] - 0s 23ms/step - loss: 0.3653 - acc: 0.8628 - val_loss: 0.8645 - val_acc: 0.7044\n",
            "Epoch 111/300\n",
            "5/5 [==============================] - 0s 24ms/step - loss: 0.3584 - acc: 0.8733 - val_loss: 0.8710 - val_acc: 0.6995\n",
            "Epoch 112/300\n",
            "5/5 [==============================] - 0s 24ms/step - loss: 0.3363 - acc: 0.8733 - val_loss: 0.8880 - val_acc: 0.6995\n",
            "Epoch 113/300\n",
            "5/5 [==============================] - 0s 24ms/step - loss: 0.3459 - acc: 0.8689 - val_loss: 0.8856 - val_acc: 0.7044\n",
            "Epoch 114/300\n",
            "5/5 [==============================] - 0s 27ms/step - loss: 0.3603 - acc: 0.8750 - val_loss: 0.8900 - val_acc: 0.7044\n",
            "Epoch 115/300\n",
            "5/5 [==============================] - 0s 24ms/step - loss: 0.3685 - acc: 0.8715 - val_loss: 0.8767 - val_acc: 0.7192\n",
            "Epoch 116/300\n",
            "5/5 [==============================] - 0s 23ms/step - loss: 0.3341 - acc: 0.8872 - val_loss: 0.8714 - val_acc: 0.7192\n",
            "Epoch 117/300\n",
            "5/5 [==============================] - 0s 26ms/step - loss: 0.3367 - acc: 0.8794 - val_loss: 0.9121 - val_acc: 0.7094\n",
            "Epoch 118/300\n",
            "5/5 [==============================] - 0s 30ms/step - loss: 0.3622 - acc: 0.8680 - val_loss: 0.9411 - val_acc: 0.6897\n",
            "Epoch 119/300\n",
            "5/5 [==============================] - 0s 24ms/step - loss: 0.3547 - acc: 0.8837 - val_loss: 0.9854 - val_acc: 0.6700\n",
            "Epoch 120/300\n",
            "5/5 [==============================] - 0s 26ms/step - loss: 0.3495 - acc: 0.8837 - val_loss: 0.9542 - val_acc: 0.6995\n",
            "Epoch 121/300\n",
            "5/5 [==============================] - 0s 24ms/step - loss: 0.3788 - acc: 0.8654 - val_loss: 0.9330 - val_acc: 0.7291\n",
            "Epoch 122/300\n",
            "5/5 [==============================] - 0s 26ms/step - loss: 0.3258 - acc: 0.8846 - val_loss: 0.9148 - val_acc: 0.7291\n",
            "Epoch 123/300\n",
            "5/5 [==============================] - 0s 24ms/step - loss: 0.3707 - acc: 0.8724 - val_loss: 0.9599 - val_acc: 0.6847\n",
            "Epoch 124/300\n",
            "5/5 [==============================] - 0s 23ms/step - loss: 0.3616 - acc: 0.8741 - val_loss: 0.9450 - val_acc: 0.6897\n",
            "Epoch 125/300\n",
            "5/5 [==============================] - 0s 23ms/step - loss: 0.3565 - acc: 0.8802 - val_loss: 0.8842 - val_acc: 0.7291\n",
            "Epoch 126/300\n",
            "5/5 [==============================] - 0s 30ms/step - loss: 0.3618 - acc: 0.8837 - val_loss: 0.8755 - val_acc: 0.7488\n",
            "Epoch 127/300\n",
            "5/5 [==============================] - 0s 25ms/step - loss: 0.3607 - acc: 0.8654 - val_loss: 0.8833 - val_acc: 0.7438\n",
            "Epoch 128/300\n",
            "5/5 [==============================] - 0s 25ms/step - loss: 0.3479 - acc: 0.8689 - val_loss: 0.8922 - val_acc: 0.7438\n",
            "Epoch 129/300\n",
            "5/5 [==============================] - 0s 24ms/step - loss: 0.3384 - acc: 0.8829 - val_loss: 0.8973 - val_acc: 0.7438\n",
            "Epoch 130/300\n",
            "5/5 [==============================] - 0s 25ms/step - loss: 0.3322 - acc: 0.8820 - val_loss: 0.8713 - val_acc: 0.7389\n",
            "Epoch 131/300\n",
            "5/5 [==============================] - 0s 26ms/step - loss: 0.3073 - acc: 0.8942 - val_loss: 0.8662 - val_acc: 0.7389\n",
            "Epoch 132/300\n",
            "5/5 [==============================] - 0s 23ms/step - loss: 0.3493 - acc: 0.8750 - val_loss: 0.8841 - val_acc: 0.7389\n",
            "Epoch 133/300\n",
            "5/5 [==============================] - 0s 23ms/step - loss: 0.3521 - acc: 0.8759 - val_loss: 0.9244 - val_acc: 0.7241\n",
            "Epoch 134/300\n",
            "5/5 [==============================] - 0s 23ms/step - loss: 0.3465 - acc: 0.8802 - val_loss: 0.9124 - val_acc: 0.7340\n",
            "Epoch 135/300\n",
            "5/5 [==============================] - 0s 23ms/step - loss: 0.3430 - acc: 0.8794 - val_loss: 0.9223 - val_acc: 0.7340\n",
            "Epoch 136/300\n",
            "5/5 [==============================] - 0s 24ms/step - loss: 0.3504 - acc: 0.8802 - val_loss: 0.9930 - val_acc: 0.6897\n",
            "Epoch 137/300\n",
            "5/5 [==============================] - 0s 23ms/step - loss: 0.3334 - acc: 0.8899 - val_loss: 0.9472 - val_acc: 0.7143\n",
            "Epoch 138/300\n",
            "5/5 [==============================] - 0s 32ms/step - loss: 0.3295 - acc: 0.8837 - val_loss: 0.9016 - val_acc: 0.7389\n",
            "Epoch 139/300\n",
            "5/5 [==============================] - 0s 26ms/step - loss: 0.3293 - acc: 0.8680 - val_loss: 0.9122 - val_acc: 0.7340\n",
            "Epoch 140/300\n",
            "5/5 [==============================] - 0s 28ms/step - loss: 0.3800 - acc: 0.8628 - val_loss: 0.9353 - val_acc: 0.7192\n",
            "Epoch 141/300\n",
            "5/5 [==============================] - 0s 23ms/step - loss: 0.3426 - acc: 0.8864 - val_loss: 0.9609 - val_acc: 0.6847\n",
            "Epoch 142/300\n",
            "5/5 [==============================] - 0s 25ms/step - loss: 0.3629 - acc: 0.8750 - val_loss: 0.9300 - val_acc: 0.7143\n",
            "Epoch 143/300\n",
            "5/5 [==============================] - 0s 24ms/step - loss: 0.3105 - acc: 0.8846 - val_loss: 0.9279 - val_acc: 0.7241\n",
            "Epoch 144/300\n",
            "5/5 [==============================] - 0s 24ms/step - loss: 0.3161 - acc: 0.8942 - val_loss: 0.9630 - val_acc: 0.7241\n",
            "Epoch 145/300\n",
            "5/5 [==============================] - 0s 29ms/step - loss: 0.3610 - acc: 0.8802 - val_loss: 0.9476 - val_acc: 0.7291\n",
            "Epoch 146/300\n",
            "5/5 [==============================] - 0s 29ms/step - loss: 0.3725 - acc: 0.8689 - val_loss: 0.9005 - val_acc: 0.7537\n",
            "Epoch 147/300\n",
            "5/5 [==============================] - 0s 29ms/step - loss: 0.3757 - acc: 0.8671 - val_loss: 0.9006 - val_acc: 0.7635\n",
            "Epoch 148/300\n",
            "5/5 [==============================] - 0s 24ms/step - loss: 0.3389 - acc: 0.8733 - val_loss: 0.9051 - val_acc: 0.7537\n",
            "Epoch 149/300\n",
            "5/5 [==============================] - 0s 27ms/step - loss: 0.3136 - acc: 0.9021 - val_loss: 0.9475 - val_acc: 0.7340\n",
            "Epoch 150/300\n",
            "5/5 [==============================] - 0s 24ms/step - loss: 0.3571 - acc: 0.8934 - val_loss: 1.0179 - val_acc: 0.6798\n",
            "Epoch 151/300\n",
            "5/5 [==============================] - 0s 23ms/step - loss: 0.3136 - acc: 0.8907 - val_loss: 1.0547 - val_acc: 0.6897\n",
            "Epoch 152/300\n",
            "5/5 [==============================] - 0s 27ms/step - loss: 0.3260 - acc: 0.8837 - val_loss: 1.0002 - val_acc: 0.7143\n",
            "Epoch 153/300\n",
            "5/5 [==============================] - 0s 24ms/step - loss: 0.3493 - acc: 0.8829 - val_loss: 0.9849 - val_acc: 0.7192\n",
            "Epoch 154/300\n",
            "5/5 [==============================] - 0s 24ms/step - loss: 0.2994 - acc: 0.8942 - val_loss: 0.9962 - val_acc: 0.7291\n",
            "Epoch 155/300\n",
            "5/5 [==============================] - 0s 24ms/step - loss: 0.3380 - acc: 0.8855 - val_loss: 0.9988 - val_acc: 0.7438\n",
            "Epoch 156/300\n",
            "5/5 [==============================] - 0s 24ms/step - loss: 0.3415 - acc: 0.8750 - val_loss: 0.9652 - val_acc: 0.7291\n",
            "Epoch 157/300\n",
            "5/5 [==============================] - 0s 26ms/step - loss: 0.3049 - acc: 0.8995 - val_loss: 0.9692 - val_acc: 0.7241\n",
            "Epoch 158/300\n",
            "5/5 [==============================] - 0s 25ms/step - loss: 0.3402 - acc: 0.8759 - val_loss: 1.0662 - val_acc: 0.6897\n",
            "Epoch 159/300\n",
            "5/5 [==============================] - 0s 23ms/step - loss: 0.3619 - acc: 0.8741 - val_loss: 1.1132 - val_acc: 0.6749\n",
            "Epoch 160/300\n",
            "5/5 [==============================] - 0s 25ms/step - loss: 0.3083 - acc: 0.8986 - val_loss: 1.0567 - val_acc: 0.7044\n",
            "Epoch 161/300\n",
            "5/5 [==============================] - 0s 30ms/step - loss: 0.3613 - acc: 0.8785 - val_loss: 1.0506 - val_acc: 0.6946\n",
            "Epoch 162/300\n",
            "5/5 [==============================] - 0s 23ms/step - loss: 0.2933 - acc: 0.8986 - val_loss: 1.0760 - val_acc: 0.6847\n",
            "Epoch 163/300\n",
            "5/5 [==============================] - 0s 24ms/step - loss: 0.3068 - acc: 0.8942 - val_loss: 1.0942 - val_acc: 0.6798\n",
            "Epoch 164/300\n",
            "5/5 [==============================] - 0s 24ms/step - loss: 0.3304 - acc: 0.8820 - val_loss: 1.0699 - val_acc: 0.6946\n",
            "Epoch 165/300\n",
            "5/5 [==============================] - 0s 24ms/step - loss: 0.2840 - acc: 0.8960 - val_loss: 1.0724 - val_acc: 0.6847\n",
            "Epoch 166/300\n",
            "5/5 [==============================] - 0s 22ms/step - loss: 0.3491 - acc: 0.8733 - val_loss: 1.0701 - val_acc: 0.6897\n",
            "Epoch 167/300\n",
            "5/5 [==============================] - 0s 27ms/step - loss: 0.3011 - acc: 0.8960 - val_loss: 1.0782 - val_acc: 0.6946\n",
            "Epoch 168/300\n",
            "5/5 [==============================] - 0s 24ms/step - loss: 0.2755 - acc: 0.8995 - val_loss: 1.0877 - val_acc: 0.6995\n",
            "Epoch 169/300\n",
            "5/5 [==============================] - 0s 27ms/step - loss: 0.3255 - acc: 0.8776 - val_loss: 1.1141 - val_acc: 0.6897\n",
            "Epoch 170/300\n",
            "5/5 [==============================] - 0s 23ms/step - loss: 0.3319 - acc: 0.8820 - val_loss: 1.1090 - val_acc: 0.6897\n",
            "Epoch 171/300\n",
            "5/5 [==============================] - 0s 25ms/step - loss: 0.3572 - acc: 0.8855 - val_loss: 1.1050 - val_acc: 0.6798\n",
            "Epoch 172/300\n",
            "5/5 [==============================] - 0s 22ms/step - loss: 0.3266 - acc: 0.8907 - val_loss: 1.1279 - val_acc: 0.6798\n",
            "Epoch 173/300\n",
            "5/5 [==============================] - 0s 24ms/step - loss: 0.3150 - acc: 0.8872 - val_loss: 1.1590 - val_acc: 0.6946\n",
            "Epoch 174/300\n",
            "5/5 [==============================] - 0s 25ms/step - loss: 0.3287 - acc: 0.8724 - val_loss: 1.0954 - val_acc: 0.7143\n",
            "Epoch 175/300\n",
            "5/5 [==============================] - 0s 23ms/step - loss: 0.3444 - acc: 0.8733 - val_loss: 1.0803 - val_acc: 0.6995\n",
            "Epoch 176/300\n",
            "5/5 [==============================] - 0s 23ms/step - loss: 0.3370 - acc: 0.8811 - val_loss: 1.1198 - val_acc: 0.6798\n",
            "Epoch 177/300\n",
            "5/5 [==============================] - 0s 25ms/step - loss: 0.3463 - acc: 0.8881 - val_loss: 1.0689 - val_acc: 0.6897\n",
            "Epoch 178/300\n",
            "5/5 [==============================] - 0s 28ms/step - loss: 0.3482 - acc: 0.8837 - val_loss: 1.0552 - val_acc: 0.7192\n",
            "Epoch 179/300\n",
            "5/5 [==============================] - 0s 24ms/step - loss: 0.3618 - acc: 0.8776 - val_loss: 1.0639 - val_acc: 0.7291\n",
            "Epoch 180/300\n",
            "5/5 [==============================] - 0s 24ms/step - loss: 0.3354 - acc: 0.8811 - val_loss: 1.0968 - val_acc: 0.6897\n",
            "Epoch 181/300\n",
            "5/5 [==============================] - 0s 24ms/step - loss: 0.3586 - acc: 0.8811 - val_loss: 1.1035 - val_acc: 0.6847\n",
            "Epoch 182/300\n",
            "5/5 [==============================] - 0s 26ms/step - loss: 0.3387 - acc: 0.8820 - val_loss: 1.0712 - val_acc: 0.6749\n",
            "Epoch 183/300\n",
            "5/5 [==============================] - 0s 24ms/step - loss: 0.3392 - acc: 0.8837 - val_loss: 1.0233 - val_acc: 0.6946\n",
            "Epoch 184/300\n",
            "5/5 [==============================] - 0s 23ms/step - loss: 0.3434 - acc: 0.8899 - val_loss: 1.0436 - val_acc: 0.6995\n",
            "Epoch 185/300\n",
            "5/5 [==============================] - 0s 25ms/step - loss: 0.2984 - acc: 0.8907 - val_loss: 1.0789 - val_acc: 0.6946\n",
            "Epoch 186/300\n",
            "5/5 [==============================] - 0s 23ms/step - loss: 0.3478 - acc: 0.8750 - val_loss: 1.1310 - val_acc: 0.6749\n",
            "Epoch 187/300\n",
            "5/5 [==============================] - 0s 23ms/step - loss: 0.3795 - acc: 0.8733 - val_loss: 1.1551 - val_acc: 0.6798\n",
            "Epoch 188/300\n",
            "5/5 [==============================] - 0s 23ms/step - loss: 0.2805 - acc: 0.9012 - val_loss: 1.1434 - val_acc: 0.6897\n",
            "Epoch 189/300\n",
            "5/5 [==============================] - 0s 25ms/step - loss: 0.3140 - acc: 0.8864 - val_loss: 1.0715 - val_acc: 0.7044\n",
            "Epoch 190/300\n",
            "5/5 [==============================] - 0s 24ms/step - loss: 0.3555 - acc: 0.8794 - val_loss: 1.0732 - val_acc: 0.6798\n",
            "Epoch 191/300\n",
            "5/5 [==============================] - 0s 23ms/step - loss: 0.3277 - acc: 0.8802 - val_loss: 1.1239 - val_acc: 0.6700\n",
            "Epoch 192/300\n",
            "5/5 [==============================] - 0s 25ms/step - loss: 0.3267 - acc: 0.8846 - val_loss: 1.1538 - val_acc: 0.6847\n",
            "Epoch 193/300\n",
            "5/5 [==============================] - 0s 24ms/step - loss: 0.3103 - acc: 0.8899 - val_loss: 1.1104 - val_acc: 0.6700\n",
            "Epoch 194/300\n",
            "5/5 [==============================] - 0s 24ms/step - loss: 0.3119 - acc: 0.8899 - val_loss: 1.0882 - val_acc: 0.6847\n",
            "Epoch 195/300\n",
            "5/5 [==============================] - 0s 25ms/step - loss: 0.2904 - acc: 0.9065 - val_loss: 1.0812 - val_acc: 0.6946\n",
            "Epoch 196/300\n",
            "5/5 [==============================] - 0s 26ms/step - loss: 0.3373 - acc: 0.8864 - val_loss: 1.0643 - val_acc: 0.6995\n",
            "Epoch 197/300\n",
            "5/5 [==============================] - 0s 29ms/step - loss: 0.3200 - acc: 0.8846 - val_loss: 1.0554 - val_acc: 0.6946\n"
          ]
        }
      ],
      "source": [
        "history = run_experiment(baseline_model, x_train, y_train)"
      ]
    },
    {
      "cell_type": "markdown",
      "metadata": {
        "id": "impmA3I9nsLK"
      },
      "source": [
        "Let's plot the learning curves."
      ]
    },
    {
      "cell_type": "code",
      "execution_count": 18,
      "metadata": {
        "colab": {
          "base_uri": "https://localhost:8080/",
          "height": 334
        },
        "id": "fyy-w5IInsLK",
        "outputId": "ac3e4333-80c2-443d-e90a-63cac65bce80"
      },
      "outputs": [
        {
          "output_type": "display_data",
          "data": {
            "image/png": "[encoded data removed]",
            "text/plain": [
              "<Figure size 1080x360 with 2 Axes>"
            ]
          },
          "metadata": {
            "needs_background": "light"
          }
        }
      ],
      "source": [
        "display_learning_curves(history)"
      ]
    },
    {
      "cell_type": "markdown",
      "metadata": {
        "id": "sXJjZMv_nsLL"
      },
      "source": [
        "Now we evaluate the baseline model on the test data split."
      ]
    },
    {
      "cell_type": "code",
      "execution_count": 19,
      "metadata": {
        "colab": {
          "base_uri": "https://localhost:8080/"
        },
        "id": "9Z8NPytUnsLL",
        "outputId": "b433a3d4-330a-4f4e-e813-7e6f99989b70"
      },
      "outputs": [
        {
          "output_type": "stream",
          "name": "stdout",
          "text": [
            "Test accuracy: 68.26%\n"
          ]
        }
      ],
      "source": [
        "_, test_accuracy = baseline_model.evaluate(x=x_test, y=y_test, verbose=0)\n",
        "print(f\"Test accuracy: {round(test_accuracy * 100, 2)}%\")"
      ]
    },
    {
      "cell_type": "markdown",
      "metadata": {
        "id": "UlGhjf_TnsLL"
      },
      "source": [
        "### Examine the baseline model predictions\n",
        "\n",
        "Let's create new data instances by randomly generating binary word vectors with respect to\n",
        "the word presence probabilities."
      ]
    },
    {
      "cell_type": "code",
      "execution_count": 20,
      "metadata": {
        "id": "SdJ-YpIvnsLL"
      },
      "outputs": [],
      "source": [
        "\n",
        "def generate_random_instances(num_instances):\n",
        "    token_probability = x_train.mean(axis=0)\n",
        "    instances = []\n",
        "    for _ in range(num_instances):\n",
        "        probabilities = np.random.uniform(size=len(token_probability))\n",
        "        instance = (probabilities <= token_probability).astype(int)\n",
        "        instances.append(instance)\n",
        "\n",
        "    return np.array(instances)\n",
        "\n",
        "\n",
        "def display_class_probabilities(probabilities):\n",
        "    for instance_idx, probs in enumerate(probabilities):\n",
        "        print(f\"Instance {instance_idx + 1}:\")\n",
        "        for class_idx, prob in enumerate(probs):\n",
        "            print(f\"- {class_values[class_idx]}: {round(prob * 100, 2)}%\")\n"
      ]
    },
    {
      "cell_type": "markdown",
      "metadata": {
        "id": "h94fP-hgnsLL"
      },
      "source": [
        "Now we show the baseline model predictions given these randomly generated instances."
      ]
    },
    {
      "cell_type": "code",
      "execution_count": 21,
      "metadata": {
        "colab": {
          "base_uri": "https://localhost:8080/"
        },
        "id": "QcgWPFRunsLL",
        "outputId": "796815a2-55f1-43e1-a836-926efe0f5317"
      },
      "outputs": [
        {
          "output_type": "stream",
          "name": "stdout",
          "text": [
            "Instance 1:\n",
            "- Case_Based: 19.23%\n",
            "- Genetic_Algorithms: 4.22%\n",
            "- Neural_Networks: 1.49%\n",
            "- Probabilistic_Methods: 18.49%\n",
            "- Reinforcement_Learning: 36.59%\n",
            "- Rule_Learning: 1.34%\n",
            "- Theory: 18.64%\n",
            "Instance 2:\n",
            "- Case_Based: 0.19%\n",
            "- Genetic_Algorithms: 33.18%\n",
            "- Neural_Networks: 6.37%\n",
            "- Probabilistic_Methods: 52.18%\n",
            "- Reinforcement_Learning: 0.07%\n",
            "- Rule_Learning: 0.12%\n",
            "- Theory: 7.89%\n",
            "Instance 3:\n",
            "- Case_Based: 1.41%\n",
            "- Genetic_Algorithms: 0.34%\n",
            "- Neural_Networks: 13.03%\n",
            "- Probabilistic_Methods: 0.07%\n",
            "- Reinforcement_Learning: 5.66%\n",
            "- Rule_Learning: 2.85%\n",
            "- Theory: 76.63%\n",
            "Instance 4:\n",
            "- Case_Based: 5.36%\n",
            "- Genetic_Algorithms: 6.41%\n",
            "- Neural_Networks: 61.14%\n",
            "- Probabilistic_Methods: 23.0%\n",
            "- Reinforcement_Learning: 1.77%\n",
            "- Rule_Learning: 0.37%\n",
            "- Theory: 1.95%\n",
            "Instance 5:\n",
            "- Case_Based: 0.12%\n",
            "- Genetic_Algorithms: 0.08%\n",
            "- Neural_Networks: 95.0%\n",
            "- Probabilistic_Methods: 0.04%\n",
            "- Reinforcement_Learning: 0.24%\n",
            "- Rule_Learning: 0.31%\n",
            "- Theory: 4.22%\n",
            "Instance 6:\n",
            "- Case_Based: 1.14%\n",
            "- Genetic_Algorithms: 57.41%\n",
            "- Neural_Networks: 25.31%\n",
            "- Probabilistic_Methods: 14.22%\n",
            "- Reinforcement_Learning: 0.5%\n",
            "- Rule_Learning: 0.52%\n",
            "- Theory: 0.89%\n",
            "Instance 7:\n",
            "- Case_Based: 2.52%\n",
            "- Genetic_Algorithms: 0.91%\n",
            "- Neural_Networks: 50.69%\n",
            "- Probabilistic_Methods: 1.47%\n",
            "- Reinforcement_Learning: 44.12%\n",
            "- Rule_Learning: 0.06%\n",
            "- Theory: 0.23%\n"
          ]
        }
      ],
      "source": [
        "new_instances = generate_random_instances(num_classes)\n",
        "logits = baseline_model.predict(new_instances)\n",
        "probabilities = keras.activations.softmax(tf.convert_to_tensor(logits)).numpy()\n",
        "display_class_probabilities(probabilities)"
      ]
    },
    {
      "cell_type": "markdown",
      "metadata": {
        "id": "yl_6ZlNrnsLL"
      },
      "source": [
        "## Build a Graph Neural Network Model\n",
        "\n",
        "### Prepare the data for the graph model\n",
        "\n",
        "Preparing and loading the graphs data into the model for training is the most challenging\n",
        "part in GNN models, which is addressed in different ways by the specialised libraries.\n",
        "In this example, we show a simple approach for preparing and using graph data that is suitable\n",
        "if your dataset consists of a single graph that fits entirely in memory.\n",
        "\n",
        "The graph data is represented by the `graph_info` tuple, which consists of the following\n",
        "three elements:\n",
        "\n",
        "1. `node_features`: This is a `[num_nodes, num_features]` NumPy array that includes the\n",
        "node features. In this dataset, the nodes are the papers, and the `node_features` are the\n",
        "word-presence binary vectors of each paper.\n",
        "2. `edges`:  This is `[num_edges, num_edges]` NumPy array representing a sparse\n",
        "[adjacency matrix](https://en.wikipedia.org/wiki/Adjacency_matrix#:~:text=In%20graph%20theory%20and%20computer,with%20zeros%20on%20its%20diagonal.)\n",
        "of the links between the nodes. In this example, the links are the citations between the papers.\n",
        "3. `edge_weights` (optional): This is a `[num_edges]` NumPy array that includes the edge weights, which *quantify*\n",
        "the relationships between nodes in the graph. In this example, there are no weights for the paper citations."
      ]
    },
    {
      "cell_type": "code",
      "execution_count": 22,
      "metadata": {
        "colab": {
          "base_uri": "https://localhost:8080/"
        },
        "id": "-e2j6XCLnsLM",
        "outputId": "117f8d72-3fc0-4d22-c8a0-ef783f415ccd"
      },
      "outputs": [
        {
          "output_type": "stream",
          "name": "stdout",
          "text": [
            "Edges shape: (2, 5429)\n",
            "Nodes shape: (2708, 1433)\n"
          ]
        }
      ],
      "source": [
        "# Create an edges array (sparse adjacency matrix) of shape [2, num_edges].\n",
        "edges = citations[[\"source\", \"target\"]].to_numpy().T\n",
        "# Create an edge weights array of ones.\n",
        "edge_weights = tf.ones(shape=edges.shape[1])\n",
        "# Create a node features array of shape [num_nodes, num_features].\n",
        "node_features = tf.cast(\n",
        "    papers.sort_values(\"paper_id\")[feature_names].to_numpy(), dtype=tf.dtypes.float32\n",
        ")\n",
        "# Create graph info tuple with node_features, edges, and edge_weights.\n",
        "graph_info = (node_features, edges, edge_weights)\n",
        "\n",
        "print(\"Edges shape:\", edges.shape)\n",
        "print(\"Nodes shape:\", node_features.shape)"
      ]
    },
    {
      "cell_type": "markdown",
      "metadata": {
        "id": "LQQKHz9HnsLM"
      },
      "source": [
        "### Implement a graph convolution layer\n",
        "\n",
        "We implement a graph convolution module as a [Keras Layer](https://www.tensorflow.org/api_docs/python/tf/keras/layers/Layer?version=nightly).\n",
        "Our `GraphConvLayer` performs the following steps:\n",
        "\n",
        "1. **Prepare**: The input node representations are processed using a FFN to produce a *message*. You can simplify\n",
        "the processing by only applying linear transformation to the representations.\n",
        "2. **Aggregate**: The messages of the neighbours of each node are aggregated with\n",
        "respect to the `edge_weights` using a *permutation invariant* pooling operation, such as *sum*, *mean*, and *max*,\n",
        "to prepare a single aggregated message for each node. See, for example, [tf.math.unsorted_segment_sum](https://www.tensorflow.org/api_docs/python/tf/math/unsorted_segment_sum)\n",
        "APIs used to aggregate neighbour messages.\n",
        "3. **Update**: The `node_repesentations` and `aggregated_messages`—both of shape `[num_nodes, representation_dim]`—\n",
        "are combined and processed to produce the new state of the node representations (node embeddings).\n",
        "If `combination_type` is `gru`, the `node_repesentations` and `aggregated_messages` are stacked to create a sequence,\n",
        "then processed by a GRU layer. Otherwise, the `node_repesentations` and `aggregated_messages` are added\n",
        "or concatenated, then processed using a FFN.\n",
        "\n",
        "\n",
        "The technique implemented use ideas from [Graph Convolutional Networks](https://arxiv.org/abs/1609.02907),\n",
        "[GraphSage](https://arxiv.org/abs/1706.02216), [Graph Isomorphism Network](https://arxiv.org/abs/1810.00826),\n",
        "[Simple Graph Networks](https://arxiv.org/abs/1902.07153), and\n",
        "[Gated Graph Sequence Neural Networks](https://arxiv.org/abs/1511.05493).\n",
        "Two other key techniques that are not covered are [Graph Attention Networks](https://arxiv.org/abs/1710.10903)\n",
        "and [Message Passing Neural Networks](https://arxiv.org/abs/1704.01212)."
      ]
    },
    {
      "cell_type": "code",
      "execution_count": 23,
      "metadata": {
        "id": "7sR2UrF4nsLM"
      },
      "outputs": [],
      "source": [
        "\n",
        "class GraphConvLayer(layers.Layer):\n",
        "    def __init__(\n",
        "        self,\n",
        "        hidden_units,\n",
        "        dropout_rate=0.2,\n",
        "        aggregation_type=\"mean\",\n",
        "        combination_type=\"concat\",\n",
        "        normalize=False,\n",
        "        *args,\n",
        "        **kwargs,\n",
        "    ):\n",
        "        super(GraphConvLayer, self).__init__(*args, **kwargs)\n",
        "\n",
        "        self.aggregation_type = aggregation_type\n",
        "        self.combination_type = combination_type\n",
        "        self.normalize = normalize\n",
        "\n",
        "        self.ffn_prepare = create_ffn(hidden_units, dropout_rate)\n",
        "        if self.combination_type == \"gated\":\n",
        "            self.update_fn = layers.GRU(\n",
        "                units=hidden_units,\n",
        "                activation=\"tanh\",\n",
        "                recurrent_activation=\"sigmoid\",\n",
        "                dropout=dropout_rate,\n",
        "                return_state=True,\n",
        "                recurrent_dropout=dropout_rate,\n",
        "            )\n",
        "        else:\n",
        "            self.update_fn = create_ffn(hidden_units, dropout_rate)\n",
        "\n",
        "    def prepare(self, node_repesentations, weights=None):\n",
        "        # node_repesentations shape is [num_edges, embedding_dim].\n",
        "        messages = self.ffn_prepare(node_repesentations)\n",
        "        if weights is not None:\n",
        "            messages = messages * tf.expand_dims(weights, -1)\n",
        "        return messages\n",
        "\n",
        "    def aggregate(self, node_indices, neighbour_messages):\n",
        "        # node_indices shape is [num_edges].\n",
        "        # neighbour_messages shape: [num_edges, representation_dim].\n",
        "        num_nodes = tf.math.reduce_max(node_indices) + 1\n",
        "        if self.aggregation_type == \"sum\":\n",
        "            aggregated_message = tf.math.unsorted_segment_sum(\n",
        "                neighbour_messages, node_indices, num_segments=num_nodes\n",
        "            )\n",
        "        elif self.aggregation_type == \"mean\":\n",
        "            aggregated_message = tf.math.unsorted_segment_mean(\n",
        "                neighbour_messages, node_indices, num_segments=num_nodes\n",
        "            )\n",
        "        elif self.aggregation_type == \"max\":\n",
        "            aggregated_message = tf.math.unsorted_segment_max(\n",
        "                neighbour_messages, node_indices, num_segments=num_nodes\n",
        "            )\n",
        "        else:\n",
        "            raise ValueError(f\"Invalid aggregation type: {self.aggregation_type}.\")\n",
        "\n",
        "        return aggregated_message\n",
        "\n",
        "    def update(self, node_repesentations, aggregated_messages):\n",
        "        # node_repesentations shape is [num_nodes, representation_dim].\n",
        "        # aggregated_messages shape is [num_nodes, representation_dim].\n",
        "        if self.combination_type == \"gru\":\n",
        "            # Create a sequence of two elements for the GRU layer.\n",
        "            h = tf.stack([node_repesentations, aggregated_messages], axis=1)\n",
        "        elif self.combination_type == \"concat\":\n",
        "            # Concatenate the node_repesentations and aggregated_messages.\n",
        "            h = tf.concat([node_repesentations, aggregated_messages], axis=1)\n",
        "        elif self.combination_type == \"add\":\n",
        "            # Add node_repesentations and aggregated_messages.\n",
        "            h = node_repesentations + aggregated_messages\n",
        "        else:\n",
        "            raise ValueError(f\"Invalid combination type: {self.combination_type}.\")\n",
        "\n",
        "        # Apply the processing function.\n",
        "        node_embeddings = self.update_fn(h)\n",
        "        if self.combination_type == \"gru\":\n",
        "            node_embeddings = tf.unstack(node_embeddings, axis=1)[-1]\n",
        "\n",
        "        if self.normalize:\n",
        "            node_embeddings = tf.nn.l2_normalize(node_embeddings, axis=-1)\n",
        "        return node_embeddings\n",
        "\n",
        "    def call(self, inputs):\n",
        "        \"\"\"Process the inputs to produce the node_embeddings.\n",
        "\n",
        "        inputs: a tuple of three elements: node_repesentations, edges, edge_weights.\n",
        "        Returns: node_embeddings of shape [num_nodes, representation_dim].\n",
        "        \"\"\"\n",
        "\n",
        "        node_repesentations, edges, edge_weights = inputs\n",
        "        # Get node_indices (source) and neighbour_indices (target) from edges.\n",
        "        node_indices, neighbour_indices = edges[0], edges[1]\n",
        "        # neighbour_repesentations shape is [num_edges, representation_dim].\n",
        "        neighbour_repesentations = tf.gather(node_repesentations, neighbour_indices)\n",
        "\n",
        "        # Prepare the messages of the neighbours.\n",
        "        neighbour_messages = self.prepare(neighbour_repesentations, edge_weights)\n",
        "        # Aggregate the neighbour messages.\n",
        "        aggregated_messages = self.aggregate(node_indices, neighbour_messages)\n",
        "        # Update the node embedding with the neighbour messages.\n",
        "        return self.update(node_repesentations, aggregated_messages)\n"
      ]
    },
    {
      "cell_type": "markdown",
      "metadata": {
        "id": "KiecvUsWnsLM"
      },
      "source": [
        "### Implement a graph neural network node classifier\n",
        "\n",
        "The GNN classification model follows the [Design Space for Graph Neural Networks](https://arxiv.org/abs/2011.08843) approach,\n",
        "as follows:\n",
        "\n",
        "1. Apply preprocessing using FFN to the node features to generate initial node representations.\n",
        "2. Apply one or more graph convolutional layer, with skip connections,  to the node representation\n",
        "to produce node embeddings.\n",
        "3. Apply post-processing using FFN to the node embeddings to generat the final node embeddings.\n",
        "4. Feed the node embeddings in a Softmax layer to predict the node class.\n",
        "\n",
        "Each graph convolutional layer added captures information from a further level of neighbours.\n",
        "However, adding many graph convolutional layer can cause oversmoothing, where the model\n",
        "produces similar embeddings for all the nodes.\n",
        "\n",
        "Note that the `graph_info` passed to the constructor of the Keras model, and used as a *property*\n",
        "of the Keras model object, rather than input data for training or prediction.\n",
        "The model will accept a **batch** of `node_indices`, which are used to lookup the\n",
        "node features and neighbours from the `graph_info`."
      ]
    },
    {
      "cell_type": "code",
      "execution_count": 25,
      "metadata": {
        "id": "ARJE8hGpnsLN"
      },
      "outputs": [],
      "source": [
        "\n",
        "class GNNNodeClassifier(tf.keras.Model):\n",
        "    def __init__(\n",
        "        self,\n",
        "        graph_info,\n",
        "        num_classes,\n",
        "        hidden_units,\n",
        "        aggregation_type=\"sum\",\n",
        "        combination_type=\"concat\",\n",
        "        dropout_rate=0.2,\n",
        "        normalize=True,\n",
        "        *args,\n",
        "        **kwargs,\n",
        "    ):\n",
        "        super(GNNNodeClassifier, self).__init__(*args, **kwargs)\n",
        "\n",
        "        # Unpack graph_info to three elements: node_features, edges, and edge_weight.\n",
        "        node_features, edges, edge_weights = graph_info\n",
        "        self.node_features = node_features\n",
        "        self.edges = edges\n",
        "        self.edge_weights = edge_weights\n",
        "        # Set edge_weights to ones if not provided.\n",
        "        if self.edge_weights is None:\n",
        "            self.edge_weights = tf.ones(shape=edges.shape[1])\n",
        "        # Scale edge_weights to sum to 1.\n",
        "        self.edge_weights = self.edge_weights / tf.math.reduce_sum(self.edge_weights)\n",
        "\n",
        "        # Create a process layer.\n",
        "        self.preprocess = create_ffn(hidden_units, dropout_rate, name=\"preprocess\")\n",
        "        # Create the first GraphConv layer.\n",
        "        self.conv1 = GraphConvLayer(\n",
        "            hidden_units,\n",
        "            dropout_rate,\n",
        "            aggregation_type,\n",
        "            combination_type,\n",
        "            normalize,\n",
        "            name=\"graph_conv1\",\n",
        "        )\n",
        "        # Create the second GraphConv layer.\n",
        "        self.conv2 = GraphConvLayer(\n",
        "            hidden_units,\n",
        "            dropout_rate,\n",
        "            aggregation_type,\n",
        "            combination_type,\n",
        "            normalize,\n",
        "            name=\"graph_conv2\",\n",
        "        )\n",
        "        # Create a postprocess layer.\n",
        "        self.postprocess = create_ffn(hidden_units, dropout_rate, name=\"postprocess\")\n",
        "        # Create a compute logits layer.\n",
        "        self.compute_logits = layers.Dense(units=num_classes, name=\"logits\")\n",
        "\n",
        "    def call(self, input_node_indices):\n",
        "        # Preprocess the node_features to produce node representations.\n",
        "        x = self.preprocess(self.node_features)\n",
        "        # Apply the first graph conv layer.\n",
        "        x1 = self.conv1((x, self.edges, self.edge_weights))\n",
        "        # Skip connection.\n",
        "        x = x1 + x\n",
        "        # Apply the second graph conv layer.\n",
        "        x2 = self.conv2((x, self.edges, self.edge_weights))\n",
        "        # Skip connection.\n",
        "        x = x2 + x\n",
        "        # Postprocess node embedding.\n",
        "        x = self.postprocess(x)\n",
        "        # Fetch node embeddings for the input node_indices.\n",
        "        node_embeddings = tf.gather(x, input_node_indices)\n",
        "        # Compute logits\n",
        "        return self.compute_logits(node_embeddings)\n"
      ]
    },
    {
      "cell_type": "markdown",
      "metadata": {
        "id": "x2HA-r_AnsLN"
      },
      "source": [
        "Let's test instantiating and calling the GNN model.\n",
        "Notice that if you provide `N` node indices, the output will be a tensor of shape `[N, num_classes]`,\n",
        "regardless of the size of the graph."
      ]
    },
    {
      "cell_type": "code",
      "execution_count": 26,
      "metadata": {
        "colab": {
          "base_uri": "https://localhost:8080/"
        },
        "id": "FOVRJZzOnsLN",
        "outputId": "9445c992-6ccc-4508-bdf6-4e2b5c9a5940"
      },
      "outputs": [
        {
          "output_type": "stream",
          "name": "stdout",
          "text": [
            "GNN output shape: tf.Tensor(\n",
            "[[-0.00907771 -0.03083028  0.07562692 -0.04097236  0.01340709 -0.01036767\n",
            "   0.03324466]\n",
            " [ 0.03152247 -0.05185606  0.00259389  0.00207798  0.00813279 -0.01456171\n",
            "  -0.01681264]\n",
            " [ 0.0164835  -0.04903857  0.05218959 -0.05069406  0.09146472  0.03519698\n",
            "   0.01173957]], shape=(3, 7), dtype=float32)\n",
            "Model: \"gnn_model\"\n",
            "_________________________________________________________________\n",
            " Layer (type)                Output Shape              Param #   \n",
            "=================================================================\n",
            " preprocess (Sequential)     (2708, 32)                52804     \n",
            "                                                                 \n",
            " graph_conv1 (GraphConvLayer  multiple                 5888      \n",
            " )                                                               \n",
            "                                                                 \n",
            " graph_conv2 (GraphConvLayer  multiple                 5888      \n",
            " )                                                               \n",
            "                                                                 \n",
            " postprocess (Sequential)    (2708, 32)                2368      \n",
            "                                                                 \n",
            " logits (Dense)              multiple                  231       \n",
            "                                                                 \n",
            "=================================================================\n",
            "Total params: 67,179\n",
            "Trainable params: 63,481\n",
            "Non-trainable params: 3,698\n",
            "_________________________________________________________________\n"
          ]
        }
      ],
      "source": [
        "gnn_model = GNNNodeClassifier(\n",
        "    graph_info=graph_info,\n",
        "    num_classes=num_classes,\n",
        "    hidden_units=hidden_units,\n",
        "    dropout_rate=dropout_rate,\n",
        "    name=\"gnn_model\",\n",
        ")\n",
        "\n",
        "print(\"GNN output shape:\", gnn_model([1, 10, 100]))\n",
        "\n",
        "gnn_model.summary()"
      ]
    },
    {
      "cell_type": "markdown",
      "metadata": {
        "id": "eZIah5L0nsLN"
      },
      "source": [
        "### Train the GNN model\n",
        "\n",
        "Note that we use the standard *supervised* cross-entropy loss to train the model.\n",
        "However, we can add another *self-supervised* loss term for the generated node embeddings\n",
        "that makes sure that neighbouring nodes in graph have similar representations, while faraway\n",
        "nodes have dissimilar representations."
      ]
    },
    {
      "cell_type": "code",
      "execution_count": 27,
      "metadata": {
        "colab": {
          "base_uri": "https://localhost:8080/"
        },
        "id": "qE4Pv-tqnsLN",
        "outputId": "e0934019-6faa-4d17-b031-e8318ac839a3"
      },
      "outputs": [
        {
          "output_type": "stream",
          "name": "stdout",
          "text": [
            "Epoch 1/300\n",
            "5/5 [==============================] - 9s 366ms/step - loss: 2.3827 - acc: 0.1372 - val_loss: 1.8811 - val_acc: 0.3103\n",
            "Epoch 2/300\n",
            "5/5 [==============================] - 0s 49ms/step - loss: 2.0373 - acc: 0.2378 - val_loss: 1.8553 - val_acc: 0.3103\n",
            "Epoch 3/300\n",
            "5/5 [==============================] - 0s 40ms/step - loss: 1.9255 - acc: 0.2815 - val_loss: 1.8621 - val_acc: 0.3103\n",
            "Epoch 4/300\n",
            "5/5 [==============================] - 0s 44ms/step - loss: 1.9109 - acc: 0.2823 - val_loss: 1.8677 - val_acc: 0.3103\n",
            "Epoch 5/300\n",
            "5/5 [==============================] - 0s 52ms/step - loss: 1.8767 - acc: 0.2701 - val_loss: 1.8727 - val_acc: 0.3153\n",
            "Epoch 6/300\n",
            "5/5 [==============================] - 0s 68ms/step - loss: 1.8543 - acc: 0.2963 - val_loss: 1.8672 - val_acc: 0.3103\n",
            "Epoch 7/300\n",
            "5/5 [==============================] - 0s 40ms/step - loss: 1.8211 - acc: 0.3016 - val_loss: 1.8557 - val_acc: 0.3103\n",
            "Epoch 8/300\n",
            "5/5 [==============================] - 0s 53ms/step - loss: 1.8141 - acc: 0.3086 - val_loss: 1.8426 - val_acc: 0.3103\n",
            "Epoch 9/300\n",
            "5/5 [==============================] - 0s 62ms/step - loss: 1.8129 - acc: 0.3007 - val_loss: 1.8310 - val_acc: 0.3103\n",
            "Epoch 10/300\n",
            "5/5 [==============================] - 0s 72ms/step - loss: 1.7918 - acc: 0.3051 - val_loss: 1.8127 - val_acc: 0.3103\n",
            "Epoch 11/300\n",
            "5/5 [==============================] - 0s 45ms/step - loss: 1.7618 - acc: 0.3217 - val_loss: 1.7922 - val_acc: 0.3103\n",
            "Epoch 12/300\n",
            "5/5 [==============================] - 0s 53ms/step - loss: 1.7559 - acc: 0.3287 - val_loss: 1.7623 - val_acc: 0.3202\n",
            "Epoch 13/300\n",
            "5/5 [==============================] - 0s 49ms/step - loss: 1.7042 - acc: 0.3365 - val_loss: 1.7203 - val_acc: 0.3350\n",
            "Epoch 14/300\n",
            "5/5 [==============================] - 0s 53ms/step - loss: 1.6717 - acc: 0.3514 - val_loss: 1.6499 - val_acc: 0.3695\n",
            "Epoch 15/300\n",
            "5/5 [==============================] - 0s 40ms/step - loss: 1.6270 - acc: 0.3785 - val_loss: 1.5590 - val_acc: 0.4187\n",
            "Epoch 16/300\n",
            "5/5 [==============================] - 0s 42ms/step - loss: 1.5677 - acc: 0.4038 - val_loss: 1.4892 - val_acc: 0.4433\n",
            "Epoch 17/300\n",
            "5/5 [==============================] - 0s 40ms/step - loss: 1.5089 - acc: 0.4126 - val_loss: 1.4477 - val_acc: 0.4532\n",
            "Epoch 18/300\n",
            "5/5 [==============================] - 0s 42ms/step - loss: 1.4832 - acc: 0.4362 - val_loss: 1.3877 - val_acc: 0.5025\n",
            "Epoch 19/300\n",
            "5/5 [==============================] - 0s 41ms/step - loss: 1.4213 - acc: 0.4773 - val_loss: 1.3964 - val_acc: 0.5271\n",
            "Epoch 20/300\n",
            "5/5 [==============================] - 0s 35ms/step - loss: 1.3754 - acc: 0.4703 - val_loss: 1.4651 - val_acc: 0.4877\n",
            "Epoch 21/300\n",
            "5/5 [==============================] - 0s 40ms/step - loss: 1.3176 - acc: 0.5140 - val_loss: 1.4714 - val_acc: 0.5567\n",
            "Epoch 22/300\n",
            "5/5 [==============================] - 0s 42ms/step - loss: 1.3007 - acc: 0.5017 - val_loss: 1.4278 - val_acc: 0.5616\n",
            "Epoch 23/300\n",
            "5/5 [==============================] - 0s 41ms/step - loss: 1.2541 - acc: 0.5297 - val_loss: 1.3223 - val_acc: 0.5961\n",
            "Epoch 24/300\n",
            "5/5 [==============================] - 0s 42ms/step - loss: 1.2115 - acc: 0.5341 - val_loss: 1.1899 - val_acc: 0.6059\n",
            "Epoch 25/300\n",
            "5/5 [==============================] - 0s 36ms/step - loss: 1.2087 - acc: 0.5472 - val_loss: 1.1621 - val_acc: 0.5911\n",
            "Epoch 26/300\n",
            "5/5 [==============================] - 0s 36ms/step - loss: 1.1885 - acc: 0.5542 - val_loss: 1.1804 - val_acc: 0.5911\n",
            "Epoch 27/300\n",
            "5/5 [==============================] - 0s 34ms/step - loss: 1.1341 - acc: 0.5769 - val_loss: 1.2404 - val_acc: 0.5813\n",
            "Epoch 28/300\n",
            "5/5 [==============================] - 0s 36ms/step - loss: 1.1582 - acc: 0.5734 - val_loss: 1.2244 - val_acc: 0.5862\n",
            "Epoch 29/300\n",
            "5/5 [==============================] - 0s 34ms/step - loss: 1.0684 - acc: 0.6154 - val_loss: 1.1822 - val_acc: 0.6059\n",
            "Epoch 30/300\n",
            "5/5 [==============================] - 0s 40ms/step - loss: 1.0766 - acc: 0.6005 - val_loss: 1.1797 - val_acc: 0.6256\n",
            "Epoch 31/300\n",
            "5/5 [==============================] - 0s 40ms/step - loss: 1.0404 - acc: 0.6119 - val_loss: 1.1902 - val_acc: 0.6355\n",
            "Epoch 32/300\n",
            "5/5 [==============================] - 0s 36ms/step - loss: 1.0237 - acc: 0.6259 - val_loss: 1.1195 - val_acc: 0.6305\n",
            "Epoch 33/300\n",
            "5/5 [==============================] - 0s 35ms/step - loss: 0.9912 - acc: 0.6390 - val_loss: 1.0868 - val_acc: 0.6355\n",
            "Epoch 34/300\n",
            "5/5 [==============================] - 0s 36ms/step - loss: 0.9988 - acc: 0.6381 - val_loss: 1.0992 - val_acc: 0.6256\n",
            "Epoch 35/300\n",
            "5/5 [==============================] - 0s 38ms/step - loss: 0.9401 - acc: 0.6573 - val_loss: 1.2103 - val_acc: 0.5813\n",
            "Epoch 36/300\n",
            "5/5 [==============================] - 0s 35ms/step - loss: 0.9403 - acc: 0.6477 - val_loss: 1.1510 - val_acc: 0.6256\n",
            "Epoch 37/300\n",
            "5/5 [==============================] - 0s 42ms/step - loss: 0.9513 - acc: 0.6399 - val_loss: 1.1528 - val_acc: 0.6404\n",
            "Epoch 38/300\n",
            "5/5 [==============================] - 0s 35ms/step - loss: 0.9057 - acc: 0.6678 - val_loss: 1.5245 - val_acc: 0.5961\n",
            "Epoch 39/300\n",
            "5/5 [==============================] - 0s 37ms/step - loss: 0.9044 - acc: 0.6661 - val_loss: 1.7929 - val_acc: 0.5419\n",
            "Epoch 40/300\n",
            "5/5 [==============================] - 0s 35ms/step - loss: 0.8677 - acc: 0.6661 - val_loss: 1.4917 - val_acc: 0.5862\n",
            "Epoch 41/300\n",
            "5/5 [==============================] - 0s 35ms/step - loss: 0.9057 - acc: 0.6670 - val_loss: 1.2988 - val_acc: 0.6207\n",
            "Epoch 42/300\n",
            "5/5 [==============================] - 0s 41ms/step - loss: 0.8345 - acc: 0.6984 - val_loss: 1.1492 - val_acc: 0.6502\n",
            "Epoch 43/300\n",
            "5/5 [==============================] - 0s 35ms/step - loss: 0.8396 - acc: 0.7019 - val_loss: 1.0676 - val_acc: 0.6502\n",
            "Epoch 44/300\n",
            "5/5 [==============================] - 0s 36ms/step - loss: 0.8072 - acc: 0.7159 - val_loss: 1.0924 - val_acc: 0.6502\n",
            "Epoch 45/300\n",
            "5/5 [==============================] - 0s 41ms/step - loss: 0.8077 - acc: 0.7072 - val_loss: 1.0593 - val_acc: 0.6749\n",
            "Epoch 46/300\n",
            "5/5 [==============================] - 0s 42ms/step - loss: 0.7626 - acc: 0.7115 - val_loss: 0.9603 - val_acc: 0.6847\n",
            "Epoch 47/300\n",
            "5/5 [==============================] - 0s 35ms/step - loss: 0.7887 - acc: 0.7273 - val_loss: 0.9805 - val_acc: 0.6749\n",
            "Epoch 48/300\n",
            "5/5 [==============================] - 0s 36ms/step - loss: 0.7378 - acc: 0.7351 - val_loss: 1.1642 - val_acc: 0.6355\n",
            "Epoch 49/300\n",
            "5/5 [==============================] - 0s 37ms/step - loss: 0.7552 - acc: 0.7343 - val_loss: 1.2074 - val_acc: 0.6453\n",
            "Epoch 50/300\n",
            "5/5 [==============================] - 0s 36ms/step - loss: 0.7381 - acc: 0.7517 - val_loss: 1.0604 - val_acc: 0.6601\n",
            "Epoch 51/300\n",
            "5/5 [==============================] - 0s 35ms/step - loss: 0.7500 - acc: 0.7378 - val_loss: 1.0312 - val_acc: 0.6502\n",
            "Epoch 52/300\n",
            "5/5 [==============================] - 0s 35ms/step - loss: 0.7097 - acc: 0.7570 - val_loss: 0.9717 - val_acc: 0.6749\n",
            "Epoch 53/300\n",
            "5/5 [==============================] - 0s 36ms/step - loss: 0.6849 - acc: 0.7684 - val_loss: 1.0052 - val_acc: 0.6650\n",
            "Epoch 54/300\n",
            "5/5 [==============================] - 0s 35ms/step - loss: 0.7230 - acc: 0.7500 - val_loss: 1.0489 - val_acc: 0.6453\n",
            "Epoch 55/300\n",
            "5/5 [==============================] - 0s 35ms/step - loss: 0.7053 - acc: 0.7483 - val_loss: 1.0309 - val_acc: 0.6749\n",
            "Epoch 56/300\n",
            "5/5 [==============================] - 0s 38ms/step - loss: 0.6719 - acc: 0.7649 - val_loss: 1.0385 - val_acc: 0.6700\n",
            "Epoch 57/300\n",
            "5/5 [==============================] - 0s 35ms/step - loss: 0.6404 - acc: 0.7832 - val_loss: 1.0439 - val_acc: 0.6601\n",
            "Epoch 58/300\n",
            "5/5 [==============================] - 0s 37ms/step - loss: 0.6774 - acc: 0.7657 - val_loss: 1.0182 - val_acc: 0.6601\n",
            "Epoch 59/300\n",
            "5/5 [==============================] - 0s 36ms/step - loss: 0.7037 - acc: 0.7614 - val_loss: 1.0050 - val_acc: 0.6650\n",
            "Epoch 60/300\n",
            "5/5 [==============================] - 0s 35ms/step - loss: 0.6426 - acc: 0.7946 - val_loss: 1.0114 - val_acc: 0.6601\n",
            "Epoch 61/300\n",
            "5/5 [==============================] - 0s 35ms/step - loss: 0.6234 - acc: 0.7946 - val_loss: 0.9709 - val_acc: 0.6650\n",
            "Epoch 62/300\n",
            "5/5 [==============================] - 0s 36ms/step - loss: 0.6376 - acc: 0.7946 - val_loss: 1.0002 - val_acc: 0.6798\n",
            "Epoch 63/300\n",
            "5/5 [==============================] - 0s 36ms/step - loss: 0.6092 - acc: 0.7990 - val_loss: 1.0483 - val_acc: 0.6847\n",
            "Epoch 64/300\n",
            "5/5 [==============================] - 0s 36ms/step - loss: 0.6001 - acc: 0.8024 - val_loss: 1.0373 - val_acc: 0.6749\n",
            "Epoch 65/300\n",
            "5/5 [==============================] - 0s 35ms/step - loss: 0.5798 - acc: 0.8051 - val_loss: 1.1329 - val_acc: 0.6601\n",
            "Epoch 66/300\n",
            "5/5 [==============================] - 0s 37ms/step - loss: 0.5871 - acc: 0.8051 - val_loss: 1.1663 - val_acc: 0.6601\n",
            "Epoch 67/300\n",
            "5/5 [==============================] - 0s 36ms/step - loss: 0.5850 - acc: 0.7998 - val_loss: 1.0006 - val_acc: 0.6798\n",
            "Epoch 68/300\n",
            "5/5 [==============================] - 0s 42ms/step - loss: 0.5348 - acc: 0.8217 - val_loss: 0.9515 - val_acc: 0.6946\n",
            "Epoch 69/300\n",
            "5/5 [==============================] - 0s 35ms/step - loss: 0.6274 - acc: 0.7990 - val_loss: 0.9717 - val_acc: 0.6897\n",
            "Epoch 70/300\n",
            "5/5 [==============================] - 0s 42ms/step - loss: 0.5570 - acc: 0.8059 - val_loss: 0.8798 - val_acc: 0.7094\n",
            "Epoch 71/300\n",
            "5/5 [==============================] - 0s 36ms/step - loss: 0.5896 - acc: 0.8138 - val_loss: 0.9707 - val_acc: 0.7044\n",
            "Epoch 72/300\n",
            "5/5 [==============================] - 0s 38ms/step - loss: 0.6236 - acc: 0.8086 - val_loss: 1.0908 - val_acc: 0.6946\n",
            "Epoch 73/300\n",
            "5/5 [==============================] - 0s 41ms/step - loss: 0.5999 - acc: 0.7972 - val_loss: 0.9679 - val_acc: 0.7192\n",
            "Epoch 74/300\n",
            "5/5 [==============================] - 0s 39ms/step - loss: 0.5575 - acc: 0.8129 - val_loss: 1.0052 - val_acc: 0.6995\n",
            "Epoch 75/300\n",
            "5/5 [==============================] - 0s 36ms/step - loss: 0.5530 - acc: 0.8252 - val_loss: 1.0597 - val_acc: 0.6847\n",
            "Epoch 76/300\n",
            "5/5 [==============================] - 0s 36ms/step - loss: 0.5381 - acc: 0.8156 - val_loss: 1.0101 - val_acc: 0.6946\n",
            "Epoch 77/300\n",
            "5/5 [==============================] - 0s 36ms/step - loss: 0.5438 - acc: 0.8260 - val_loss: 0.9258 - val_acc: 0.7044\n",
            "Epoch 78/300\n",
            "5/5 [==============================] - 0s 35ms/step - loss: 0.5435 - acc: 0.8208 - val_loss: 0.9055 - val_acc: 0.7094\n",
            "Epoch 79/300\n",
            "5/5 [==============================] - 0s 36ms/step - loss: 0.5368 - acc: 0.8182 - val_loss: 0.8489 - val_acc: 0.7192\n",
            "Epoch 80/300\n",
            "5/5 [==============================] - 0s 41ms/step - loss: 0.5473 - acc: 0.8164 - val_loss: 0.8111 - val_acc: 0.7438\n",
            "Epoch 81/300\n",
            "5/5 [==============================] - 0s 34ms/step - loss: 0.4962 - acc: 0.8427 - val_loss: 0.8230 - val_acc: 0.7192\n",
            "Epoch 82/300\n",
            "5/5 [==============================] - 0s 38ms/step - loss: 0.5270 - acc: 0.8365 - val_loss: 0.8801 - val_acc: 0.7094\n",
            "Epoch 83/300\n",
            "5/5 [==============================] - 0s 35ms/step - loss: 0.4657 - acc: 0.8531 - val_loss: 0.9627 - val_acc: 0.7044\n",
            "Epoch 84/300\n",
            "5/5 [==============================] - 0s 36ms/step - loss: 0.4786 - acc: 0.8505 - val_loss: 1.0505 - val_acc: 0.6798\n",
            "Epoch 85/300\n",
            "5/5 [==============================] - 0s 39ms/step - loss: 0.5284 - acc: 0.8330 - val_loss: 0.8993 - val_acc: 0.7241\n",
            "Epoch 86/300\n",
            "5/5 [==============================] - 0s 36ms/step - loss: 0.4824 - acc: 0.8383 - val_loss: 0.9105 - val_acc: 0.7192\n",
            "Epoch 87/300\n",
            "5/5 [==============================] - 0s 35ms/step - loss: 0.4888 - acc: 0.8497 - val_loss: 0.9894 - val_acc: 0.7094\n",
            "Epoch 88/300\n",
            "5/5 [==============================] - 0s 36ms/step - loss: 0.5105 - acc: 0.8260 - val_loss: 0.9367 - val_acc: 0.7241\n",
            "Epoch 89/300\n",
            "5/5 [==============================] - 0s 36ms/step - loss: 0.5278 - acc: 0.8287 - val_loss: 0.8659 - val_acc: 0.7241\n",
            "Epoch 90/300\n",
            "5/5 [==============================] - 0s 37ms/step - loss: 0.4802 - acc: 0.8479 - val_loss: 0.8354 - val_acc: 0.7340\n",
            "Epoch 91/300\n",
            "5/5 [==============================] - 0s 35ms/step - loss: 0.4766 - acc: 0.8392 - val_loss: 0.8624 - val_acc: 0.7340\n",
            "Epoch 92/300\n",
            "5/5 [==============================] - 0s 41ms/step - loss: 0.4479 - acc: 0.8540 - val_loss: 0.8562 - val_acc: 0.7488\n",
            "Epoch 93/300\n",
            "5/5 [==============================] - 0s 35ms/step - loss: 0.4575 - acc: 0.8505 - val_loss: 0.7970 - val_acc: 0.7488\n",
            "Epoch 94/300\n",
            "5/5 [==============================] - 0s 41ms/step - loss: 0.4575 - acc: 0.8584 - val_loss: 0.7548 - val_acc: 0.7783\n",
            "Epoch 95/300\n",
            "5/5 [==============================] - 0s 36ms/step - loss: 0.4868 - acc: 0.8400 - val_loss: 0.7762 - val_acc: 0.7685\n",
            "Epoch 96/300\n",
            "5/5 [==============================] - 0s 36ms/step - loss: 0.5187 - acc: 0.8462 - val_loss: 0.8245 - val_acc: 0.7586\n",
            "Epoch 97/300\n",
            "5/5 [==============================] - 0s 39ms/step - loss: 0.5022 - acc: 0.8409 - val_loss: 0.8569 - val_acc: 0.7586\n",
            "Epoch 98/300\n",
            "5/5 [==============================] - 0s 35ms/step - loss: 0.5091 - acc: 0.8304 - val_loss: 0.8485 - val_acc: 0.7635\n",
            "Epoch 99/300\n",
            "5/5 [==============================] - 0s 36ms/step - loss: 0.4687 - acc: 0.8470 - val_loss: 0.7838 - val_acc: 0.7586\n",
            "Epoch 100/300\n",
            "5/5 [==============================] - 0s 38ms/step - loss: 0.4472 - acc: 0.8505 - val_loss: 0.7854 - val_acc: 0.7586\n",
            "Epoch 101/300\n",
            "5/5 [==============================] - 0s 35ms/step - loss: 0.5014 - acc: 0.8462 - val_loss: 0.7914 - val_acc: 0.7685\n",
            "Epoch 102/300\n",
            "5/5 [==============================] - 0s 34ms/step - loss: 0.4534 - acc: 0.8575 - val_loss: 0.8676 - val_acc: 0.7586\n",
            "Epoch 103/300\n",
            "5/5 [==============================] - 0s 35ms/step - loss: 0.4083 - acc: 0.8698 - val_loss: 0.8560 - val_acc: 0.7635\n",
            "Epoch 104/300\n",
            "5/5 [==============================] - 0s 36ms/step - loss: 0.4522 - acc: 0.8593 - val_loss: 0.8229 - val_acc: 0.7537\n",
            "Epoch 105/300\n",
            "5/5 [==============================] - 0s 36ms/step - loss: 0.4384 - acc: 0.8575 - val_loss: 0.8696 - val_acc: 0.7635\n",
            "Epoch 106/300\n",
            "5/5 [==============================] - 0s 37ms/step - loss: 0.4974 - acc: 0.8383 - val_loss: 0.8632 - val_acc: 0.7635\n",
            "Epoch 107/300\n",
            "5/5 [==============================] - 0s 35ms/step - loss: 0.4819 - acc: 0.8497 - val_loss: 0.7991 - val_acc: 0.7685\n",
            "Epoch 108/300\n",
            "5/5 [==============================] - 0s 43ms/step - loss: 0.4709 - acc: 0.8514 - val_loss: 0.7644 - val_acc: 0.7882\n",
            "Epoch 109/300\n",
            "5/5 [==============================] - 0s 43ms/step - loss: 0.4442 - acc: 0.8619 - val_loss: 0.7362 - val_acc: 0.7931\n",
            "Epoch 110/300\n",
            "5/5 [==============================] - 0s 36ms/step - loss: 0.4310 - acc: 0.8488 - val_loss: 0.7324 - val_acc: 0.7931\n",
            "Epoch 111/300\n",
            "5/5 [==============================] - 0s 36ms/step - loss: 0.4364 - acc: 0.8645 - val_loss: 0.7582 - val_acc: 0.7783\n",
            "Epoch 112/300\n",
            "5/5 [==============================] - 0s 39ms/step - loss: 0.4118 - acc: 0.8767 - val_loss: 0.7711 - val_acc: 0.7833\n",
            "Epoch 113/300\n",
            "5/5 [==============================] - 0s 35ms/step - loss: 0.4502 - acc: 0.8540 - val_loss: 0.7637 - val_acc: 0.7931\n",
            "Epoch 114/300\n",
            "5/5 [==============================] - 0s 35ms/step - loss: 0.4275 - acc: 0.8575 - val_loss: 0.7976 - val_acc: 0.7783\n",
            "Epoch 115/300\n",
            "5/5 [==============================] - 0s 35ms/step - loss: 0.4019 - acc: 0.8724 - val_loss: 0.8026 - val_acc: 0.7783\n",
            "Epoch 116/300\n",
            "5/5 [==============================] - 0s 35ms/step - loss: 0.4408 - acc: 0.8645 - val_loss: 0.7909 - val_acc: 0.7685\n",
            "Epoch 117/300\n",
            "5/5 [==============================] - 0s 36ms/step - loss: 0.3994 - acc: 0.8767 - val_loss: 0.7383 - val_acc: 0.7783\n",
            "Epoch 118/300\n",
            "5/5 [==============================] - 0s 42ms/step - loss: 0.4104 - acc: 0.8715 - val_loss: 0.7067 - val_acc: 0.7980\n",
            "Epoch 119/300\n",
            "5/5 [==============================] - 0s 35ms/step - loss: 0.4127 - acc: 0.8575 - val_loss: 0.7010 - val_acc: 0.7980\n",
            "Epoch 120/300\n",
            "5/5 [==============================] - 0s 36ms/step - loss: 0.4436 - acc: 0.8593 - val_loss: 0.7030 - val_acc: 0.7980\n",
            "Epoch 121/300\n",
            "5/5 [==============================] - 0s 37ms/step - loss: 0.4418 - acc: 0.8663 - val_loss: 0.6861 - val_acc: 0.7833\n",
            "Epoch 122/300\n",
            "5/5 [==============================] - 0s 41ms/step - loss: 0.3935 - acc: 0.8733 - val_loss: 0.6707 - val_acc: 0.8030\n",
            "Epoch 123/300\n",
            "5/5 [==============================] - 0s 41ms/step - loss: 0.3905 - acc: 0.8811 - val_loss: 0.6646 - val_acc: 0.8079\n",
            "Epoch 124/300\n",
            "5/5 [==============================] - 0s 41ms/step - loss: 0.4132 - acc: 0.8706 - val_loss: 0.6692 - val_acc: 0.7931\n",
            "Epoch 125/300\n",
            "5/5 [==============================] - 0s 36ms/step - loss: 0.3855 - acc: 0.8820 - val_loss: 0.6789 - val_acc: 0.7931\n",
            "Epoch 126/300\n",
            "5/5 [==============================] - 0s 40ms/step - loss: 0.4198 - acc: 0.8654 - val_loss: 0.6969 - val_acc: 0.7783\n",
            "Epoch 127/300\n",
            "5/5 [==============================] - 0s 39ms/step - loss: 0.4607 - acc: 0.8593 - val_loss: 0.6659 - val_acc: 0.7882\n",
            "Epoch 128/300\n",
            "5/5 [==============================] - 0s 37ms/step - loss: 0.3961 - acc: 0.8802 - val_loss: 0.6508 - val_acc: 0.7980\n",
            "Epoch 129/300\n",
            "5/5 [==============================] - 0s 40ms/step - loss: 0.4216 - acc: 0.8698 - val_loss: 0.7567 - val_acc: 0.7882\n",
            "Epoch 130/300\n",
            "5/5 [==============================] - 0s 35ms/step - loss: 0.3724 - acc: 0.8855 - val_loss: 0.7736 - val_acc: 0.7833\n",
            "Epoch 131/300\n",
            "5/5 [==============================] - 0s 38ms/step - loss: 0.4526 - acc: 0.8531 - val_loss: 0.7458 - val_acc: 0.7833\n",
            "Epoch 132/300\n",
            "5/5 [==============================] - 0s 35ms/step - loss: 0.3964 - acc: 0.8724 - val_loss: 0.8108 - val_acc: 0.7783\n",
            "Epoch 133/300\n",
            "5/5 [==============================] - 0s 39ms/step - loss: 0.4013 - acc: 0.8759 - val_loss: 0.8341 - val_acc: 0.7635\n",
            "Epoch 134/300\n",
            "5/5 [==============================] - 0s 35ms/step - loss: 0.4000 - acc: 0.8715 - val_loss: 0.7744 - val_acc: 0.7783\n",
            "Epoch 135/300\n",
            "5/5 [==============================] - 0s 35ms/step - loss: 0.3774 - acc: 0.8733 - val_loss: 0.7355 - val_acc: 0.7833\n",
            "Epoch 136/300\n",
            "5/5 [==============================] - 0s 35ms/step - loss: 0.4065 - acc: 0.8794 - val_loss: 0.7076 - val_acc: 0.8079\n",
            "Epoch 137/300\n",
            "5/5 [==============================] - 0s 35ms/step - loss: 0.4226 - acc: 0.8794 - val_loss: 0.6932 - val_acc: 0.8079\n",
            "Epoch 138/300\n",
            "5/5 [==============================] - 0s 42ms/step - loss: 0.3639 - acc: 0.8750 - val_loss: 0.6978 - val_acc: 0.8177\n",
            "Epoch 139/300\n",
            "5/5 [==============================] - 0s 35ms/step - loss: 0.4195 - acc: 0.8706 - val_loss: 0.7129 - val_acc: 0.7931\n",
            "Epoch 140/300\n",
            "5/5 [==============================] - 0s 37ms/step - loss: 0.3862 - acc: 0.8776 - val_loss: 0.7265 - val_acc: 0.7833\n",
            "Epoch 141/300\n",
            "5/5 [==============================] - 0s 35ms/step - loss: 0.3621 - acc: 0.8899 - val_loss: 0.7677 - val_acc: 0.7882\n",
            "Epoch 142/300\n",
            "5/5 [==============================] - 0s 35ms/step - loss: 0.3785 - acc: 0.8802 - val_loss: 0.7945 - val_acc: 0.7783\n",
            "Epoch 143/300\n",
            "5/5 [==============================] - 0s 35ms/step - loss: 0.4062 - acc: 0.8619 - val_loss: 0.7762 - val_acc: 0.7980\n",
            "Epoch 144/300\n",
            "5/5 [==============================] - 0s 35ms/step - loss: 0.4218 - acc: 0.8698 - val_loss: 0.7696 - val_acc: 0.7980\n",
            "Epoch 145/300\n",
            "5/5 [==============================] - 0s 36ms/step - loss: 0.4200 - acc: 0.8584 - val_loss: 0.7864 - val_acc: 0.7980\n",
            "Epoch 146/300\n",
            "5/5 [==============================] - 0s 35ms/step - loss: 0.3568 - acc: 0.8776 - val_loss: 0.7966 - val_acc: 0.7931\n",
            "Epoch 147/300\n",
            "5/5 [==============================] - 0s 38ms/step - loss: 0.3330 - acc: 0.9056 - val_loss: 0.7883 - val_acc: 0.7931\n",
            "Epoch 148/300\n",
            "5/5 [==============================] - 0s 35ms/step - loss: 0.3658 - acc: 0.8881 - val_loss: 0.7692 - val_acc: 0.7980\n",
            "Epoch 149/300\n",
            "5/5 [==============================] - 0s 37ms/step - loss: 0.3213 - acc: 0.8986 - val_loss: 0.7693 - val_acc: 0.7980\n",
            "Epoch 150/300\n",
            "5/5 [==============================] - 0s 35ms/step - loss: 0.3522 - acc: 0.8881 - val_loss: 0.8583 - val_acc: 0.7734\n",
            "Epoch 151/300\n",
            "5/5 [==============================] - 0s 35ms/step - loss: 0.3764 - acc: 0.8767 - val_loss: 0.8261 - val_acc: 0.8030\n",
            "Epoch 152/300\n",
            "5/5 [==============================] - 0s 36ms/step - loss: 0.3988 - acc: 0.8724 - val_loss: 0.8039 - val_acc: 0.8079\n",
            "Epoch 153/300\n",
            "5/5 [==============================] - 0s 35ms/step - loss: 0.3610 - acc: 0.8820 - val_loss: 0.8012 - val_acc: 0.7931\n",
            "Epoch 154/300\n",
            "5/5 [==============================] - 0s 38ms/step - loss: 0.3812 - acc: 0.8794 - val_loss: 0.8052 - val_acc: 0.7931\n",
            "Epoch 155/300\n",
            "5/5 [==============================] - 0s 36ms/step - loss: 0.3456 - acc: 0.8837 - val_loss: 0.7801 - val_acc: 0.7882\n",
            "Epoch 156/300\n",
            "5/5 [==============================] - 0s 36ms/step - loss: 0.3509 - acc: 0.8837 - val_loss: 0.7384 - val_acc: 0.7980\n",
            "Epoch 157/300\n",
            "5/5 [==============================] - 0s 37ms/step - loss: 0.3858 - acc: 0.8776 - val_loss: 0.7354 - val_acc: 0.7980\n",
            "Epoch 158/300\n",
            "5/5 [==============================] - 0s 36ms/step - loss: 0.3545 - acc: 0.8855 - val_loss: 0.7333 - val_acc: 0.8030\n",
            "Epoch 159/300\n",
            "5/5 [==============================] - 0s 36ms/step - loss: 0.3520 - acc: 0.8925 - val_loss: 0.7448 - val_acc: 0.8128\n",
            "Epoch 160/300\n",
            "5/5 [==============================] - 0s 36ms/step - loss: 0.3704 - acc: 0.8837 - val_loss: 0.7875 - val_acc: 0.8030\n",
            "Epoch 161/300\n",
            "5/5 [==============================] - 0s 35ms/step - loss: 0.3589 - acc: 0.8872 - val_loss: 0.8032 - val_acc: 0.8079\n",
            "Epoch 162/300\n",
            "5/5 [==============================] - 0s 37ms/step - loss: 0.2947 - acc: 0.9117 - val_loss: 0.8048 - val_acc: 0.8030\n",
            "Epoch 163/300\n",
            "5/5 [==============================] - 0s 36ms/step - loss: 0.3488 - acc: 0.8855 - val_loss: 0.8039 - val_acc: 0.8030\n",
            "Epoch 164/300\n",
            "5/5 [==============================] - 0s 35ms/step - loss: 0.3064 - acc: 0.9065 - val_loss: 0.8093 - val_acc: 0.8079\n",
            "Epoch 165/300\n",
            "5/5 [==============================] - 0s 40ms/step - loss: 0.3803 - acc: 0.8820 - val_loss: 0.8068 - val_acc: 0.8030\n",
            "Epoch 166/300\n",
            "5/5 [==============================] - 0s 36ms/step - loss: 0.3936 - acc: 0.8872 - val_loss: 0.7603 - val_acc: 0.7980\n",
            "Epoch 167/300\n",
            "5/5 [==============================] - 0s 36ms/step - loss: 0.3490 - acc: 0.8837 - val_loss: 0.7309 - val_acc: 0.7980\n",
            "Epoch 168/300\n",
            "5/5 [==============================] - 0s 38ms/step - loss: 0.3620 - acc: 0.8846 - val_loss: 0.7102 - val_acc: 0.8079\n",
            "Epoch 169/300\n",
            "5/5 [==============================] - 0s 36ms/step - loss: 0.3349 - acc: 0.8864 - val_loss: 0.7591 - val_acc: 0.8128\n",
            "Epoch 170/300\n",
            "5/5 [==============================] - 0s 37ms/step - loss: 0.3342 - acc: 0.8960 - val_loss: 0.7839 - val_acc: 0.8079\n",
            "Epoch 171/300\n",
            "5/5 [==============================] - 0s 37ms/step - loss: 0.3405 - acc: 0.8951 - val_loss: 0.7493 - val_acc: 0.8079\n",
            "Epoch 172/300\n",
            "5/5 [==============================] - 0s 36ms/step - loss: 0.3460 - acc: 0.8907 - val_loss: 0.7825 - val_acc: 0.8079\n",
            "Epoch 173/300\n",
            "5/5 [==============================] - 0s 36ms/step - loss: 0.3712 - acc: 0.8890 - val_loss: 0.8103 - val_acc: 0.8128\n",
            "Epoch 174/300\n",
            "5/5 [==============================] - 0s 36ms/step - loss: 0.2909 - acc: 0.9117 - val_loss: 0.7887 - val_acc: 0.8030\n",
            "Epoch 175/300\n",
            "5/5 [==============================] - 0s 46ms/step - loss: 0.3729 - acc: 0.8872 - val_loss: 0.7698 - val_acc: 0.8227\n",
            "Epoch 176/300\n",
            "5/5 [==============================] - 0s 40ms/step - loss: 0.3388 - acc: 0.8872 - val_loss: 0.8014 - val_acc: 0.7980\n",
            "Epoch 177/300\n",
            "5/5 [==============================] - 0s 36ms/step - loss: 0.3362 - acc: 0.9021 - val_loss: 0.7987 - val_acc: 0.7980\n",
            "Epoch 178/300\n",
            "5/5 [==============================] - 0s 36ms/step - loss: 0.3422 - acc: 0.8986 - val_loss: 0.7792 - val_acc: 0.8030\n",
            "Epoch 179/300\n",
            "5/5 [==============================] - 0s 38ms/step - loss: 0.3448 - acc: 0.8907 - val_loss: 0.7357 - val_acc: 0.8227\n",
            "Epoch 180/300\n",
            "5/5 [==============================] - 0s 38ms/step - loss: 0.3360 - acc: 0.9012 - val_loss: 0.7338 - val_acc: 0.8079\n",
            "Epoch 181/300\n",
            "5/5 [==============================] - 0s 35ms/step - loss: 0.3488 - acc: 0.8934 - val_loss: 0.8036 - val_acc: 0.8030\n",
            "Epoch 182/300\n",
            "5/5 [==============================] - 0s 35ms/step - loss: 0.3318 - acc: 0.9021 - val_loss: 0.8683 - val_acc: 0.7980\n",
            "Epoch 183/300\n",
            "5/5 [==============================] - 0s 36ms/step - loss: 0.3416 - acc: 0.8916 - val_loss: 0.8695 - val_acc: 0.8030\n",
            "Epoch 184/300\n",
            "5/5 [==============================] - 0s 36ms/step - loss: 0.2796 - acc: 0.9091 - val_loss: 0.8226 - val_acc: 0.8030\n",
            "Epoch 185/300\n",
            "5/5 [==============================] - 0s 39ms/step - loss: 0.3815 - acc: 0.8855 - val_loss: 0.7635 - val_acc: 0.8079\n",
            "Epoch 186/300\n",
            "5/5 [==============================] - 0s 36ms/step - loss: 0.3078 - acc: 0.9030 - val_loss: 0.7631 - val_acc: 0.8128\n",
            "Epoch 187/300\n",
            "5/5 [==============================] - 0s 39ms/step - loss: 0.3427 - acc: 0.9021 - val_loss: 0.7780 - val_acc: 0.8030\n",
            "Epoch 188/300\n",
            "5/5 [==============================] - 0s 36ms/step - loss: 0.3076 - acc: 0.9065 - val_loss: 0.7926 - val_acc: 0.8128\n",
            "Epoch 189/300\n",
            "5/5 [==============================] - 0s 35ms/step - loss: 0.3687 - acc: 0.8916 - val_loss: 0.8088 - val_acc: 0.8030\n",
            "Epoch 190/300\n",
            "5/5 [==============================] - 0s 36ms/step - loss: 0.3524 - acc: 0.8890 - val_loss: 0.7982 - val_acc: 0.8030\n",
            "Epoch 191/300\n",
            "5/5 [==============================] - 0s 37ms/step - loss: 0.3324 - acc: 0.8951 - val_loss: 0.7799 - val_acc: 0.7931\n",
            "Epoch 192/300\n",
            "5/5 [==============================] - 0s 39ms/step - loss: 0.3637 - acc: 0.8855 - val_loss: 0.8341 - val_acc: 0.7882\n",
            "Epoch 193/300\n",
            "5/5 [==============================] - 0s 35ms/step - loss: 0.3657 - acc: 0.8960 - val_loss: 0.8323 - val_acc: 0.7882\n",
            "Epoch 194/300\n",
            "5/5 [==============================] - 0s 36ms/step - loss: 0.3254 - acc: 0.8960 - val_loss: 0.8171 - val_acc: 0.7980\n",
            "Epoch 195/300\n",
            "5/5 [==============================] - 0s 36ms/step - loss: 0.3083 - acc: 0.9082 - val_loss: 0.8169 - val_acc: 0.7931\n",
            "Epoch 196/300\n",
            "5/5 [==============================] - 0s 36ms/step - loss: 0.3410 - acc: 0.8942 - val_loss: 0.7460 - val_acc: 0.7980\n",
            "Epoch 197/300\n",
            "5/5 [==============================] - 0s 38ms/step - loss: 0.3252 - acc: 0.8951 - val_loss: 0.6939 - val_acc: 0.8030\n",
            "Epoch 198/300\n",
            "5/5 [==============================] - 0s 37ms/step - loss: 0.3306 - acc: 0.8969 - val_loss: 0.6996 - val_acc: 0.8030\n",
            "Epoch 199/300\n",
            "5/5 [==============================] - 0s 37ms/step - loss: 0.3260 - acc: 0.9038 - val_loss: 0.7029 - val_acc: 0.7980\n",
            "Epoch 200/300\n",
            "5/5 [==============================] - 0s 36ms/step - loss: 0.3443 - acc: 0.8977 - val_loss: 0.7058 - val_acc: 0.8030\n",
            "Epoch 201/300\n",
            "5/5 [==============================] - 0s 38ms/step - loss: 0.3466 - acc: 0.8934 - val_loss: 0.6917 - val_acc: 0.8128\n",
            "Epoch 202/300\n",
            "5/5 [==============================] - 0s 37ms/step - loss: 0.3733 - acc: 0.8785 - val_loss: 0.6508 - val_acc: 0.8177\n",
            "Epoch 203/300\n",
            "5/5 [==============================] - 0s 36ms/step - loss: 0.3636 - acc: 0.8890 - val_loss: 0.6606 - val_acc: 0.8128\n",
            "Epoch 204/300\n",
            "5/5 [==============================] - 0s 37ms/step - loss: 0.3858 - acc: 0.8741 - val_loss: 0.6895 - val_acc: 0.8030\n",
            "Epoch 205/300\n",
            "5/5 [==============================] - 0s 36ms/step - loss: 0.2970 - acc: 0.9082 - val_loss: 0.7100 - val_acc: 0.8079\n",
            "Epoch 206/300\n",
            "5/5 [==============================] - 0s 35ms/step - loss: 0.3402 - acc: 0.8986 - val_loss: 0.7063 - val_acc: 0.8128\n",
            "Epoch 207/300\n",
            "5/5 [==============================] - 0s 40ms/step - loss: 0.3615 - acc: 0.8872 - val_loss: 0.7238 - val_acc: 0.7980\n",
            "Epoch 208/300\n",
            "5/5 [==============================] - 0s 36ms/step - loss: 0.3122 - acc: 0.8960 - val_loss: 0.7147 - val_acc: 0.7980\n",
            "Epoch 209/300\n",
            "5/5 [==============================] - 0s 36ms/step - loss: 0.3296 - acc: 0.9091 - val_loss: 0.7149 - val_acc: 0.8079\n",
            "Epoch 210/300\n",
            "5/5 [==============================] - 0s 35ms/step - loss: 0.3331 - acc: 0.9003 - val_loss: 0.7131 - val_acc: 0.8079\n",
            "Epoch 211/300\n",
            "5/5 [==============================] - 0s 37ms/step - loss: 0.3140 - acc: 0.9082 - val_loss: 0.7345 - val_acc: 0.8128\n",
            "Epoch 212/300\n",
            "5/5 [==============================] - 0s 37ms/step - loss: 0.2752 - acc: 0.9178 - val_loss: 0.7330 - val_acc: 0.8128\n",
            "Epoch 213/300\n",
            "5/5 [==============================] - 0s 36ms/step - loss: 0.2920 - acc: 0.9135 - val_loss: 0.7295 - val_acc: 0.8128\n",
            "Epoch 214/300\n",
            "5/5 [==============================] - 0s 38ms/step - loss: 0.2907 - acc: 0.9082 - val_loss: 0.7451 - val_acc: 0.8177\n",
            "Epoch 215/300\n",
            "5/5 [==============================] - 0s 37ms/step - loss: 0.3574 - acc: 0.8899 - val_loss: 0.7345 - val_acc: 0.8177\n",
            "Epoch 216/300\n",
            "5/5 [==============================] - 0s 41ms/step - loss: 0.3329 - acc: 0.8951 - val_loss: 0.7411 - val_acc: 0.8079\n",
            "Epoch 217/300\n",
            "5/5 [==============================] - 0s 37ms/step - loss: 0.3255 - acc: 0.9038 - val_loss: 0.7147 - val_acc: 0.8227\n",
            "Epoch 218/300\n",
            "5/5 [==============================] - 0s 36ms/step - loss: 0.3197 - acc: 0.9003 - val_loss: 0.6831 - val_acc: 0.8227\n",
            "Epoch 219/300\n",
            "5/5 [==============================] - 0s 35ms/step - loss: 0.2911 - acc: 0.9108 - val_loss: 0.6824 - val_acc: 0.8177\n",
            "Epoch 220/300\n",
            "5/5 [==============================] - 0s 37ms/step - loss: 0.3404 - acc: 0.8977 - val_loss: 0.7267 - val_acc: 0.8079\n",
            "Epoch 221/300\n",
            "5/5 [==============================] - 0s 36ms/step - loss: 0.2971 - acc: 0.9047 - val_loss: 0.7870 - val_acc: 0.8227\n",
            "Epoch 222/300\n",
            "5/5 [==============================] - 0s 37ms/step - loss: 0.3076 - acc: 0.9100 - val_loss: 0.8165 - val_acc: 0.7882\n",
            "Epoch 223/300\n",
            "5/5 [==============================] - 0s 37ms/step - loss: 0.3417 - acc: 0.8951 - val_loss: 0.7433 - val_acc: 0.7980\n",
            "Epoch 224/300\n",
            "5/5 [==============================] - 0s 41ms/step - loss: 0.2999 - acc: 0.9161 - val_loss: 0.6908 - val_acc: 0.8325\n",
            "Epoch 225/300\n",
            "5/5 [==============================] - 0s 35ms/step - loss: 0.3369 - acc: 0.8925 - val_loss: 0.7298 - val_acc: 0.8276\n",
            "Epoch 226/300\n",
            "5/5 [==============================] - 0s 35ms/step - loss: 0.3512 - acc: 0.8872 - val_loss: 0.7330 - val_acc: 0.8177\n",
            "Epoch 227/300\n",
            "5/5 [==============================] - 0s 35ms/step - loss: 0.3016 - acc: 0.9152 - val_loss: 0.6837 - val_acc: 0.8227\n",
            "Epoch 228/300\n",
            "5/5 [==============================] - 0s 42ms/step - loss: 0.3243 - acc: 0.8899 - val_loss: 0.6611 - val_acc: 0.8374\n",
            "Epoch 229/300\n",
            "5/5 [==============================] - 0s 35ms/step - loss: 0.3937 - acc: 0.8872 - val_loss: 0.6937 - val_acc: 0.8325\n",
            "Epoch 230/300\n",
            "5/5 [==============================] - 0s 37ms/step - loss: 0.3208 - acc: 0.9038 - val_loss: 0.7025 - val_acc: 0.8374\n",
            "Epoch 231/300\n",
            "5/5 [==============================] - 0s 35ms/step - loss: 0.3175 - acc: 0.9065 - val_loss: 0.6982 - val_acc: 0.8128\n",
            "Epoch 232/300\n",
            "5/5 [==============================] - 0s 38ms/step - loss: 0.3606 - acc: 0.8846 - val_loss: 0.6889 - val_acc: 0.8128\n",
            "Epoch 233/300\n",
            "5/5 [==============================] - 0s 38ms/step - loss: 0.3099 - acc: 0.9056 - val_loss: 0.6641 - val_acc: 0.8177\n",
            "Epoch 234/300\n",
            "5/5 [==============================] - 0s 42ms/step - loss: 0.3361 - acc: 0.8942 - val_loss: 0.6949 - val_acc: 0.8177\n",
            "Epoch 235/300\n",
            "5/5 [==============================] - 0s 36ms/step - loss: 0.3139 - acc: 0.9021 - val_loss: 0.7092 - val_acc: 0.8079\n",
            "Epoch 236/300\n",
            "5/5 [==============================] - 0s 35ms/step - loss: 0.2796 - acc: 0.9161 - val_loss: 0.6843 - val_acc: 0.8079\n",
            "Epoch 237/300\n",
            "5/5 [==============================] - 0s 37ms/step - loss: 0.3270 - acc: 0.9030 - val_loss: 0.6803 - val_acc: 0.8177\n",
            "Epoch 238/300\n",
            "5/5 [==============================] - 0s 36ms/step - loss: 0.3239 - acc: 0.9038 - val_loss: 0.7364 - val_acc: 0.8276\n",
            "Epoch 239/300\n",
            "5/5 [==============================] - 0s 39ms/step - loss: 0.3367 - acc: 0.9030 - val_loss: 0.8118 - val_acc: 0.8276\n",
            "Epoch 240/300\n",
            "5/5 [==============================] - 0s 37ms/step - loss: 0.2973 - acc: 0.9170 - val_loss: 0.7860 - val_acc: 0.8079\n",
            "Epoch 241/300\n",
            "5/5 [==============================] - 0s 37ms/step - loss: 0.3245 - acc: 0.8934 - val_loss: 0.7016 - val_acc: 0.8177\n",
            "Epoch 242/300\n",
            "5/5 [==============================] - 0s 36ms/step - loss: 0.3535 - acc: 0.8925 - val_loss: 0.6801 - val_acc: 0.8374\n",
            "Epoch 243/300\n",
            "5/5 [==============================] - 0s 39ms/step - loss: 0.3043 - acc: 0.9082 - val_loss: 0.7098 - val_acc: 0.8227\n",
            "Epoch 244/300\n",
            "5/5 [==============================] - 0s 42ms/step - loss: 0.2948 - acc: 0.9187 - val_loss: 0.6845 - val_acc: 0.8424\n",
            "Epoch 245/300\n",
            "5/5 [==============================] - 0s 43ms/step - loss: 0.3059 - acc: 0.9126 - val_loss: 0.6799 - val_acc: 0.8473\n",
            "Epoch 246/300\n",
            "5/5 [==============================] - 0s 41ms/step - loss: 0.3169 - acc: 0.8986 - val_loss: 0.6840 - val_acc: 0.8276\n",
            "Epoch 247/300\n",
            "5/5 [==============================] - 0s 37ms/step - loss: 0.3050 - acc: 0.9135 - val_loss: 0.6803 - val_acc: 0.8276\n",
            "Epoch 248/300\n",
            "5/5 [==============================] - 0s 37ms/step - loss: 0.2780 - acc: 0.9152 - val_loss: 0.7032 - val_acc: 0.8227\n",
            "Epoch 249/300\n",
            "5/5 [==============================] - 0s 36ms/step - loss: 0.3218 - acc: 0.9021 - val_loss: 0.7840 - val_acc: 0.8079\n",
            "Epoch 250/300\n",
            "5/5 [==============================] - 0s 36ms/step - loss: 0.3295 - acc: 0.9030 - val_loss: 0.8169 - val_acc: 0.8030\n",
            "Epoch 251/300\n",
            "5/5 [==============================] - 0s 36ms/step - loss: 0.2979 - acc: 0.9126 - val_loss: 0.7732 - val_acc: 0.7931\n",
            "Epoch 252/300\n",
            "5/5 [==============================] - 0s 40ms/step - loss: 0.2992 - acc: 0.9038 - val_loss: 0.7427 - val_acc: 0.8227\n",
            "Epoch 253/300\n",
            "5/5 [==============================] - 0s 36ms/step - loss: 0.3187 - acc: 0.8977 - val_loss: 0.7224 - val_acc: 0.8227\n",
            "Epoch 254/300\n",
            "5/5 [==============================] - 0s 35ms/step - loss: 0.3584 - acc: 0.8829 - val_loss: 0.6927 - val_acc: 0.8128\n",
            "Epoch 255/300\n",
            "5/5 [==============================] - 0s 39ms/step - loss: 0.2984 - acc: 0.9091 - val_loss: 0.7177 - val_acc: 0.8227\n",
            "Epoch 256/300\n",
            "5/5 [==============================] - 0s 42ms/step - loss: 0.2937 - acc: 0.9108 - val_loss: 0.7388 - val_acc: 0.8128\n",
            "Epoch 257/300\n",
            "5/5 [==============================] - 0s 40ms/step - loss: 0.2909 - acc: 0.9178 - val_loss: 0.7971 - val_acc: 0.8079\n",
            "Epoch 258/300\n",
            "5/5 [==============================] - 0s 37ms/step - loss: 0.3420 - acc: 0.9038 - val_loss: 0.7896 - val_acc: 0.8128\n",
            "Epoch 259/300\n",
            "5/5 [==============================] - 0s 36ms/step - loss: 0.2963 - acc: 0.9117 - val_loss: 0.7494 - val_acc: 0.8177\n",
            "Epoch 260/300\n",
            "5/5 [==============================] - 0s 38ms/step - loss: 0.3021 - acc: 0.9012 - val_loss: 0.7605 - val_acc: 0.8177\n",
            "Epoch 261/300\n",
            "5/5 [==============================] - 0s 36ms/step - loss: 0.3074 - acc: 0.9126 - val_loss: 0.7778 - val_acc: 0.8177\n",
            "Epoch 262/300\n",
            "5/5 [==============================] - 0s 41ms/step - loss: 0.3160 - acc: 0.9065 - val_loss: 0.7821 - val_acc: 0.8030\n",
            "Epoch 263/300\n",
            "5/5 [==============================] - 0s 38ms/step - loss: 0.2819 - acc: 0.9205 - val_loss: 0.7788 - val_acc: 0.8128\n",
            "Epoch 264/300\n",
            "5/5 [==============================] - 0s 38ms/step - loss: 0.3198 - acc: 0.8977 - val_loss: 0.7773 - val_acc: 0.8030\n",
            "Epoch 265/300\n",
            "5/5 [==============================] - 0s 39ms/step - loss: 0.3096 - acc: 0.9021 - val_loss: 0.7332 - val_acc: 0.8177\n",
            "Epoch 266/300\n",
            "5/5 [==============================] - 0s 35ms/step - loss: 0.2852 - acc: 0.9091 - val_loss: 0.7130 - val_acc: 0.8374\n",
            "Epoch 267/300\n",
            "5/5 [==============================] - 0s 38ms/step - loss: 0.3164 - acc: 0.8916 - val_loss: 0.7384 - val_acc: 0.8374\n",
            "Epoch 268/300\n",
            "5/5 [==============================] - 0s 39ms/step - loss: 0.2719 - acc: 0.9161 - val_loss: 0.7426 - val_acc: 0.8424\n",
            "Epoch 269/300\n",
            "5/5 [==============================] - 0s 36ms/step - loss: 0.2668 - acc: 0.9135 - val_loss: 0.7401 - val_acc: 0.8325\n",
            "Epoch 270/300\n",
            "5/5 [==============================] - 0s 39ms/step - loss: 0.2471 - acc: 0.9248 - val_loss: 0.7401 - val_acc: 0.8374\n",
            "Epoch 271/300\n",
            "5/5 [==============================] - 0s 37ms/step - loss: 0.2582 - acc: 0.9213 - val_loss: 0.7464 - val_acc: 0.8325\n",
            "Epoch 272/300\n",
            "5/5 [==============================] - 0s 39ms/step - loss: 0.3038 - acc: 0.9082 - val_loss: 0.7510 - val_acc: 0.8325\n",
            "Epoch 273/300\n",
            "5/5 [==============================] - 0s 36ms/step - loss: 0.3036 - acc: 0.9003 - val_loss: 0.8231 - val_acc: 0.8227\n",
            "Epoch 274/300\n",
            "5/5 [==============================] - 0s 35ms/step - loss: 0.3010 - acc: 0.9056 - val_loss: 0.8730 - val_acc: 0.8227\n",
            "Epoch 275/300\n",
            "5/5 [==============================] - 0s 35ms/step - loss: 0.2798 - acc: 0.9108 - val_loss: 0.8264 - val_acc: 0.8325\n",
            "Epoch 276/300\n",
            "5/5 [==============================] - 0s 36ms/step - loss: 0.2907 - acc: 0.9073 - val_loss: 0.7916 - val_acc: 0.8276\n",
            "Epoch 277/300\n",
            "5/5 [==============================] - 0s 37ms/step - loss: 0.2675 - acc: 0.9108 - val_loss: 0.7853 - val_acc: 0.8374\n",
            "Epoch 278/300\n",
            "5/5 [==============================] - 0s 37ms/step - loss: 0.2572 - acc: 0.9196 - val_loss: 0.7328 - val_acc: 0.8276\n",
            "Epoch 279/300\n",
            "5/5 [==============================] - 0s 36ms/step - loss: 0.2627 - acc: 0.9205 - val_loss: 0.7381 - val_acc: 0.8276\n",
            "Epoch 280/300\n",
            "5/5 [==============================] - 0s 35ms/step - loss: 0.2930 - acc: 0.9091 - val_loss: 0.7495 - val_acc: 0.8325\n",
            "Epoch 281/300\n",
            "5/5 [==============================] - 0s 36ms/step - loss: 0.2855 - acc: 0.9056 - val_loss: 0.7681 - val_acc: 0.8325\n",
            "Epoch 282/300\n",
            "5/5 [==============================] - 0s 35ms/step - loss: 0.2923 - acc: 0.9126 - val_loss: 0.7530 - val_acc: 0.8424\n",
            "Epoch 283/300\n",
            "5/5 [==============================] - 0s 36ms/step - loss: 0.2787 - acc: 0.9117 - val_loss: 0.7372 - val_acc: 0.8424\n",
            "Epoch 284/300\n",
            "5/5 [==============================] - 0s 37ms/step - loss: 0.3036 - acc: 0.9143 - val_loss: 0.7045 - val_acc: 0.8374\n",
            "Epoch 285/300\n",
            "5/5 [==============================] - 0s 39ms/step - loss: 0.2655 - acc: 0.9170 - val_loss: 0.7509 - val_acc: 0.8374\n",
            "Epoch 286/300\n",
            "5/5 [==============================] - 0s 38ms/step - loss: 0.2801 - acc: 0.9161 - val_loss: 0.7785 - val_acc: 0.8325\n",
            "Epoch 287/300\n",
            "5/5 [==============================] - 0s 38ms/step - loss: 0.2905 - acc: 0.9047 - val_loss: 0.7860 - val_acc: 0.8276\n",
            "Epoch 288/300\n",
            "5/5 [==============================] - 0s 37ms/step - loss: 0.2478 - acc: 0.9266 - val_loss: 0.7500 - val_acc: 0.8374\n",
            "Epoch 289/300\n",
            "5/5 [==============================] - 0s 38ms/step - loss: 0.2602 - acc: 0.9143 - val_loss: 0.7337 - val_acc: 0.8276\n",
            "Epoch 290/300\n",
            "5/5 [==============================] - 0s 37ms/step - loss: 0.3103 - acc: 0.9056 - val_loss: 0.7799 - val_acc: 0.8177\n",
            "Epoch 291/300\n",
            "5/5 [==============================] - 0s 36ms/step - loss: 0.2415 - acc: 0.9196 - val_loss: 0.8341 - val_acc: 0.8079\n",
            "Epoch 292/300\n",
            "5/5 [==============================] - 0s 38ms/step - loss: 0.3099 - acc: 0.9056 - val_loss: 0.8379 - val_acc: 0.8128\n",
            "Epoch 293/300\n",
            "5/5 [==============================] - 0s 36ms/step - loss: 0.2756 - acc: 0.9135 - val_loss: 0.6974 - val_acc: 0.8424\n",
            "Epoch 294/300\n",
            "5/5 [==============================] - 0s 47ms/step - loss: 0.3239 - acc: 0.8907 - val_loss: 0.6766 - val_acc: 0.8522\n",
            "Epoch 295/300\n",
            "5/5 [==============================] - 0s 38ms/step - loss: 0.2952 - acc: 0.9187 - val_loss: 0.7096 - val_acc: 0.8227\n",
            "Epoch 296/300\n",
            "5/5 [==============================] - 0s 39ms/step - loss: 0.2811 - acc: 0.9117 - val_loss: 0.7739 - val_acc: 0.8227\n",
            "Epoch 297/300\n",
            "5/5 [==============================] - 0s 37ms/step - loss: 0.2263 - acc: 0.9274 - val_loss: 0.8573 - val_acc: 0.8128\n",
            "Epoch 298/300\n",
            "5/5 [==============================] - 0s 36ms/step - loss: 0.3019 - acc: 0.9091 - val_loss: 0.8057 - val_acc: 0.8128\n",
            "Epoch 299/300\n",
            "5/5 [==============================] - 0s 38ms/step - loss: 0.2570 - acc: 0.9240 - val_loss: 0.7711 - val_acc: 0.8128\n",
            "Epoch 300/300\n",
            "5/5 [==============================] - 0s 38ms/step - loss: 0.2817 - acc: 0.9161 - val_loss: 0.8223 - val_acc: 0.8079\n"
          ]
        }
      ],
      "source": [
        "x_train = train_data.paper_id.to_numpy()\n",
        "history = run_experiment(gnn_model, x_train, y_train)"
      ]
    },
    {
      "cell_type": "markdown",
      "metadata": {
        "id": "WlJxEmeknsLN"
      },
      "source": [
        "Let's plot the learning curves"
      ]
    },
    {
      "cell_type": "code",
      "execution_count": 28,
      "metadata": {
        "colab": {
          "base_uri": "https://localhost:8080/",
          "height": 334
        },
        "id": "74ImiTZ6nsLO",
        "outputId": "bda2ca4e-a7e6-488b-bce8-82c2b2419cce"
      },
      "outputs": [
        {
          "output_type": "display_data",
          "data": {
            "image/png": "[encoded data removed]",
            "text/plain": [
              "<Figure size 1080x360 with 2 Axes>"
            ]
          },
          "metadata": {
            "needs_background": "light"
          }
        }
      ],
      "source": [
        "display_learning_curves(history)"
      ]
    },
    {
      "cell_type": "markdown",
      "metadata": {
        "id": "r7qjAVQnnsLO"
      },
      "source": [
        "Now we evaluate the GNN model on the test data split.\n",
        "The results may vary depending on the training sample, however the GNN model always outperforms\n",
        "the baseline model in terms of the test accuracy."
      ]
    },
    {
      "cell_type": "code",
      "execution_count": 29,
      "metadata": {
        "colab": {
          "base_uri": "https://localhost:8080/"
        },
        "id": "0oFXV2klnsLO",
        "outputId": "cd163f38-1300-43b1-fbdc-923fa9b813db"
      },
      "outputs": [
        {
          "output_type": "stream",
          "name": "stdout",
          "text": [
            "Test accuracy: 80.68%\n"
          ]
        }
      ],
      "source": [
        "x_test = test_data.paper_id.to_numpy()\n",
        "_, test_accuracy = gnn_model.evaluate(x=x_test, y=y_test, verbose=0)\n",
        "print(f\"Test accuracy: {round(test_accuracy * 100, 2)}%\")"
      ]
    },
    {
      "cell_type": "markdown",
      "metadata": {
        "id": "AMaOOrfHnsLO"
      },
      "source": [
        "### Examine the GNN model predictions\n",
        "\n",
        "Let's add the new instances as nodes to the `node_features`, and generate links\n",
        "(citations) to existing nodes."
      ]
    },
    {
      "cell_type": "code",
      "execution_count": 30,
      "metadata": {
        "id": "G4mqZMMtnsLO"
      },
      "outputs": [],
      "source": [
        "# First we add the N new_instances as nodes to the graph\n",
        "# by appending the new_instance to node_features.\n",
        "num_nodes = node_features.shape[0]\n",
        "new_node_features = np.concatenate([node_features, new_instances])\n",
        "# Second we add the M edges (citations) from each new node to a set\n",
        "# of existing nodes in a particular subject\n",
        "new_node_indices = [i + num_nodes for i in range(num_classes)]\n",
        "new_citations = []\n",
        "for subject_idx, group in papers.groupby(\"subject\"):\n",
        "    subject_papers = list(group.paper_id)\n",
        "    # Select random x papers specific subject.\n",
        "    selected_paper_indices1 = np.random.choice(subject_papers, 5)\n",
        "    # Select random y papers from any subject (where y < x).\n",
        "    selected_paper_indices2 = np.random.choice(list(papers.paper_id), 2)\n",
        "    # Merge the selected paper indices.\n",
        "    selected_paper_indices = np.concatenate(\n",
        "        [selected_paper_indices1, selected_paper_indices2], axis=0\n",
        "    )\n",
        "    # Create edges between a citing paper idx and the selected cited papers.\n",
        "    citing_paper_indx = new_node_indices[subject_idx]\n",
        "    for cited_paper_idx in selected_paper_indices:\n",
        "        new_citations.append([citing_paper_indx, cited_paper_idx])\n",
        "\n",
        "new_citations = np.array(new_citations).T\n",
        "new_edges = np.concatenate([edges, new_citations], axis=1)"
      ]
    },
    {
      "cell_type": "markdown",
      "metadata": {
        "id": "77sFJLx8nsLO"
      },
      "source": [
        "Now let's update the `node_features` and the `edges` in the GNN model."
      ]
    },
    {
      "cell_type": "code",
      "execution_count": 31,
      "metadata": {
        "colab": {
          "base_uri": "https://localhost:8080/"
        },
        "id": "N9nujzr0nsLO",
        "outputId": "79ea4a06-583f-4890-fd0e-74e028a7654b"
      },
      "outputs": [
        {
          "output_type": "stream",
          "name": "stdout",
          "text": [
            "Original node_features shape: (2708, 1433)\n",
            "Original edges shape: (2, 5429)\n",
            "New node_features shape: (2715, 1433)\n",
            "New edges shape: (2, 5478)\n",
            "Instance 1:\n",
            "- Case_Based: 58.42%\n",
            "- Genetic_Algorithms: 3.05%\n",
            "- Neural_Networks: 0.53%\n",
            "- Probabilistic_Methods: 3.55%\n",
            "- Reinforcement_Learning: 2.89%\n",
            "- Rule_Learning: 25.52%\n",
            "- Theory: 6.04%\n",
            "Instance 2:\n",
            "- Case_Based: 0.21%\n",
            "- Genetic_Algorithms: 71.49%\n",
            "- Neural_Networks: 0.73%\n",
            "- Probabilistic_Methods: 27.29%\n",
            "- Reinforcement_Learning: 0.16%\n",
            "- Rule_Learning: 0.05%\n",
            "- Theory: 0.05%\n",
            "Instance 3:\n",
            "- Case_Based: 0.08%\n",
            "- Genetic_Algorithms: 0.27%\n",
            "- Neural_Networks: 96.76%\n",
            "- Probabilistic_Methods: 0.53%\n",
            "- Reinforcement_Learning: 0.12%\n",
            "- Rule_Learning: 0.04%\n",
            "- Theory: 2.19%\n",
            "Instance 4:\n",
            "- Case_Based: 0.05%\n",
            "- Genetic_Algorithms: 0.05%\n",
            "- Neural_Networks: 0.62%\n",
            "- Probabilistic_Methods: 99.1%\n",
            "- Reinforcement_Learning: 0.02%\n",
            "- Rule_Learning: 0.02%\n",
            "- Theory: 0.14%\n",
            "Instance 5:\n",
            "- Case_Based: 0.29%\n",
            "- Genetic_Algorithms: 0.05%\n",
            "- Neural_Networks: 0.37%\n",
            "- Probabilistic_Methods: 0.08%\n",
            "- Reinforcement_Learning: 0.57%\n",
            "- Rule_Learning: 0.39%\n",
            "- Theory: 98.24%\n",
            "Instance 6:\n",
            "- Case_Based: 2.3%\n",
            "- Genetic_Algorithms: 87.56%\n",
            "- Neural_Networks: 1.29%\n",
            "- Probabilistic_Methods: 4.77%\n",
            "- Reinforcement_Learning: 1.88%\n",
            "- Rule_Learning: 1.39%\n",
            "- Theory: 0.82%\n",
            "Instance 7:\n",
            "- Case_Based: 7.94%\n",
            "- Genetic_Algorithms: 1.2%\n",
            "- Neural_Networks: 18.13%\n",
            "- Probabilistic_Methods: 38.03%\n",
            "- Reinforcement_Learning: 7.44%\n",
            "- Rule_Learning: 1.1%\n",
            "- Theory: 26.16%\n"
          ]
        }
      ],
      "source": [
        "print(\"Original node_features shape:\", gnn_model.node_features.shape)\n",
        "print(\"Original edges shape:\", gnn_model.edges.shape)\n",
        "gnn_model.node_features = new_node_features\n",
        "gnn_model.edges = new_edges\n",
        "gnn_model.edge_weights = tf.ones(shape=new_edges.shape[1])\n",
        "print(\"New node_features shape:\", gnn_model.node_features.shape)\n",
        "print(\"New edges shape:\", gnn_model.edges.shape)\n",
        "\n",
        "logits = gnn_model.predict(tf.convert_to_tensor(new_node_indices))\n",
        "probabilities = keras.activations.softmax(tf.convert_to_tensor(logits)).numpy()\n",
        "display_class_probabilities(probabilities)"
      ]
    },
    {
      "cell_type": "markdown",
      "metadata": {
        "id": "RK681BhmnsLO"
      },
      "source": [
        "Notice that the probabilities of the expected subjects\n",
        "(to which several citations are added) are higher compared to the baseline model."
      ]
    }
  ],
  "metadata": {
    "colab": {
      "collapsed_sections": [],
      "name": "gnn_citations",
      "provenance": [],
      "toc_visible": true
    },
    "kernelspec": {
      "display_name": "Python 3",
      "language": "python",
      "name": "python3"
    },
    "language_info": {
      "codemirror_mode": {
        "name": "ipython",
        "version": 3
      },
      "file_extension": ".py",
      "mimetype": "text/x-python",
      "name": "python",
      "nbconvert_exporter": "python",
      "pygments_lexer": "ipython3",
      "version": "3.7.0"
    },
    "accelerator": "GPU"
  },
  "nbformat": 4,
  "nbformat_minor": 0
}