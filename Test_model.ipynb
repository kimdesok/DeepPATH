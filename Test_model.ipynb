{
  "nbformat": 4,
  "nbformat_minor": 0,
  "metadata": {
    "colab": {
      "name": "Model_test.ipynb",
      "provenance": [],
      "mount_file_id": "1OBppRXLS2iCDh8_k_LMlKR4TvUad5V8q",
      "authorship_tag": "ABX9TyNJGgdkZw+Dq09fxVD4Ul5D",
      "include_colab_link": true
    },
    "kernelspec": {
      "name": "python3",
      "display_name": "Python 3"
    },
    "language_info": {
      "name": "python"
    },
    "accelerator": "GPU"
  },
  "cells": [
    {
      "cell_type": "markdown",
      "metadata": {
        "id": "view-in-github",
        "colab_type": "text"
      },
      "source": [
        "<a href=\"https://colab.research.google.com/github/kimdesok/DeepPATH/blob/master/Test_model.ipynb\" target=\"_parent\"><img src=\"https://colab.research.google.com/assets/colab-badge.svg\" alt=\"Open In Colab\"/></a>"
      ]
    },
    {
      "cell_type": "code",
      "source": [
        "import os\n",
        "import time\n",
        "import numpy as np\n",
        "import matplotlib.pyplot as plt\n",
        "%matplotlib inline\n",
        "from PIL import Image\n",
        "import tensorflow as tf\n",
        "import sys\n",
        "from sklearn import preprocessing\n",
        "print(tf.__version__)\n",
        "\n",
        "import random\n",
        "\n",
        "!python --version"
      ],
      "metadata": {
        "colab": {
          "base_uri": "https://localhost:8080/"
        },
        "id": "2NJcJOs8G3QL",
        "outputId": "ee86e6bf-e68b-46f7-906c-194640ac54f6"
      },
      "execution_count": 1,
      "outputs": [
        {
          "output_type": "stream",
          "name": "stdout",
          "text": [
            "2.8.2\n",
            "Python 3.7.13\n"
          ]
        }
      ]
    },
    {
      "cell_type": "code",
      "source": [
        "!cp -r ./drive/MyDrive/datasets/TFRecord_Train ./TFRecord_Train"
      ],
      "metadata": {
        "id": "OBMD61NrPgfL"
      },
      "execution_count": 2,
      "outputs": []
    },
    {
      "cell_type": "code",
      "source": [
        "!cp -r ./drive/MyDrive/models/LUAD-Normal_model_finer_full_Adam_0.0001_80_0.7.h5 ."
      ],
      "metadata": {
        "id": "DTqPz7JzVkca"
      },
      "execution_count": 3,
      "outputs": []
    },
    {
      "cell_type": "code",
      "source": [
        "tf.keras.backend.clear_session()\n",
        "\n",
        "#Set your parameters here\n",
        "\n",
        "BATCH_SIZE = 300\n",
        "BUFFER_SIZE = 2000\n",
        "DROP_OUT = 0.7\n",
        "REGULARIZER = 'l1'\n",
        "\n",
        "SET_TYPE = 'small set' #full, ensemble, new, retrain\n",
        "\n",
        "NO_EPOCHS = 200\n",
        "PATIENCE = 15\n",
        "\n",
        "LEARN_RATE = 0.01\n",
        "LEARN_RATE1 = 0.0001\n",
        "\n",
        "DECAY_RATE = 0.96\n",
        "DECAY_STEPS = 10000\n",
        "\n",
        "MODEL_NAME_FINAL = 'LUAD-Normal_model_full_Adam_0.01_80_0.7.h5'\n",
        "\n",
        "MODEL_NAME_FINER = 'LUAD-Normal_model_finer_full_Adam_0.0001_80_0.7.h5'\n",
        "\n",
        "AUTOTUNE = tf.data.AUTOTUNE\n",
        "IMAGE_SIZE = [299, 299]\n",
        "\n",
        "def decayed_learning_rate(step, initial_learning_rate=LEARN_RATE, decay_rate=DECAY_RATE, decay_steps=DECAY_STEPS):\n",
        "    operand = step/float(decay_steps)\n",
        "    return initial_learning_rate * decay_rate**(operand)\n",
        "\n",
        "scale_layer = tf.keras.layers.experimental.preprocessing.Rescaling(scale=1 / 127.5, offset=-1)"
      ],
      "metadata": {
        "id": "ZE72ceXFG6u7"
      },
      "execution_count": 4,
      "outputs": []
    },
    {
      "cell_type": "code",
      "source": [
        "from functools import partial\n",
        "import sys\n",
        "\n",
        "def decode_image(image):\n",
        "    \n",
        "    image = tf.image.decode_jpeg(image,  channels=3)\n",
        "    image = tf.cast(image, tf.float32)\n",
        "    assert len(image.shape) == 3\n",
        "    assert image.shape[2] == 3\n",
        "    image = tf.reshape(image, [*IMAGE_SIZE, 3])    \n",
        "    return image\n",
        "\n",
        "\"\"\"\n",
        "Dataset is loaded for the model to find features and patterns. \n",
        "The labels in the dataset provides the groundtruth information. \n",
        "\"\"\"\n",
        "# To extract the image and the label data from each TFRecord\n",
        "'''\n",
        "The original TFRecord consists of the following data\n",
        "          'image/height': tf.io.FixedLenFeature([], tf.int64),\n",
        "          'image/width': tf.io.FixedLenFeature([], tf.int64),\n",
        "          'image/colorspace': tf.io.FixedLenFeature([], tf.string),\n",
        "          'image/channels': tf.io.FixedLenFeature([], tf.int64),\n",
        "          'image/class/label': tf.io.FixedLenFeature([], tf.int64),\n",
        "          'image/class/text': tf.io.VarLenFeature([], tf.string),\n",
        "          'image/format': tf.io.FixedLenFeature([], tf.string),\n",
        "          'image/filename': tf.io.VarLenFeature([], tf.string),\n",
        "'''\n",
        "def read_tfrecord(example, labeled=True):\n",
        "  \n",
        "    #To create a dictionary describing the features. \n",
        "    tfrecord_format = (\n",
        "        {\n",
        "              'image/encoded': tf.io.FixedLenFeature([], tf.string),\n",
        "              'image/class/label': tf.io.FixedLenFeature([], tf.int64),\n",
        "        } \n",
        "        if labeled\n",
        "        else {\n",
        "            'image/encoded': tf.io.FixedLenFeature([], tf.string),\n",
        "        }\n",
        "    )\n",
        "    \n",
        "    #Define a parser\n",
        "    example = tf.io.parse_single_example(example, tfrecord_format)\n",
        "    \n",
        "    #Convert the data\n",
        "    image = decode_image(example[\"image/encoded\"])\n",
        "    \n",
        "    \n",
        "    if labeled:\n",
        "        label = tf.cast(example[\"image/class/label\"], tf.int32) #No need to cast to tf.int32. why?\n",
        "        return image, label\n",
        "    return image\n",
        "\n",
        "def load_dataset(filenames, labeled=True):\n",
        "    \n",
        "    ignore_order = tf.data.Options()\n",
        "    ignore_order.experimental_deterministic = False  # disable order, increase speed\n",
        "    \n",
        "    dataset = tf.data.TFRecordDataset(\n",
        "        filenames\n",
        "    )  # automatically interleaves reads from multiple files\n",
        "    \n",
        "    dataset = dataset.with_options(\n",
        "        ignore_order\n",
        "    )  # uses data as soon as it streams in, rather than in its original order\n",
        "    \n",
        "    read_in_multi = partial(read_tfrecord, labeled=labeled)\n",
        "    \n",
        "    dataset = dataset.map(\n",
        "        read_in_multi, num_parallel_calls=AUTOTUNE\n",
        "    )\n",
        "    # returns a dataset of (image, label) pairs if labeled=True or just images if labeled=False\n",
        "    return dataset\n",
        "\n",
        "\n",
        "#Get the dataset with JPEG images and labels together, shuffle, prefetch, and batch\n",
        "def get_dataset(filenames, labeled=True):\n",
        "    dataset = load_dataset(filenames, labeled=labeled)\n",
        "    dataset = dataset.shuffle(BUFFER_SIZE)\n",
        "    dataset = dataset.prefetch(buffer_size=AUTOTUNE)\n",
        "    dataset = dataset.batch(BATCH_SIZE) # 64 is better for the unbalanced dataset\n",
        "    return dataset\n",
        "\n",
        "def plot_histogram(values):\n",
        "    plt.figure(figsize=(16, 8))\n",
        "    plt.rc('font', size=14) \n",
        "    plt.hist(values, bins=20)  # density=False would make counts\n",
        "    plt.title(\"Model prediction distribution\")\n",
        "    plt.ylabel('Frequency')\n",
        "    plt.xlabel('Prediction Values')"
      ],
      "metadata": {
        "id": "TyV-4WuLHPfC"
      },
      "execution_count": 5,
      "outputs": []
    },
    {
      "cell_type": "code",
      "source": [
        "data_path ='./TFRecord_Train'\n",
        "tfrecord_filenames = os.listdir(data_path)\n",
        "test_data_filenames = [os.path.join(data_path, name) for name in tfrecord_filenames if 'test' in name]\n",
        "\n",
        "# Shuffle the data filenames to remove the ordering\n",
        "\n",
        "random.shuffle(test_data_filenames)\n",
        "\n",
        "if(SET_TYPE == 'small set'):\n",
        "    test_data_filenames = test_data_filenames[0:4]\n",
        "    test_dataset = get_dataset(test_data_filenames)\n",
        "    no_of_datafiles = int(len(test_data_filenames))\n",
        "\n",
        "else:\n",
        "    test_dataset = get_dataset(test_data_filenames)\n",
        "    no_of_datafiles = int(len(test_data_filenames))\n",
        "    \n",
        "print('test_dataset is loaded with %d TFRecords.'%no_of_datafiles)\n",
        "#print(type(test_dataset))"
      ],
      "metadata": {
        "colab": {
          "base_uri": "https://localhost:8080/"
        },
        "id": "mleU55VvHYQ8",
        "outputId": "79e4f227-97d4-4a00-d83c-252fc11c7be0"
      },
      "execution_count": 7,
      "outputs": [
        {
          "output_type": "stream",
          "name": "stdout",
          "text": [
            "test_dataset is loaded with 4 TFRecords.\n"
          ]
        }
      ]
    },
    {
      "cell_type": "code",
      "source": [
        "print('Loading the final model: %s'%MODEL_NAME_FINER)\n",
        "model = tf.keras.models.load_model(MODEL_NAME_FINER)\n",
        "\n",
        "initial_learning_rate = LEARN_RATE\n",
        "lr_schedule = tf.keras.optimizers.schedules.ExponentialDecay(\n",
        "    initial_learning_rate, decay_steps=DECAY_STEPS, decay_rate=DECAY_RATE, staircase=True\n",
        ")\n",
        "\n",
        "model.compile(\n",
        "    optimizer=tf.keras.optimizers.Adam(learning_rate=lr_schedule),\n",
        "    loss=\"binary_crossentropy\",\n",
        "    metrics=tf.keras.metrics.AUC(name=\"auc\") #For the imbalanced data, AUC is the preferred metric.\n",
        ")"
      ],
      "metadata": {
        "colab": {
          "base_uri": "https://localhost:8080/"
        },
        "id": "7no2TQ-SIyqz",
        "outputId": "f93ac3bd-52f5-4a59-e37a-dd9458e155f2"
      },
      "execution_count": 8,
      "outputs": [
        {
          "output_type": "stream",
          "name": "stdout",
          "text": [
            "Loading the final model: LUAD-Normal_model_finer_full_Adam_0.0001_80_0.7.h5\n"
          ]
        }
      ]
    },
    {
      "cell_type": "code",
      "source": [
        "#TFRecod files to image generator so it can be input to the predict()\n",
        "local = True\n",
        "def get_prediction(image_batch):\n",
        "    \n",
        "    print(type(image_batch))\n",
        "\n",
        "    class_index = list()\n",
        "    \n",
        "    for x in image_batch:\n",
        "        \n",
        "        #rint('x shape:', np.array(x).shape)\n",
        "        x = scale_layer(x)\n",
        "        #x = tf.keras.preprocessing.image.img_to_array(x)\n",
        "        x = tf.expand_dims(x, axis=0)\n",
        "        #print('x shape:', np.array(x).shape)\n",
        "        images = np.vstack([x])\n",
        "        #print('images shape:', np.array(images).shape)\n",
        "        \n",
        "        value = model.predict(x)[0]\n",
        "        #rint(value, end =' ')\n",
        "        \n",
        "        class_index.append(value)\n",
        "        \n",
        "    return class_index\n",
        "\n",
        "if(local):\n",
        "    test_dataset = load_dataset(test_data_filenames[0:10], labeled=False)\n",
        "else:\n",
        "    test_dataset = get_dataset(test_data_filenames[0:10])\n",
        "\n",
        "#a MirroredStrategy object. This will handle distribution and provide a context manager \n",
        "# (MirroredStrategy.scope) to build your model inside.  \n",
        "# https://www.tensorflow.org/tutorials/distribute/keras\n",
        "\n",
        "strategy = tf.distribute.MirroredStrategy()\n",
        "#print('Number of devices: {}'.format(strategy.num_replicas_in_sync))\n",
        "\n",
        "with strategy.scope():\n",
        "    predict_list = get_prediction(test_dataset)\n",
        "    print(len(predict_list))"
      ],
      "metadata": {
        "colab": {
          "base_uri": "https://localhost:8080/"
        },
        "id": "LkvUNk9ZJFQy",
        "outputId": "5b5c8359-f2dd-423e-d3e7-0cf4092728e5"
      },
      "execution_count": null,
      "outputs": [
        {
          "output_type": "stream",
          "name": "stdout",
          "text": [
            "INFO:tensorflow:Using MirroredStrategy with devices ('/job:localhost/replica:0/task:0/device:GPU:0',)\n",
            "<class 'tensorflow.python.data.ops.dataset_ops.ParallelMapDataset'>\n"
          ]
        }
      ]
    },
    {
      "cell_type": "code",
      "source": [
        "print(np.array(predict_list).flatten().shape)\n",
        "plot_histogram(np.array(predict_list).flatten())"
      ],
      "metadata": {
        "colab": {
          "base_uri": "https://localhost:8080/",
          "height": 542
        },
        "id": "o3nEDqYoJNnb",
        "outputId": "d28e6886-6745-487e-b35b-47b891dd29ce"
      },
      "execution_count": 20,
      "outputs": [
        {
          "output_type": "stream",
          "name": "stdout",
          "text": [
            "(898,)\n"
          ]
        },
        {
          "output_type": "display_data",
          "data": {
            "text/plain": [
              "<Figure size 1152x576 with 1 Axes>"
            ],
            "image/png": "[encoded data removed]"
          },
          "metadata": {
            "needs_background": "light"
          }
        }
      ]
    },
    {
      "cell_type": "code",
      "source": [
        "def get_label(label_batch):\n",
        "   \n",
        "    #print('Before inverse transform, Normal ', list(label_batch).count(0), ' Tumor ',  list(label_batch).count(1))\n",
        "    #To print out the label of the image\n",
        "    le = preprocessing.LabelEncoder()\n",
        "    le.fit(['Tumor','Normal'])\n",
        "    \n",
        "    nums = label_batch #.numpy()\n",
        "    print(nums)\n",
        "    \n",
        "    labels = list(le.inverse_transform(nums))\n",
        "     \n",
        "    #print('After inverse transform, Normal ', list(labels).count('Normal'), ' Tumor ',  list(labels).count('Tumor'))\n",
        "    \n",
        "    return labels\n",
        "\n",
        "def plot_histogram(values):\n",
        "    plt.figure(figsize=(16, 8))\n",
        "    plt.rc('font', size=14) \n",
        "    plt.hist(values, bins=20)  # density=False would make counts\n",
        "    plt.title(\"Model prediction distribution\")\n",
        "    plt.ylabel('Frequency')\n",
        "    plt.xlabel('Prediction Values')\n",
        "    \n",
        "def get_accuracy(test_array, predict_array, threshold=0.5):\n",
        "    #print(type(test_labels))\n",
        "    #print(type(predict_values))\n",
        "    predicted = []\n",
        "    true_positive, true_negative = 0,0\n",
        "    false_positive, false_negative = 0,0\n",
        "    for idx in range(len(test_array)):\n",
        "        y = test_array[idx]\n",
        "        if(predict_array[idx] > threshold) :\n",
        "            predicted.append('Tumor')\n",
        "            if(y == 'Tumor'):\n",
        "                true_positive += 1               \n",
        "            else:\n",
        "                false_negative += 1\n",
        "        else:\n",
        "            predicted.append('Non Tumor')\n",
        "            if(y == 'Normal'): \n",
        "                true_negative += 1\n",
        "            else:\n",
        "                false_positive += 1\n",
        "                \n",
        "        #print(predict_array[idx], test_array[idx], end=' ')\n",
        "        #break\n",
        "    accuracy = (true_positive + true_negative) / float(true_positive + true_negative  + false_negative + false_positive + 0.0000001)\n",
        "    sensitivity = true_positive / float(true_positive + false_negative + 0.0000001)\n",
        "    specificity = true_negative / float(true_negative + false_positive + 0.0000001)\n",
        "    precision = true_positive / float(true_positive + false_positive + 0.0000001)\n",
        "    recall = true_positive / float(true_positive + false_negative + 0.0000001)\n",
        "    f1_score = 2.0*precision*recall / (precision + recall + 0.0000001)\n",
        "    print('%0.3f %0.3f %0.3f %0.3f %0.3f %0.3f' \\\n",
        "          %(accuracy, specificity,sensitivity, precision,recall,f1_score))\n",
        "    return predicted\n",
        "\n",
        "def show_batch_predictions(image_batch, predicted):\n",
        "    plt.figure(figsize=(20, 120))\n",
        "    no_images = len(image_batch)\n",
        "    col = 4\n",
        "    row = int(no_images/col) + 1\n",
        "    for n in range(no_images):\n",
        "        ax = plt.subplot(row, col, n + 1)\n",
        "        plt.imshow(image_batch[n] / 255.0)\n",
        "        img_array = tf.expand_dims(image_batch[n], axis=0)\n",
        "        plt.title(str(model.predict(img_array)[0]) + ' ' + str(predicted[n]))\n",
        "        plt.axis(\"off\")\n",
        "    \n",
        "    plt.show()\n",
        "    plt.pause(0.1)"
      ],
      "metadata": {
        "id": "f6FMaiGQKzBt"
      },
      "execution_count": 21,
      "outputs": []
    }
  ]
}